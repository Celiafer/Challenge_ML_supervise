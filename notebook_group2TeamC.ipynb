{
  "nbformat": 4,
  "nbformat_minor": 0,
  "metadata": {
    "colab": {
      "name": "challenge_2.ipynb",
      "provenance": [],
      "collapsed_sections": [
        "cyNjV3NLYoGY",
        "YNWZ_pK_hGuf"
      ],
      "toc_visible": true
    },
    "kernelspec": {
      "name": "python3",
      "display_name": "Python 3"
    }
  },
  "cells": [
    {
      "cell_type": "code",
      "metadata": {
        "id": "f3zlqnMwlDGC"
      },
      "source": [
        "# Libraries: Standard ones\n",
        "import pandas as pd\n",
        "import numpy as np\n",
        "import matplotlib.pyplot as plt\n",
        " \n",
        "#Functions for regression models\n",
        "from sklearn.metrics import silhouette_samples, silhouette_score\n",
        "from sklearn.preprocessing import scale\n",
        "import csv\n",
        "from sklearn import datasets\n",
        "import scipy\n",
        "import statsmodels.api as sm\n",
        "from sklearn.preprocessing import OrdinalEncoder\n",
        "import sklearn\n",
        "from sklearn import preprocessing\n",
        "from sklearn.linear_model import LogisticRegression\n",
        "import sklearn.metrics as metrics \n",
        "from sklearn.metrics import mean_squared_error\n",
        "from sklearn.metrics import mean_absolute_error\n",
        "from sklearn import dummy\n",
        "from sklearn import svm\n",
        "from sklearn import model_selection\n",
        "from sklearn import neighbors, metrics\n",
        "from sklearn.neighbors import KNeighborsRegressor\n",
        "from sklearn import ensemble\n",
        "from sklearn.cluster import KMeans\n",
        "\n",
        "#Functions for Neural Network\n",
        "from random import shuffle\n",
        "from sklearn import tree\n",
        "from sklearn.neighbors import KNeighborsClassifier\n",
        "from sklearn.dummy import DummyClassifier\n",
        "from sklearn.metrics import confusion_matrix\n",
        "import seaborn as sns\n",
        "from mpl_toolkits.mplot3d import Axes3D\n",
        "from IPython.display import Image\n",
        "from sklearn.externals.six import StringIO\n",
        "from sklearn.tree import export_graphviz\n",
        "import pydot\n",
        "from sklearn.model_selection import train_test_split\n",
        "from sklearn.metrics import accuracy_score, precision_score, recall_score\n",
        "import torch\n",
        "import torch.nn as nn\n",
        "import torch.nn.functional as F\n",
        "from torch.autograd import Variable\n",
        "import tensorflow as tf\n",
        "from keras.models import Sequential\n",
        "from keras.layers import Dense\n",
        "from tensorflow.keras import layers\n",
        "from sklearn.preprocessing import StandardScaler\n",
        "from sklearn.neural_network import MLPRegressor\n",
        "from sklearn.neural_network import MLPClassifier\n",
        "from sklearn.decomposition import PCA"
      ],
      "execution_count": null,
      "outputs": []
    },
    {
      "cell_type": "markdown",
      "metadata": {
        "id": "-_H0g2TkmWZ1"
      },
      "source": [
        "Dans un premier temps, nous allons juste vérifier l'affichage des données."
      ]
    },
    {
      "cell_type": "code",
      "metadata": {
        "id": "Xnzk9XrAlrz3",
        "colab": {
          "base_uri": "https://localhost:8080/",
          "height": 341
        },
        "outputId": "3226c067-c937-43fd-b614-7c1d4d4b3b54"
      },
      "source": [
        "yt = pd.read_csv(\"/content/challenge_youtube_toxic.csv\", sep=';', encoding = 'unicode_escape')\n",
        "yt #affichage du tableau de valeur"
      ],
      "execution_count": null,
      "outputs": [
        {
          "output_type": "error",
          "ename": "FileNotFoundError",
          "evalue": "ignored",
          "traceback": [
            "\u001b[0;31m---------------------------------------------------------------------------\u001b[0m",
            "\u001b[0;31mFileNotFoundError\u001b[0m                         Traceback (most recent call last)",
            "\u001b[0;32m<ipython-input-2-99e6e9301051>\u001b[0m in \u001b[0;36m<module>\u001b[0;34m()\u001b[0m\n\u001b[0;32m----> 1\u001b[0;31m \u001b[0myt\u001b[0m \u001b[0;34m=\u001b[0m \u001b[0mpd\u001b[0m\u001b[0;34m.\u001b[0m\u001b[0mread_csv\u001b[0m\u001b[0;34m(\u001b[0m\u001b[0;34m\"/content/challenge_youtube_toxic.csv\"\u001b[0m\u001b[0;34m,\u001b[0m \u001b[0msep\u001b[0m\u001b[0;34m=\u001b[0m\u001b[0;34m';'\u001b[0m\u001b[0;34m,\u001b[0m \u001b[0mencoding\u001b[0m \u001b[0;34m=\u001b[0m \u001b[0;34m'unicode_escape'\u001b[0m\u001b[0;34m)\u001b[0m\u001b[0;34m\u001b[0m\u001b[0;34m\u001b[0m\u001b[0m\n\u001b[0m\u001b[1;32m      2\u001b[0m \u001b[0myt\u001b[0m \u001b[0;31m#affichage du tableau de valeur\u001b[0m\u001b[0;34m\u001b[0m\u001b[0;34m\u001b[0m\u001b[0m\n",
            "\u001b[0;32m/usr/local/lib/python3.6/dist-packages/pandas/io/parsers.py\u001b[0m in \u001b[0;36mread_csv\u001b[0;34m(filepath_or_buffer, sep, delimiter, header, names, index_col, usecols, squeeze, prefix, mangle_dupe_cols, dtype, engine, converters, true_values, false_values, skipinitialspace, skiprows, skipfooter, nrows, na_values, keep_default_na, na_filter, verbose, skip_blank_lines, parse_dates, infer_datetime_format, keep_date_col, date_parser, dayfirst, cache_dates, iterator, chunksize, compression, thousands, decimal, lineterminator, quotechar, quoting, doublequote, escapechar, comment, encoding, dialect, error_bad_lines, warn_bad_lines, delim_whitespace, low_memory, memory_map, float_precision)\u001b[0m\n\u001b[1;32m    686\u001b[0m     )\n\u001b[1;32m    687\u001b[0m \u001b[0;34m\u001b[0m\u001b[0m\n\u001b[0;32m--> 688\u001b[0;31m     \u001b[0;32mreturn\u001b[0m \u001b[0m_read\u001b[0m\u001b[0;34m(\u001b[0m\u001b[0mfilepath_or_buffer\u001b[0m\u001b[0;34m,\u001b[0m \u001b[0mkwds\u001b[0m\u001b[0;34m)\u001b[0m\u001b[0;34m\u001b[0m\u001b[0;34m\u001b[0m\u001b[0m\n\u001b[0m\u001b[1;32m    689\u001b[0m \u001b[0;34m\u001b[0m\u001b[0m\n\u001b[1;32m    690\u001b[0m \u001b[0;34m\u001b[0m\u001b[0m\n",
            "\u001b[0;32m/usr/local/lib/python3.6/dist-packages/pandas/io/parsers.py\u001b[0m in \u001b[0;36m_read\u001b[0;34m(filepath_or_buffer, kwds)\u001b[0m\n\u001b[1;32m    452\u001b[0m \u001b[0;34m\u001b[0m\u001b[0m\n\u001b[1;32m    453\u001b[0m     \u001b[0;31m# Create the parser.\u001b[0m\u001b[0;34m\u001b[0m\u001b[0;34m\u001b[0m\u001b[0;34m\u001b[0m\u001b[0m\n\u001b[0;32m--> 454\u001b[0;31m     \u001b[0mparser\u001b[0m \u001b[0;34m=\u001b[0m \u001b[0mTextFileReader\u001b[0m\u001b[0;34m(\u001b[0m\u001b[0mfp_or_buf\u001b[0m\u001b[0;34m,\u001b[0m \u001b[0;34m**\u001b[0m\u001b[0mkwds\u001b[0m\u001b[0;34m)\u001b[0m\u001b[0;34m\u001b[0m\u001b[0;34m\u001b[0m\u001b[0m\n\u001b[0m\u001b[1;32m    455\u001b[0m \u001b[0;34m\u001b[0m\u001b[0m\n\u001b[1;32m    456\u001b[0m     \u001b[0;32mif\u001b[0m \u001b[0mchunksize\u001b[0m \u001b[0;32mor\u001b[0m \u001b[0miterator\u001b[0m\u001b[0;34m:\u001b[0m\u001b[0;34m\u001b[0m\u001b[0;34m\u001b[0m\u001b[0m\n",
            "\u001b[0;32m/usr/local/lib/python3.6/dist-packages/pandas/io/parsers.py\u001b[0m in \u001b[0;36m__init__\u001b[0;34m(self, f, engine, **kwds)\u001b[0m\n\u001b[1;32m    946\u001b[0m             \u001b[0mself\u001b[0m\u001b[0;34m.\u001b[0m\u001b[0moptions\u001b[0m\u001b[0;34m[\u001b[0m\u001b[0;34m\"has_index_names\"\u001b[0m\u001b[0;34m]\u001b[0m \u001b[0;34m=\u001b[0m \u001b[0mkwds\u001b[0m\u001b[0;34m[\u001b[0m\u001b[0;34m\"has_index_names\"\u001b[0m\u001b[0;34m]\u001b[0m\u001b[0;34m\u001b[0m\u001b[0;34m\u001b[0m\u001b[0m\n\u001b[1;32m    947\u001b[0m \u001b[0;34m\u001b[0m\u001b[0m\n\u001b[0;32m--> 948\u001b[0;31m         \u001b[0mself\u001b[0m\u001b[0;34m.\u001b[0m\u001b[0m_make_engine\u001b[0m\u001b[0;34m(\u001b[0m\u001b[0mself\u001b[0m\u001b[0;34m.\u001b[0m\u001b[0mengine\u001b[0m\u001b[0;34m)\u001b[0m\u001b[0;34m\u001b[0m\u001b[0;34m\u001b[0m\u001b[0m\n\u001b[0m\u001b[1;32m    949\u001b[0m \u001b[0;34m\u001b[0m\u001b[0m\n\u001b[1;32m    950\u001b[0m     \u001b[0;32mdef\u001b[0m \u001b[0mclose\u001b[0m\u001b[0;34m(\u001b[0m\u001b[0mself\u001b[0m\u001b[0;34m)\u001b[0m\u001b[0;34m:\u001b[0m\u001b[0;34m\u001b[0m\u001b[0;34m\u001b[0m\u001b[0m\n",
            "\u001b[0;32m/usr/local/lib/python3.6/dist-packages/pandas/io/parsers.py\u001b[0m in \u001b[0;36m_make_engine\u001b[0;34m(self, engine)\u001b[0m\n\u001b[1;32m   1178\u001b[0m     \u001b[0;32mdef\u001b[0m \u001b[0m_make_engine\u001b[0m\u001b[0;34m(\u001b[0m\u001b[0mself\u001b[0m\u001b[0;34m,\u001b[0m \u001b[0mengine\u001b[0m\u001b[0;34m=\u001b[0m\u001b[0;34m\"c\"\u001b[0m\u001b[0;34m)\u001b[0m\u001b[0;34m:\u001b[0m\u001b[0;34m\u001b[0m\u001b[0;34m\u001b[0m\u001b[0m\n\u001b[1;32m   1179\u001b[0m         \u001b[0;32mif\u001b[0m \u001b[0mengine\u001b[0m \u001b[0;34m==\u001b[0m \u001b[0;34m\"c\"\u001b[0m\u001b[0;34m:\u001b[0m\u001b[0;34m\u001b[0m\u001b[0;34m\u001b[0m\u001b[0m\n\u001b[0;32m-> 1180\u001b[0;31m             \u001b[0mself\u001b[0m\u001b[0;34m.\u001b[0m\u001b[0m_engine\u001b[0m \u001b[0;34m=\u001b[0m \u001b[0mCParserWrapper\u001b[0m\u001b[0;34m(\u001b[0m\u001b[0mself\u001b[0m\u001b[0;34m.\u001b[0m\u001b[0mf\u001b[0m\u001b[0;34m,\u001b[0m \u001b[0;34m**\u001b[0m\u001b[0mself\u001b[0m\u001b[0;34m.\u001b[0m\u001b[0moptions\u001b[0m\u001b[0;34m)\u001b[0m\u001b[0;34m\u001b[0m\u001b[0;34m\u001b[0m\u001b[0m\n\u001b[0m\u001b[1;32m   1181\u001b[0m         \u001b[0;32melse\u001b[0m\u001b[0;34m:\u001b[0m\u001b[0;34m\u001b[0m\u001b[0;34m\u001b[0m\u001b[0m\n\u001b[1;32m   1182\u001b[0m             \u001b[0;32mif\u001b[0m \u001b[0mengine\u001b[0m \u001b[0;34m==\u001b[0m \u001b[0;34m\"python\"\u001b[0m\u001b[0;34m:\u001b[0m\u001b[0;34m\u001b[0m\u001b[0;34m\u001b[0m\u001b[0m\n",
            "\u001b[0;32m/usr/local/lib/python3.6/dist-packages/pandas/io/parsers.py\u001b[0m in \u001b[0;36m__init__\u001b[0;34m(self, src, **kwds)\u001b[0m\n\u001b[1;32m   1991\u001b[0m         \u001b[0;32mif\u001b[0m \u001b[0mkwds\u001b[0m\u001b[0;34m.\u001b[0m\u001b[0mget\u001b[0m\u001b[0;34m(\u001b[0m\u001b[0;34m\"compression\"\u001b[0m\u001b[0;34m)\u001b[0m \u001b[0;32mis\u001b[0m \u001b[0;32mNone\u001b[0m \u001b[0;32mand\u001b[0m \u001b[0mencoding\u001b[0m\u001b[0;34m:\u001b[0m\u001b[0;34m\u001b[0m\u001b[0;34m\u001b[0m\u001b[0m\n\u001b[1;32m   1992\u001b[0m             \u001b[0;32mif\u001b[0m \u001b[0misinstance\u001b[0m\u001b[0;34m(\u001b[0m\u001b[0msrc\u001b[0m\u001b[0;34m,\u001b[0m \u001b[0mstr\u001b[0m\u001b[0;34m)\u001b[0m\u001b[0;34m:\u001b[0m\u001b[0;34m\u001b[0m\u001b[0;34m\u001b[0m\u001b[0m\n\u001b[0;32m-> 1993\u001b[0;31m                 \u001b[0msrc\u001b[0m \u001b[0;34m=\u001b[0m \u001b[0mopen\u001b[0m\u001b[0;34m(\u001b[0m\u001b[0msrc\u001b[0m\u001b[0;34m,\u001b[0m \u001b[0;34m\"rb\"\u001b[0m\u001b[0;34m)\u001b[0m\u001b[0;34m\u001b[0m\u001b[0;34m\u001b[0m\u001b[0m\n\u001b[0m\u001b[1;32m   1994\u001b[0m                 \u001b[0mself\u001b[0m\u001b[0;34m.\u001b[0m\u001b[0mhandles\u001b[0m\u001b[0;34m.\u001b[0m\u001b[0mappend\u001b[0m\u001b[0;34m(\u001b[0m\u001b[0msrc\u001b[0m\u001b[0;34m)\u001b[0m\u001b[0;34m\u001b[0m\u001b[0;34m\u001b[0m\u001b[0m\n\u001b[1;32m   1995\u001b[0m \u001b[0;34m\u001b[0m\u001b[0m\n",
            "\u001b[0;31mFileNotFoundError\u001b[0m: [Errno 2] No such file or directory: '/content/challenge_youtube_toxic.csv'"
          ]
        }
      ]
    },
    {
      "cell_type": "code",
      "metadata": {
        "id": "WeCoJ0KIexwL",
        "colab": {
          "base_uri": "https://localhost:8080/",
          "height": 473
        },
        "outputId": "853df45c-591b-48ff-b03e-3c7bbc38a98d"
      },
      "source": [
        "yt_test = pd.read_csv(\"/content/random_essai.csv\", sep=';', encoding = 'unicode_escape')\n",
        "yt_test #affichage du tableau de valeur"
      ],
      "execution_count": null,
      "outputs": [
        {
          "output_type": "execute_result",
          "data": {
            "text/html": [
              "<div>\n",
              "<style scoped>\n",
              "    .dataframe tbody tr th:only-of-type {\n",
              "        vertical-align: middle;\n",
              "    }\n",
              "\n",
              "    .dataframe tbody tr th {\n",
              "        vertical-align: top;\n",
              "    }\n",
              "\n",
              "    .dataframe thead th {\n",
              "        text-align: right;\n",
              "    }\n",
              "</style>\n",
              "<table border=\"1\" class=\"dataframe\">\n",
              "  <thead>\n",
              "    <tr style=\"text-align: right;\">\n",
              "      <th></th>\n",
              "      <th>ï»¿nbrMot</th>\n",
              "      <th>nbrMotInsulte</th>\n",
              "      <th>nbrMotAllong</th>\n",
              "      <th>nbrMotMAJ</th>\n",
              "      <th>nbrExclMark</th>\n",
              "      <th>nbrQuestMark</th>\n",
              "      <th>thread_count</th>\n",
              "      <th>comment_count</th>\n",
              "      <th>message_count</th>\n",
              "      <th>discussion_count</th>\n",
              "      <th>distinct_authors_count</th>\n",
              "      <th>authors_3channels_count</th>\n",
              "      <th>liked_authors_count</th>\n",
              "      <th>cat_inst</th>\n",
              "      <th>nbrMotInsulte.1</th>\n",
              "      <th>0</th>\n",
              "      <th>1</th>\n",
              "      <th>2</th>\n",
              "      <th>3</th>\n",
              "      <th>4</th>\n",
              "      <th>5</th>\n",
              "      <th>6</th>\n",
              "      <th>7</th>\n",
              "      <th>8</th>\n",
              "      <th>09</th>\n",
              "      <th>10 14</th>\n",
              "      <th>15 20</th>\n",
              "      <th>20 30</th>\n",
              "      <th>30 50</th>\n",
              "      <th>50 100</th>\n",
              "      <th>100 150</th>\n",
              "      <th>150 200</th>\n",
              "      <th>200 300</th>\n",
              "      <th>300 500</th>\n",
              "      <th>500, 1000</th>\n",
              "      <th>1000, 1500</th>\n",
              "      <th>1500, 2000</th>\n",
              "      <th>2000, , 3000</th>\n",
              "      <th>3000 et plus</th>\n",
              "      <th>grp_insulte</th>\n",
              "    </tr>\n",
              "  </thead>\n",
              "  <tbody>\n",
              "    <tr>\n",
              "      <th>0</th>\n",
              "      <td>3813.0</td>\n",
              "      <td>18.0</td>\n",
              "      <td>4.0</td>\n",
              "      <td>145.0</td>\n",
              "      <td>79.0</td>\n",
              "      <td>60.0</td>\n",
              "      <td>45.0</td>\n",
              "      <td>81.0</td>\n",
              "      <td>126.0</td>\n",
              "      <td>28.0</td>\n",
              "      <td>58.0</td>\n",
              "      <td>47.0</td>\n",
              "      <td>23.0</td>\n",
              "      <td>0.0</td>\n",
              "      <td>18.0</td>\n",
              "      <td>0</td>\n",
              "      <td>0</td>\n",
              "      <td>0</td>\n",
              "      <td>0</td>\n",
              "      <td>0</td>\n",
              "      <td>0.0</td>\n",
              "      <td>0.0</td>\n",
              "      <td>0.0</td>\n",
              "      <td>0.0</td>\n",
              "      <td>0.0</td>\n",
              "      <td>0.0</td>\n",
              "      <td>4.0</td>\n",
              "      <td>0.0</td>\n",
              "      <td>0.0</td>\n",
              "      <td>0.0</td>\n",
              "      <td>0.0</td>\n",
              "      <td>0.0</td>\n",
              "      <td>0.0</td>\n",
              "      <td>0.0</td>\n",
              "      <td>0.0</td>\n",
              "      <td>0.0</td>\n",
              "      <td>0.0</td>\n",
              "      <td>0.0</td>\n",
              "      <td>0.0</td>\n",
              "      <td>4.0</td>\n",
              "    </tr>\n",
              "    <tr>\n",
              "      <th>1</th>\n",
              "      <td>28.0</td>\n",
              "      <td>2.0</td>\n",
              "      <td>0.0</td>\n",
              "      <td>1.0</td>\n",
              "      <td>0.0</td>\n",
              "      <td>0.0</td>\n",
              "      <td>3.0</td>\n",
              "      <td>0.0</td>\n",
              "      <td>3.0</td>\n",
              "      <td>0.0</td>\n",
              "      <td>3.0</td>\n",
              "      <td>1.0</td>\n",
              "      <td>0.0</td>\n",
              "      <td>1.0</td>\n",
              "      <td>2.0</td>\n",
              "      <td>0</td>\n",
              "      <td>0</td>\n",
              "      <td>0</td>\n",
              "      <td>0</td>\n",
              "      <td>0</td>\n",
              "      <td>1.0</td>\n",
              "      <td>0.0</td>\n",
              "      <td>0.0</td>\n",
              "      <td>0.0</td>\n",
              "      <td>0.0</td>\n",
              "      <td>0.0</td>\n",
              "      <td>0.0</td>\n",
              "      <td>0.0</td>\n",
              "      <td>0.0</td>\n",
              "      <td>0.0</td>\n",
              "      <td>0.0</td>\n",
              "      <td>0.0</td>\n",
              "      <td>0.0</td>\n",
              "      <td>0.0</td>\n",
              "      <td>0.0</td>\n",
              "      <td>0.0</td>\n",
              "      <td>0.0</td>\n",
              "      <td>0.0</td>\n",
              "      <td>0.0</td>\n",
              "      <td>1.0</td>\n",
              "    </tr>\n",
              "    <tr>\n",
              "      <th>2</th>\n",
              "      <td>3804.0</td>\n",
              "      <td>68.0</td>\n",
              "      <td>9.0</td>\n",
              "      <td>56.0</td>\n",
              "      <td>75.0</td>\n",
              "      <td>54.0</td>\n",
              "      <td>52.0</td>\n",
              "      <td>86.0</td>\n",
              "      <td>138.0</td>\n",
              "      <td>22.0</td>\n",
              "      <td>83.0</td>\n",
              "      <td>49.0</td>\n",
              "      <td>36.0</td>\n",
              "      <td>0.0</td>\n",
              "      <td>68.0</td>\n",
              "      <td>0</td>\n",
              "      <td>0</td>\n",
              "      <td>3</td>\n",
              "      <td>0</td>\n",
              "      <td>0</td>\n",
              "      <td>0.0</td>\n",
              "      <td>0.0</td>\n",
              "      <td>0.0</td>\n",
              "      <td>0.0</td>\n",
              "      <td>0.0</td>\n",
              "      <td>0.0</td>\n",
              "      <td>0.0</td>\n",
              "      <td>0.0</td>\n",
              "      <td>0.0</td>\n",
              "      <td>7.0</td>\n",
              "      <td>0.0</td>\n",
              "      <td>0.0</td>\n",
              "      <td>0.0</td>\n",
              "      <td>0.0</td>\n",
              "      <td>0.0</td>\n",
              "      <td>0.0</td>\n",
              "      <td>0.0</td>\n",
              "      <td>0.0</td>\n",
              "      <td>0.0</td>\n",
              "      <td>7.0</td>\n",
              "    </tr>\n",
              "    <tr>\n",
              "      <th>3</th>\n",
              "      <td>4.0</td>\n",
              "      <td>0.0</td>\n",
              "      <td>1.0</td>\n",
              "      <td>2.0</td>\n",
              "      <td>0.0</td>\n",
              "      <td>0.0</td>\n",
              "      <td>2.0</td>\n",
              "      <td>0.0</td>\n",
              "      <td>2.0</td>\n",
              "      <td>0.0</td>\n",
              "      <td>2.0</td>\n",
              "      <td>0.0</td>\n",
              "      <td>0.0</td>\n",
              "      <td>2.0</td>\n",
              "      <td>0.0</td>\n",
              "      <td>0</td>\n",
              "      <td>0</td>\n",
              "      <td>0</td>\n",
              "      <td>0</td>\n",
              "      <td>0</td>\n",
              "      <td>1.0</td>\n",
              "      <td>0.0</td>\n",
              "      <td>0.0</td>\n",
              "      <td>0.0</td>\n",
              "      <td>0.0</td>\n",
              "      <td>0.0</td>\n",
              "      <td>0.0</td>\n",
              "      <td>0.0</td>\n",
              "      <td>0.0</td>\n",
              "      <td>0.0</td>\n",
              "      <td>0.0</td>\n",
              "      <td>0.0</td>\n",
              "      <td>0.0</td>\n",
              "      <td>0.0</td>\n",
              "      <td>0.0</td>\n",
              "      <td>0.0</td>\n",
              "      <td>0.0</td>\n",
              "      <td>0.0</td>\n",
              "      <td>0.0</td>\n",
              "      <td>1.0</td>\n",
              "    </tr>\n",
              "    <tr>\n",
              "      <th>4</th>\n",
              "      <td>737.0</td>\n",
              "      <td>3.0</td>\n",
              "      <td>1.0</td>\n",
              "      <td>18.0</td>\n",
              "      <td>5.0</td>\n",
              "      <td>6.0</td>\n",
              "      <td>17.0</td>\n",
              "      <td>6.0</td>\n",
              "      <td>23.0</td>\n",
              "      <td>4.0</td>\n",
              "      <td>18.0</td>\n",
              "      <td>7.0</td>\n",
              "      <td>7.0</td>\n",
              "      <td>3.0</td>\n",
              "      <td>3.0</td>\n",
              "      <td>1</td>\n",
              "      <td>0</td>\n",
              "      <td>0</td>\n",
              "      <td>0</td>\n",
              "      <td>0</td>\n",
              "      <td>1.0</td>\n",
              "      <td>0.0</td>\n",
              "      <td>0.0</td>\n",
              "      <td>0.0</td>\n",
              "      <td>0.0</td>\n",
              "      <td>0.0</td>\n",
              "      <td>0.0</td>\n",
              "      <td>0.0</td>\n",
              "      <td>0.0</td>\n",
              "      <td>0.0</td>\n",
              "      <td>0.0</td>\n",
              "      <td>0.0</td>\n",
              "      <td>0.0</td>\n",
              "      <td>0.0</td>\n",
              "      <td>0.0</td>\n",
              "      <td>0.0</td>\n",
              "      <td>0.0</td>\n",
              "      <td>0.0</td>\n",
              "      <td>0.0</td>\n",
              "      <td>1.0</td>\n",
              "    </tr>\n",
              "    <tr>\n",
              "      <th>...</th>\n",
              "      <td>...</td>\n",
              "      <td>...</td>\n",
              "      <td>...</td>\n",
              "      <td>...</td>\n",
              "      <td>...</td>\n",
              "      <td>...</td>\n",
              "      <td>...</td>\n",
              "      <td>...</td>\n",
              "      <td>...</td>\n",
              "      <td>...</td>\n",
              "      <td>...</td>\n",
              "      <td>...</td>\n",
              "      <td>...</td>\n",
              "      <td>...</td>\n",
              "      <td>...</td>\n",
              "      <td>...</td>\n",
              "      <td>...</td>\n",
              "      <td>...</td>\n",
              "      <td>...</td>\n",
              "      <td>...</td>\n",
              "      <td>...</td>\n",
              "      <td>...</td>\n",
              "      <td>...</td>\n",
              "      <td>...</td>\n",
              "      <td>...</td>\n",
              "      <td>...</td>\n",
              "      <td>...</td>\n",
              "      <td>...</td>\n",
              "      <td>...</td>\n",
              "      <td>...</td>\n",
              "      <td>...</td>\n",
              "      <td>...</td>\n",
              "      <td>...</td>\n",
              "      <td>...</td>\n",
              "      <td>...</td>\n",
              "      <td>...</td>\n",
              "      <td>...</td>\n",
              "      <td>...</td>\n",
              "      <td>...</td>\n",
              "      <td>...</td>\n",
              "    </tr>\n",
              "    <tr>\n",
              "      <th>46098</th>\n",
              "      <td>228.0</td>\n",
              "      <td>1.0</td>\n",
              "      <td>1.0</td>\n",
              "      <td>0.0</td>\n",
              "      <td>0.0</td>\n",
              "      <td>1.0</td>\n",
              "      <td>1.0</td>\n",
              "      <td>0.0</td>\n",
              "      <td>1.0</td>\n",
              "      <td>0.0</td>\n",
              "      <td>1.0</td>\n",
              "      <td>0.0</td>\n",
              "      <td>0.0</td>\n",
              "      <td>3.0</td>\n",
              "      <td>1.0</td>\n",
              "      <td>1</td>\n",
              "      <td>0</td>\n",
              "      <td>0</td>\n",
              "      <td>0</td>\n",
              "      <td>0</td>\n",
              "      <td>1.0</td>\n",
              "      <td>0.0</td>\n",
              "      <td>0.0</td>\n",
              "      <td>0.0</td>\n",
              "      <td>0.0</td>\n",
              "      <td>0.0</td>\n",
              "      <td>0.0</td>\n",
              "      <td>0.0</td>\n",
              "      <td>0.0</td>\n",
              "      <td>0.0</td>\n",
              "      <td>0.0</td>\n",
              "      <td>0.0</td>\n",
              "      <td>0.0</td>\n",
              "      <td>0.0</td>\n",
              "      <td>0.0</td>\n",
              "      <td>0.0</td>\n",
              "      <td>0.0</td>\n",
              "      <td>0.0</td>\n",
              "      <td>0.0</td>\n",
              "      <td>1.0</td>\n",
              "    </tr>\n",
              "    <tr>\n",
              "      <th>46099</th>\n",
              "      <td>287.0</td>\n",
              "      <td>2.0</td>\n",
              "      <td>0.0</td>\n",
              "      <td>3.0</td>\n",
              "      <td>2.0</td>\n",
              "      <td>0.0</td>\n",
              "      <td>8.0</td>\n",
              "      <td>0.0</td>\n",
              "      <td>8.0</td>\n",
              "      <td>0.0</td>\n",
              "      <td>7.0</td>\n",
              "      <td>5.0</td>\n",
              "      <td>3.0</td>\n",
              "      <td>1.0</td>\n",
              "      <td>2.0</td>\n",
              "      <td>0</td>\n",
              "      <td>2</td>\n",
              "      <td>0</td>\n",
              "      <td>0</td>\n",
              "      <td>0</td>\n",
              "      <td>1.0</td>\n",
              "      <td>0.0</td>\n",
              "      <td>0.0</td>\n",
              "      <td>0.0</td>\n",
              "      <td>0.0</td>\n",
              "      <td>0.0</td>\n",
              "      <td>0.0</td>\n",
              "      <td>0.0</td>\n",
              "      <td>0.0</td>\n",
              "      <td>0.0</td>\n",
              "      <td>0.0</td>\n",
              "      <td>0.0</td>\n",
              "      <td>0.0</td>\n",
              "      <td>0.0</td>\n",
              "      <td>0.0</td>\n",
              "      <td>0.0</td>\n",
              "      <td>0.0</td>\n",
              "      <td>0.0</td>\n",
              "      <td>0.0</td>\n",
              "      <td>2.0</td>\n",
              "    </tr>\n",
              "    <tr>\n",
              "      <th>46100</th>\n",
              "      <td>176.0</td>\n",
              "      <td>0.0</td>\n",
              "      <td>0.0</td>\n",
              "      <td>0.0</td>\n",
              "      <td>6.0</td>\n",
              "      <td>3.0</td>\n",
              "      <td>2.0</td>\n",
              "      <td>1.0</td>\n",
              "      <td>3.0</td>\n",
              "      <td>1.0</td>\n",
              "      <td>3.0</td>\n",
              "      <td>0.0</td>\n",
              "      <td>1.0</td>\n",
              "      <td>3.0</td>\n",
              "      <td>0.0</td>\n",
              "      <td>0</td>\n",
              "      <td>0</td>\n",
              "      <td>3</td>\n",
              "      <td>0</td>\n",
              "      <td>0</td>\n",
              "      <td>1.0</td>\n",
              "      <td>0.0</td>\n",
              "      <td>0.0</td>\n",
              "      <td>0.0</td>\n",
              "      <td>0.0</td>\n",
              "      <td>0.0</td>\n",
              "      <td>0.0</td>\n",
              "      <td>0.0</td>\n",
              "      <td>0.0</td>\n",
              "      <td>0.0</td>\n",
              "      <td>0.0</td>\n",
              "      <td>0.0</td>\n",
              "      <td>0.0</td>\n",
              "      <td>0.0</td>\n",
              "      <td>0.0</td>\n",
              "      <td>0.0</td>\n",
              "      <td>0.0</td>\n",
              "      <td>0.0</td>\n",
              "      <td>0.0</td>\n",
              "      <td>3.0</td>\n",
              "    </tr>\n",
              "    <tr>\n",
              "      <th>46101</th>\n",
              "      <td>16608.0</td>\n",
              "      <td>152.0</td>\n",
              "      <td>66.0</td>\n",
              "      <td>335.0</td>\n",
              "      <td>177.0</td>\n",
              "      <td>179.0</td>\n",
              "      <td>267.0</td>\n",
              "      <td>471.0</td>\n",
              "      <td>738.0</td>\n",
              "      <td>48.0</td>\n",
              "      <td>440.0</td>\n",
              "      <td>278.0</td>\n",
              "      <td>141.0</td>\n",
              "      <td>0.0</td>\n",
              "      <td>152.0</td>\n",
              "      <td>1</td>\n",
              "      <td>0</td>\n",
              "      <td>0</td>\n",
              "      <td>0</td>\n",
              "      <td>0</td>\n",
              "      <td>0.0</td>\n",
              "      <td>0.0</td>\n",
              "      <td>0.0</td>\n",
              "      <td>0.0</td>\n",
              "      <td>0.0</td>\n",
              "      <td>0.0</td>\n",
              "      <td>0.0</td>\n",
              "      <td>0.0</td>\n",
              "      <td>0.0</td>\n",
              "      <td>0.0</td>\n",
              "      <td>0.0</td>\n",
              "      <td>9.0</td>\n",
              "      <td>0.0</td>\n",
              "      <td>0.0</td>\n",
              "      <td>0.0</td>\n",
              "      <td>0.0</td>\n",
              "      <td>0.0</td>\n",
              "      <td>0.0</td>\n",
              "      <td>0.0</td>\n",
              "      <td>9.0</td>\n",
              "    </tr>\n",
              "    <tr>\n",
              "      <th>46102</th>\n",
              "      <td>NaN</td>\n",
              "      <td>NaN</td>\n",
              "      <td>NaN</td>\n",
              "      <td>NaN</td>\n",
              "      <td>NaN</td>\n",
              "      <td>NaN</td>\n",
              "      <td>NaN</td>\n",
              "      <td>NaN</td>\n",
              "      <td>NaN</td>\n",
              "      <td>NaN</td>\n",
              "      <td>NaN</td>\n",
              "      <td>NaN</td>\n",
              "      <td>NaN</td>\n",
              "      <td>NaN</td>\n",
              "      <td>NaN</td>\n",
              "      <td>0</td>\n",
              "      <td>0</td>\n",
              "      <td>0</td>\n",
              "      <td>0</td>\n",
              "      <td>0</td>\n",
              "      <td>NaN</td>\n",
              "      <td>NaN</td>\n",
              "      <td>NaN</td>\n",
              "      <td>NaN</td>\n",
              "      <td>NaN</td>\n",
              "      <td>NaN</td>\n",
              "      <td>NaN</td>\n",
              "      <td>NaN</td>\n",
              "      <td>NaN</td>\n",
              "      <td>NaN</td>\n",
              "      <td>NaN</td>\n",
              "      <td>NaN</td>\n",
              "      <td>NaN</td>\n",
              "      <td>NaN</td>\n",
              "      <td>NaN</td>\n",
              "      <td>NaN</td>\n",
              "      <td>NaN</td>\n",
              "      <td>NaN</td>\n",
              "      <td>NaN</td>\n",
              "      <td>NaN</td>\n",
              "    </tr>\n",
              "  </tbody>\n",
              "</table>\n",
              "<p>46103 rows × 40 columns</p>\n",
              "</div>"
            ],
            "text/plain": [
              "       ï»¿nbrMot  nbrMotInsulte  ...  3000 et plus  grp_insulte\n",
              "0         3813.0           18.0  ...           0.0          4.0\n",
              "1           28.0            2.0  ...           0.0          1.0\n",
              "2         3804.0           68.0  ...           0.0          7.0\n",
              "3            4.0            0.0  ...           0.0          1.0\n",
              "4          737.0            3.0  ...           0.0          1.0\n",
              "...          ...            ...  ...           ...          ...\n",
              "46098      228.0            1.0  ...           0.0          1.0\n",
              "46099      287.0            2.0  ...           0.0          2.0\n",
              "46100      176.0            0.0  ...           0.0          3.0\n",
              "46101    16608.0          152.0  ...           0.0          9.0\n",
              "46102        NaN            NaN  ...           NaN          NaN\n",
              "\n",
              "[46103 rows x 40 columns]"
            ]
          },
          "metadata": {
            "tags": []
          },
          "execution_count": 12
        }
      ]
    },
    {
      "cell_type": "markdown",
      "metadata": {
        "id": "bOxprFZcmUQc"
      },
      "source": [
        "Nous allons maintenant effectuer un elagage des données inutiles puis, en utilisant un tableau croisé dynamique, essayer de trouver des premiers liens entre les différentes données. "
      ]
    },
    {
      "cell_type": "markdown",
      "metadata": {
        "id": "nC4AkqTxrJ9M"
      },
      "source": [
        "![données_base.png](data:image/png;base64,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)"
      ]
    },
    {
      "cell_type": "markdown",
      "metadata": {
        "id": "0yLyYzI4rPv1"
      },
      "source": [
        "Ainsi, instinctivement, nous avons regardé le nombre d'insulte par vidéo en fonction de la catégorie de chaine. La différence entre ces catégories est très présente, avec par exemple 20 insultes en moyenne pour les \"Pure Players\" contre 3,7 pour les \"Alternatif\"."
      ]
    },
    {
      "cell_type": "markdown",
      "metadata": {
        "id": "kZJpqVW4tGPV"
      },
      "source": [
        "![Capture d’écran 2020-11-10 à 11.27.21.png](data:image/png;base64,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)"
      ]
    },
    {
      "cell_type": "markdown",
      "metadata": {
        "id": "ZBrfW7a8trNI"
      },
      "source": [
        "Logiquement, nous avons trié par le 2ème type de catégorie afin d'obtenir les 3 sous-groupe Core, Niche et partisan. Nous remarquons une assez grande proximité entre Niche et Partisan, mais le double d'insulte par vidéo pour Core qui se situe à une moyenne de 10 insultes par vidéo. On va tracer cela pour le mettre en lumière à l'aide d'une colormap. "
      ]
    },
    {
      "cell_type": "code",
      "metadata": {
        "id": "0ObAxN7YneYy"
      },
      "source": [
        "def plot_corr(corr):\n",
        "    # https://seaborn.pydata.org/examples/many_pairwise_correlations.html\n",
        "    # Generate a mask for the upper triangle\n",
        "    mask = np.zeros_like(corr, dtype=np.bool)\n",
        "    mask[np.triu_indices_from(mask)] = True\n",
        "    \n",
        "    # Generate a custom diverging colormap\n",
        "    cmap = sns.diverging_palette(220, 10, as_cmap=True)\n",
        "\n",
        "    sns.heatmap(corr, mask=mask, cmap=cmap)\n"
      ],
      "execution_count": null,
      "outputs": []
    },
    {
      "cell_type": "code",
      "metadata": {
        "id": "VdlfAvVRv5uY"
      },
      "source": [
        "yt2 = yt.drop(yt.columns[-1], axis='columns')\n"
      ],
      "execution_count": null,
      "outputs": []
    },
    {
      "cell_type": "markdown",
      "metadata": {
        "id": "iRmCimu9wiTs"
      },
      "source": [
        "On remarque que la dernière colonne n'a pas de sens (comme précisé dans l'énoncé), donc, on la supprime en créant un nouveau dataframe sans elle. "
      ]
    },
    {
      "cell_type": "code",
      "metadata": {
        "id": "XGPMRS2FvWqa"
      },
      "source": [
        "corr = yt2.corr()"
      ],
      "execution_count": null,
      "outputs": []
    },
    {
      "cell_type": "code",
      "metadata": {
        "id": "3Vz5gHTyveoS",
        "colab": {
          "base_uri": "https://localhost:8080/",
          "height": 383
        },
        "outputId": "71ccf483-211b-4588-b53a-378864aa9bac"
      },
      "source": [
        "plot_corr(corr)"
      ],
      "execution_count": null,
      "outputs": [
        {
          "output_type": "display_data",
          "data": {
            "image/png": "[encoded data removed]",
            "text/plain": [
              "<Figure size 432x288 with 2 Axes>"
            ]
          },
          "metadata": {
            "tags": [],
            "needs_background": "light"
          }
        }
      ]
    },
    {
      "cell_type": "code",
      "metadata": {
        "id": "NMzoUXkfg3r7",
        "colab": {
          "base_uri": "https://localhost:8080/",
          "height": 751
        },
        "outputId": "2050e8a4-7030-4bdf-e284-e4978d9b11ce"
      },
      "source": [
        "yt.corr(method = 'pearson')"
      ],
      "execution_count": null,
      "outputs": [
        {
          "output_type": "execute_result",
          "data": {
            "text/html": [
              "<div>\n",
              "<style scoped>\n",
              "    .dataframe tbody tr th:only-of-type {\n",
              "        vertical-align: middle;\n",
              "    }\n",
              "\n",
              "    .dataframe tbody tr th {\n",
              "        vertical-align: top;\n",
              "    }\n",
              "\n",
              "    .dataframe thead th {\n",
              "        text-align: right;\n",
              "    }\n",
              "</style>\n",
              "<table border=\"1\" class=\"dataframe\">\n",
              "  <thead>\n",
              "    <tr style=\"text-align: right;\">\n",
              "      <th></th>\n",
              "      <th>nbrMot</th>\n",
              "      <th>nbrMotInsulte</th>\n",
              "      <th>nbrMotAllong</th>\n",
              "      <th>nbrMotMAJ</th>\n",
              "      <th>nbrExclMark</th>\n",
              "      <th>nbrQuestMark</th>\n",
              "      <th>nbrMotMoyenne</th>\n",
              "      <th>nbrMotInsulteMoyenne</th>\n",
              "      <th>nbrMotAllongMoyenne</th>\n",
              "      <th>nbrMotMAJMoyenne</th>\n",
              "      <th>nbrExclMarkMoyenne</th>\n",
              "      <th>nbrQuestMarkMoyenne</th>\n",
              "      <th>thread_count</th>\n",
              "      <th>comment_count</th>\n",
              "      <th>message_count</th>\n",
              "      <th>discussion_count</th>\n",
              "      <th>distinct_authors_count</th>\n",
              "      <th>authors_3channels_count</th>\n",
              "      <th>liked_authors_count</th>\n",
              "      <th>subscriberCount</th>\n",
              "      <th>viewCount</th>\n",
              "      <th>cat_inst</th>\n",
              "    </tr>\n",
              "  </thead>\n",
              "  <tbody>\n",
              "    <tr>\n",
              "      <th>nbrMot</th>\n",
              "      <td>1.000000</td>\n",
              "      <td>0.871491</td>\n",
              "      <td>0.851083</td>\n",
              "      <td>0.843185</td>\n",
              "      <td>0.804115</td>\n",
              "      <td>0.972784</td>\n",
              "      <td>0.075012</td>\n",
              "      <td>0.014323</td>\n",
              "      <td>0.006139</td>\n",
              "      <td>-0.001154</td>\n",
              "      <td>-0.015492</td>\n",
              "      <td>0.012033</td>\n",
              "      <td>0.775471</td>\n",
              "      <td>0.924695</td>\n",
              "      <td>0.902798</td>\n",
              "      <td>0.868923</td>\n",
              "      <td>0.813164</td>\n",
              "      <td>0.851122</td>\n",
              "      <td>0.848354</td>\n",
              "      <td>0.158753</td>\n",
              "      <td>0.073630</td>\n",
              "      <td>-0.056210</td>\n",
              "    </tr>\n",
              "    <tr>\n",
              "      <th>nbrMotInsulte</th>\n",
              "      <td>0.871491</td>\n",
              "      <td>1.000000</td>\n",
              "      <td>0.766110</td>\n",
              "      <td>0.819455</td>\n",
              "      <td>0.763175</td>\n",
              "      <td>0.854249</td>\n",
              "      <td>0.041867</td>\n",
              "      <td>0.048479</td>\n",
              "      <td>0.004033</td>\n",
              "      <td>-0.000518</td>\n",
              "      <td>-0.009884</td>\n",
              "      <td>0.007036</td>\n",
              "      <td>0.718392</td>\n",
              "      <td>0.853120</td>\n",
              "      <td>0.834391</td>\n",
              "      <td>0.753119</td>\n",
              "      <td>0.750171</td>\n",
              "      <td>0.788718</td>\n",
              "      <td>0.778689</td>\n",
              "      <td>0.083189</td>\n",
              "      <td>0.057689</td>\n",
              "      <td>-0.058446</td>\n",
              "    </tr>\n",
              "    <tr>\n",
              "      <th>nbrMotAllong</th>\n",
              "      <td>0.851083</td>\n",
              "      <td>0.766110</td>\n",
              "      <td>1.000000</td>\n",
              "      <td>0.771871</td>\n",
              "      <td>0.811619</td>\n",
              "      <td>0.863186</td>\n",
              "      <td>0.044013</td>\n",
              "      <td>0.009013</td>\n",
              "      <td>0.046536</td>\n",
              "      <td>-0.001104</td>\n",
              "      <td>-0.016591</td>\n",
              "      <td>0.006716</td>\n",
              "      <td>0.851238</td>\n",
              "      <td>0.877789</td>\n",
              "      <td>0.914577</td>\n",
              "      <td>0.856128</td>\n",
              "      <td>0.886172</td>\n",
              "      <td>0.800444</td>\n",
              "      <td>0.872195</td>\n",
              "      <td>0.147688</td>\n",
              "      <td>0.087024</td>\n",
              "      <td>-0.050628</td>\n",
              "    </tr>\n",
              "    <tr>\n",
              "      <th>nbrMotMAJ</th>\n",
              "      <td>0.843185</td>\n",
              "      <td>0.819455</td>\n",
              "      <td>0.771871</td>\n",
              "      <td>1.000000</td>\n",
              "      <td>0.840114</td>\n",
              "      <td>0.847969</td>\n",
              "      <td>0.061648</td>\n",
              "      <td>0.021611</td>\n",
              "      <td>0.011895</td>\n",
              "      <td>0.072984</td>\n",
              "      <td>0.001784</td>\n",
              "      <td>0.012878</td>\n",
              "      <td>0.756191</td>\n",
              "      <td>0.810282</td>\n",
              "      <td>0.829444</td>\n",
              "      <td>0.761325</td>\n",
              "      <td>0.765811</td>\n",
              "      <td>0.749355</td>\n",
              "      <td>0.774137</td>\n",
              "      <td>0.108263</td>\n",
              "      <td>0.052209</td>\n",
              "      <td>-0.043889</td>\n",
              "    </tr>\n",
              "    <tr>\n",
              "      <th>nbrExclMark</th>\n",
              "      <td>0.804115</td>\n",
              "      <td>0.763175</td>\n",
              "      <td>0.811619</td>\n",
              "      <td>0.840114</td>\n",
              "      <td>1.000000</td>\n",
              "      <td>0.828670</td>\n",
              "      <td>0.043702</td>\n",
              "      <td>0.016170</td>\n",
              "      <td>0.005082</td>\n",
              "      <td>0.004082</td>\n",
              "      <td>0.025775</td>\n",
              "      <td>0.010112</td>\n",
              "      <td>0.923592</td>\n",
              "      <td>0.782705</td>\n",
              "      <td>0.897822</td>\n",
              "      <td>0.777075</td>\n",
              "      <td>0.895811</td>\n",
              "      <td>0.752613</td>\n",
              "      <td>0.837072</td>\n",
              "      <td>0.101257</td>\n",
              "      <td>0.073049</td>\n",
              "      <td>-0.047569</td>\n",
              "    </tr>\n",
              "    <tr>\n",
              "      <th>nbrQuestMark</th>\n",
              "      <td>0.972784</td>\n",
              "      <td>0.854249</td>\n",
              "      <td>0.863186</td>\n",
              "      <td>0.847969</td>\n",
              "      <td>0.828670</td>\n",
              "      <td>1.000000</td>\n",
              "      <td>0.064006</td>\n",
              "      <td>0.014444</td>\n",
              "      <td>0.006417</td>\n",
              "      <td>-0.001331</td>\n",
              "      <td>-0.012982</td>\n",
              "      <td>0.073284</td>\n",
              "      <td>0.794312</td>\n",
              "      <td>0.927122</td>\n",
              "      <td>0.913574</td>\n",
              "      <td>0.892087</td>\n",
              "      <td>0.826027</td>\n",
              "      <td>0.858038</td>\n",
              "      <td>0.855924</td>\n",
              "      <td>0.161235</td>\n",
              "      <td>0.083303</td>\n",
              "      <td>-0.057594</td>\n",
              "    </tr>\n",
              "    <tr>\n",
              "      <th>nbrMotMoyenne</th>\n",
              "      <td>0.075012</td>\n",
              "      <td>0.041867</td>\n",
              "      <td>0.044013</td>\n",
              "      <td>0.061648</td>\n",
              "      <td>0.043702</td>\n",
              "      <td>0.064006</td>\n",
              "      <td>1.000000</td>\n",
              "      <td>0.246022</td>\n",
              "      <td>0.191381</td>\n",
              "      <td>0.211840</td>\n",
              "      <td>0.189722</td>\n",
              "      <td>0.164161</td>\n",
              "      <td>0.022034</td>\n",
              "      <td>0.040467</td>\n",
              "      <td>0.033555</td>\n",
              "      <td>0.040151</td>\n",
              "      <td>0.022702</td>\n",
              "      <td>0.039169</td>\n",
              "      <td>0.027965</td>\n",
              "      <td>-0.002300</td>\n",
              "      <td>-0.020891</td>\n",
              "      <td>-0.040504</td>\n",
              "    </tr>\n",
              "    <tr>\n",
              "      <th>nbrMotInsulteMoyenne</th>\n",
              "      <td>0.014323</td>\n",
              "      <td>0.048479</td>\n",
              "      <td>0.009013</td>\n",
              "      <td>0.021611</td>\n",
              "      <td>0.016170</td>\n",
              "      <td>0.014444</td>\n",
              "      <td>0.246022</td>\n",
              "      <td>1.000000</td>\n",
              "      <td>0.029562</td>\n",
              "      <td>0.088727</td>\n",
              "      <td>0.111746</td>\n",
              "      <td>0.045457</td>\n",
              "      <td>0.003919</td>\n",
              "      <td>0.006060</td>\n",
              "      <td>0.005335</td>\n",
              "      <td>0.002530</td>\n",
              "      <td>0.001441</td>\n",
              "      <td>0.006877</td>\n",
              "      <td>0.001683</td>\n",
              "      <td>-0.001969</td>\n",
              "      <td>0.024727</td>\n",
              "      <td>-0.071794</td>\n",
              "    </tr>\n",
              "    <tr>\n",
              "      <th>nbrMotAllongMoyenne</th>\n",
              "      <td>0.006139</td>\n",
              "      <td>0.004033</td>\n",
              "      <td>0.046536</td>\n",
              "      <td>0.011895</td>\n",
              "      <td>0.005082</td>\n",
              "      <td>0.006417</td>\n",
              "      <td>0.191381</td>\n",
              "      <td>0.029562</td>\n",
              "      <td>1.000000</td>\n",
              "      <td>0.192410</td>\n",
              "      <td>0.087105</td>\n",
              "      <td>0.074788</td>\n",
              "      <td>0.002171</td>\n",
              "      <td>0.003152</td>\n",
              "      <td>0.002841</td>\n",
              "      <td>0.002141</td>\n",
              "      <td>0.002388</td>\n",
              "      <td>0.001259</td>\n",
              "      <td>0.002199</td>\n",
              "      <td>-0.024546</td>\n",
              "      <td>-0.024923</td>\n",
              "      <td>0.005227</td>\n",
              "    </tr>\n",
              "    <tr>\n",
              "      <th>nbrMotMAJMoyenne</th>\n",
              "      <td>-0.001154</td>\n",
              "      <td>-0.000518</td>\n",
              "      <td>-0.001104</td>\n",
              "      <td>0.072984</td>\n",
              "      <td>0.004082</td>\n",
              "      <td>-0.001331</td>\n",
              "      <td>0.211840</td>\n",
              "      <td>0.088727</td>\n",
              "      <td>0.192410</td>\n",
              "      <td>1.000000</td>\n",
              "      <td>0.155056</td>\n",
              "      <td>0.066535</td>\n",
              "      <td>-0.005773</td>\n",
              "      <td>-0.007814</td>\n",
              "      <td>-0.007239</td>\n",
              "      <td>-0.009953</td>\n",
              "      <td>-0.008268</td>\n",
              "      <td>-0.008217</td>\n",
              "      <td>-0.009091</td>\n",
              "      <td>-0.027613</td>\n",
              "      <td>-0.018647</td>\n",
              "      <td>-0.009215</td>\n",
              "    </tr>\n",
              "    <tr>\n",
              "      <th>nbrExclMarkMoyenne</th>\n",
              "      <td>-0.015492</td>\n",
              "      <td>-0.009884</td>\n",
              "      <td>-0.016591</td>\n",
              "      <td>0.001784</td>\n",
              "      <td>0.025775</td>\n",
              "      <td>-0.012982</td>\n",
              "      <td>0.189722</td>\n",
              "      <td>0.111746</td>\n",
              "      <td>0.087105</td>\n",
              "      <td>0.155056</td>\n",
              "      <td>1.000000</td>\n",
              "      <td>0.099434</td>\n",
              "      <td>-0.013801</td>\n",
              "      <td>-0.024972</td>\n",
              "      <td>-0.020809</td>\n",
              "      <td>-0.028202</td>\n",
              "      <td>-0.019933</td>\n",
              "      <td>-0.022982</td>\n",
              "      <td>-0.023173</td>\n",
              "      <td>-0.053622</td>\n",
              "      <td>-0.019241</td>\n",
              "      <td>-0.012675</td>\n",
              "    </tr>\n",
              "    <tr>\n",
              "      <th>nbrQuestMarkMoyenne</th>\n",
              "      <td>0.012033</td>\n",
              "      <td>0.007036</td>\n",
              "      <td>0.006716</td>\n",
              "      <td>0.012878</td>\n",
              "      <td>0.010112</td>\n",
              "      <td>0.073284</td>\n",
              "      <td>0.164161</td>\n",
              "      <td>0.045457</td>\n",
              "      <td>0.074788</td>\n",
              "      <td>0.066535</td>\n",
              "      <td>0.099434</td>\n",
              "      <td>1.000000</td>\n",
              "      <td>0.000687</td>\n",
              "      <td>0.004556</td>\n",
              "      <td>0.002880</td>\n",
              "      <td>0.003846</td>\n",
              "      <td>-0.000225</td>\n",
              "      <td>0.004367</td>\n",
              "      <td>0.000570</td>\n",
              "      <td>-0.000527</td>\n",
              "      <td>0.007177</td>\n",
              "      <td>-0.025123</td>\n",
              "    </tr>\n",
              "    <tr>\n",
              "      <th>thread_count</th>\n",
              "      <td>0.775471</td>\n",
              "      <td>0.718392</td>\n",
              "      <td>0.851238</td>\n",
              "      <td>0.756191</td>\n",
              "      <td>0.923592</td>\n",
              "      <td>0.794312</td>\n",
              "      <td>0.022034</td>\n",
              "      <td>0.003919</td>\n",
              "      <td>0.002171</td>\n",
              "      <td>-0.005773</td>\n",
              "      <td>-0.013801</td>\n",
              "      <td>0.000687</td>\n",
              "      <td>1.000000</td>\n",
              "      <td>0.789371</td>\n",
              "      <td>0.939752</td>\n",
              "      <td>0.810097</td>\n",
              "      <td>0.980672</td>\n",
              "      <td>0.770266</td>\n",
              "      <td>0.911506</td>\n",
              "      <td>0.118774</td>\n",
              "      <td>0.083873</td>\n",
              "      <td>-0.052481</td>\n",
              "    </tr>\n",
              "    <tr>\n",
              "      <th>comment_count</th>\n",
              "      <td>0.924695</td>\n",
              "      <td>0.853120</td>\n",
              "      <td>0.877789</td>\n",
              "      <td>0.810282</td>\n",
              "      <td>0.782705</td>\n",
              "      <td>0.927122</td>\n",
              "      <td>0.040467</td>\n",
              "      <td>0.006060</td>\n",
              "      <td>0.003152</td>\n",
              "      <td>-0.007814</td>\n",
              "      <td>-0.024972</td>\n",
              "      <td>0.004556</td>\n",
              "      <td>0.789371</td>\n",
              "      <td>1.000000</td>\n",
              "      <td>0.951684</td>\n",
              "      <td>0.941889</td>\n",
              "      <td>0.865133</td>\n",
              "      <td>0.888558</td>\n",
              "      <td>0.916154</td>\n",
              "      <td>0.184664</td>\n",
              "      <td>0.102643</td>\n",
              "      <td>-0.049524</td>\n",
              "    </tr>\n",
              "    <tr>\n",
              "      <th>message_count</th>\n",
              "      <td>0.902798</td>\n",
              "      <td>0.834391</td>\n",
              "      <td>0.914577</td>\n",
              "      <td>0.829444</td>\n",
              "      <td>0.897822</td>\n",
              "      <td>0.913574</td>\n",
              "      <td>0.033555</td>\n",
              "      <td>0.005335</td>\n",
              "      <td>0.002841</td>\n",
              "      <td>-0.007239</td>\n",
              "      <td>-0.020809</td>\n",
              "      <td>0.002880</td>\n",
              "      <td>0.939752</td>\n",
              "      <td>0.951684</td>\n",
              "      <td>1.000000</td>\n",
              "      <td>0.929693</td>\n",
              "      <td>0.972272</td>\n",
              "      <td>0.880072</td>\n",
              "      <td>0.966086</td>\n",
              "      <td>0.162239</td>\n",
              "      <td>0.099109</td>\n",
              "      <td>-0.053828</td>\n",
              "    </tr>\n",
              "    <tr>\n",
              "      <th>discussion_count</th>\n",
              "      <td>0.868923</td>\n",
              "      <td>0.753119</td>\n",
              "      <td>0.856128</td>\n",
              "      <td>0.761325</td>\n",
              "      <td>0.777075</td>\n",
              "      <td>0.892087</td>\n",
              "      <td>0.040151</td>\n",
              "      <td>0.002530</td>\n",
              "      <td>0.002141</td>\n",
              "      <td>-0.009953</td>\n",
              "      <td>-0.028202</td>\n",
              "      <td>0.003846</td>\n",
              "      <td>0.810097</td>\n",
              "      <td>0.941889</td>\n",
              "      <td>0.929693</td>\n",
              "      <td>1.000000</td>\n",
              "      <td>0.870182</td>\n",
              "      <td>0.898582</td>\n",
              "      <td>0.923718</td>\n",
              "      <td>0.215216</td>\n",
              "      <td>0.125186</td>\n",
              "      <td>-0.060421</td>\n",
              "    </tr>\n",
              "    <tr>\n",
              "      <th>distinct_authors_count</th>\n",
              "      <td>0.813164</td>\n",
              "      <td>0.750171</td>\n",
              "      <td>0.886172</td>\n",
              "      <td>0.765811</td>\n",
              "      <td>0.895811</td>\n",
              "      <td>0.826027</td>\n",
              "      <td>0.022702</td>\n",
              "      <td>0.001441</td>\n",
              "      <td>0.002388</td>\n",
              "      <td>-0.008268</td>\n",
              "      <td>-0.019933</td>\n",
              "      <td>-0.000225</td>\n",
              "      <td>0.980672</td>\n",
              "      <td>0.865133</td>\n",
              "      <td>0.972272</td>\n",
              "      <td>0.870182</td>\n",
              "      <td>1.000000</td>\n",
              "      <td>0.829895</td>\n",
              "      <td>0.959802</td>\n",
              "      <td>0.151186</td>\n",
              "      <td>0.098402</td>\n",
              "      <td>-0.053040</td>\n",
              "    </tr>\n",
              "    <tr>\n",
              "      <th>authors_3channels_count</th>\n",
              "      <td>0.851122</td>\n",
              "      <td>0.788718</td>\n",
              "      <td>0.800444</td>\n",
              "      <td>0.749355</td>\n",
              "      <td>0.752613</td>\n",
              "      <td>0.858038</td>\n",
              "      <td>0.039169</td>\n",
              "      <td>0.006877</td>\n",
              "      <td>0.001259</td>\n",
              "      <td>-0.008217</td>\n",
              "      <td>-0.022982</td>\n",
              "      <td>0.004367</td>\n",
              "      <td>0.770266</td>\n",
              "      <td>0.888558</td>\n",
              "      <td>0.880072</td>\n",
              "      <td>0.898582</td>\n",
              "      <td>0.829895</td>\n",
              "      <td>1.000000</td>\n",
              "      <td>0.891352</td>\n",
              "      <td>0.208995</td>\n",
              "      <td>0.133574</td>\n",
              "      <td>-0.071059</td>\n",
              "    </tr>\n",
              "    <tr>\n",
              "      <th>liked_authors_count</th>\n",
              "      <td>0.848354</td>\n",
              "      <td>0.778689</td>\n",
              "      <td>0.872195</td>\n",
              "      <td>0.774137</td>\n",
              "      <td>0.837072</td>\n",
              "      <td>0.855924</td>\n",
              "      <td>0.027965</td>\n",
              "      <td>0.001683</td>\n",
              "      <td>0.002199</td>\n",
              "      <td>-0.009091</td>\n",
              "      <td>-0.023173</td>\n",
              "      <td>0.000570</td>\n",
              "      <td>0.911506</td>\n",
              "      <td>0.916154</td>\n",
              "      <td>0.966086</td>\n",
              "      <td>0.923718</td>\n",
              "      <td>0.959802</td>\n",
              "      <td>0.891352</td>\n",
              "      <td>1.000000</td>\n",
              "      <td>0.176510</td>\n",
              "      <td>0.109978</td>\n",
              "      <td>-0.060211</td>\n",
              "    </tr>\n",
              "    <tr>\n",
              "      <th>subscriberCount</th>\n",
              "      <td>0.158753</td>\n",
              "      <td>0.083189</td>\n",
              "      <td>0.147688</td>\n",
              "      <td>0.108263</td>\n",
              "      <td>0.101257</td>\n",
              "      <td>0.161235</td>\n",
              "      <td>-0.002300</td>\n",
              "      <td>-0.001969</td>\n",
              "      <td>-0.024546</td>\n",
              "      <td>-0.027613</td>\n",
              "      <td>-0.053622</td>\n",
              "      <td>-0.000527</td>\n",
              "      <td>0.118774</td>\n",
              "      <td>0.184664</td>\n",
              "      <td>0.162239</td>\n",
              "      <td>0.215216</td>\n",
              "      <td>0.151186</td>\n",
              "      <td>0.208995</td>\n",
              "      <td>0.176510</td>\n",
              "      <td>1.000000</td>\n",
              "      <td>0.738423</td>\n",
              "      <td>-0.390599</td>\n",
              "    </tr>\n",
              "    <tr>\n",
              "      <th>viewCount</th>\n",
              "      <td>0.073630</td>\n",
              "      <td>0.057689</td>\n",
              "      <td>0.087024</td>\n",
              "      <td>0.052209</td>\n",
              "      <td>0.073049</td>\n",
              "      <td>0.083303</td>\n",
              "      <td>-0.020891</td>\n",
              "      <td>0.024727</td>\n",
              "      <td>-0.024923</td>\n",
              "      <td>-0.018647</td>\n",
              "      <td>-0.019241</td>\n",
              "      <td>0.007177</td>\n",
              "      <td>0.083873</td>\n",
              "      <td>0.102643</td>\n",
              "      <td>0.099109</td>\n",
              "      <td>0.125186</td>\n",
              "      <td>0.098402</td>\n",
              "      <td>0.133574</td>\n",
              "      <td>0.109978</td>\n",
              "      <td>0.738423</td>\n",
              "      <td>1.000000</td>\n",
              "      <td>-0.476084</td>\n",
              "    </tr>\n",
              "    <tr>\n",
              "      <th>cat_inst</th>\n",
              "      <td>-0.056210</td>\n",
              "      <td>-0.058446</td>\n",
              "      <td>-0.050628</td>\n",
              "      <td>-0.043889</td>\n",
              "      <td>-0.047569</td>\n",
              "      <td>-0.057594</td>\n",
              "      <td>-0.040504</td>\n",
              "      <td>-0.071794</td>\n",
              "      <td>0.005227</td>\n",
              "      <td>-0.009215</td>\n",
              "      <td>-0.012675</td>\n",
              "      <td>-0.025123</td>\n",
              "      <td>-0.052481</td>\n",
              "      <td>-0.049524</td>\n",
              "      <td>-0.053828</td>\n",
              "      <td>-0.060421</td>\n",
              "      <td>-0.053040</td>\n",
              "      <td>-0.071059</td>\n",
              "      <td>-0.060211</td>\n",
              "      <td>-0.390599</td>\n",
              "      <td>-0.476084</td>\n",
              "      <td>1.000000</td>\n",
              "    </tr>\n",
              "  </tbody>\n",
              "</table>\n",
              "</div>"
            ],
            "text/plain": [
              "                           nbrMot  nbrMotInsulte  ...  viewCount  cat_inst\n",
              "nbrMot                   1.000000       0.871491  ...   0.073630 -0.056210\n",
              "nbrMotInsulte            0.871491       1.000000  ...   0.057689 -0.058446\n",
              "nbrMotAllong             0.851083       0.766110  ...   0.087024 -0.050628\n",
              "nbrMotMAJ                0.843185       0.819455  ...   0.052209 -0.043889\n",
              "nbrExclMark              0.804115       0.763175  ...   0.073049 -0.047569\n",
              "nbrQuestMark             0.972784       0.854249  ...   0.083303 -0.057594\n",
              "nbrMotMoyenne            0.075012       0.041867  ...  -0.020891 -0.040504\n",
              "nbrMotInsulteMoyenne     0.014323       0.048479  ...   0.024727 -0.071794\n",
              "nbrMotAllongMoyenne      0.006139       0.004033  ...  -0.024923  0.005227\n",
              "nbrMotMAJMoyenne        -0.001154      -0.000518  ...  -0.018647 -0.009215\n",
              "nbrExclMarkMoyenne      -0.015492      -0.009884  ...  -0.019241 -0.012675\n",
              "nbrQuestMarkMoyenne      0.012033       0.007036  ...   0.007177 -0.025123\n",
              "thread_count             0.775471       0.718392  ...   0.083873 -0.052481\n",
              "comment_count            0.924695       0.853120  ...   0.102643 -0.049524\n",
              "message_count            0.902798       0.834391  ...   0.099109 -0.053828\n",
              "discussion_count         0.868923       0.753119  ...   0.125186 -0.060421\n",
              "distinct_authors_count   0.813164       0.750171  ...   0.098402 -0.053040\n",
              "authors_3channels_count  0.851122       0.788718  ...   0.133574 -0.071059\n",
              "liked_authors_count      0.848354       0.778689  ...   0.109978 -0.060211\n",
              "subscriberCount          0.158753       0.083189  ...   0.738423 -0.390599\n",
              "viewCount                0.073630       0.057689  ...   1.000000 -0.476084\n",
              "cat_inst                -0.056210      -0.058446  ...  -0.476084  1.000000\n",
              "\n",
              "[22 rows x 22 columns]"
            ]
          },
          "metadata": {
            "tags": []
          },
          "execution_count": 35
        }
      ]
    },
    {
      "cell_type": "markdown",
      "metadata": {
        "id": "OrS_ZaLMplUU"
      },
      "source": [
        "Dans un premier temps, on va détailler et expliquer certaines corrélations entre les variables.  On regarde les données dans la colonne 2 nbrMotInsulte. \n",
        "\n",
        "Le nombre d’insultes est corrélée avec le nombre de mot et les paramètres liés (comment_count, thread_count, message_count, …) car plus une vidéo compte de mot dans ces commentaires plus elle est susceptible d’avoir été à l’origine d’un débat. Avec le nombre de points d’interrogations, ces 2 critères témoignent de la présence d’un débat dans les commentaires et sur Youtube ces derniers finissent souvent par des insultes. Ceci explique la corrélation forte entre le nombre d’insulte et ces 2 paramètres.\n",
        "\n",
        "De plus, les paramètres représentant le nombre de mots allongés, le nombre de mots en majuscule et le nombre de points d’exclamation montrent souvent de fortes réactions provoquées par la vidéo. Ces fortes réactions peuvent être positives ou négatives mais dans le cas où elles sont le plus importantes et virulentes sont souvent lors de réactions négatives d’où la présence d’insultes. Ceci explique la forte corrélation de ces variables sur le nombre d’insultes dans les commentaires.\n",
        "\n",
        "De plus, comme on l’a vu précédemment les catégories de vidéo et donc de la chaîne youtube ont une influence. D’où la corrélation avec les paramètres liés à la chaîne youtube et à l’auteur."
      ]
    },
    {
      "cell_type": "markdown",
      "metadata": {
        "id": "0jxUmfFJvjUk"
      },
      "source": [
        "La fonction plot_corr nous permet de visualiser un aperçu d'un lien potentiel qui existerait entre les données. Certains arguments sont logiques, très évident, ce qui nous questionne sur la pertinence de ces indicateurs(par exemple, moins il y a de vues, moins il y a de mots).\n",
        "Le problème est que les nombres à virgule ne sont pas compris comme des nombres par Python. On va donc modifier le fichier .csv pour transformer les virgules par des points.  "
      ]
    },
    {
      "cell_type": "markdown",
      "metadata": {
        "id": "TCS20hfQ1zEd"
      },
      "source": [
        "On garde les paramètres de corrélation supérieur à 0.5 pour notre algorithme suivant.\n",
        "On veut prédire le nombre d'insulte dans les vidéos à partir de nos données.  \n",
        "On a vu que le type de magazine intervenait dans le nombre d'insultes, ainsi on a décidé de créer une nouvelle variable nommée cat_inst, où le nom de la catégorie est remplacé par un nombre entr 0 et 5 (0 = pure players, 1 = TV, 2 = Presse_régionale, 3 = Presse nationale, 4 = Presse magazine, 5 = Alternatif"
      ]
    },
    {
      "cell_type": "markdown",
      "metadata": {
        "id": "PUT2L_RciVfv"
      },
      "source": [
        "# Préparation des données pour leur appliquer des méthodes de regression"
      ]
    },
    {
      "cell_type": "markdown",
      "metadata": {
        "id": "fTXb0tY5it-H"
      },
      "source": [
        "On va séparer le data set en une portion train et une portion test. Avant cela nous allons supprimer les colonnes qui ne sont pas pertinentes (channel_name, channel_id, video_id, video_id_court ...) et nous allons transformer le type des colonnes categ_inst et categorie_new pour passer d'un objet à un int. Cela va alors nous permettre d'y voir plus clair sur les données que nous voulons étudier, de nous focaliser sur ce qui nous intéresse et de pouvoir traiter les colonnes de type objet que l'on veut traiter."
      ]
    },
    {
      "cell_type": "code",
      "metadata": {
        "id": "h75XLgOridDY"
      },
      "source": [
        "datac = pd.read_csv(\"challenge_youtube_toxic_celia.csv\",sep=\";\",encoding='unicode_escape')\n",
        "\n",
        "#on supprime les colonnes de type Object non pertinentes\n",
        "\n",
        "ytbc = datac.drop(['video_id_court'], axis=1)\n",
        "ytb2c = ytbc.drop(['video_id'], axis=1)\n",
        "ytb3c = ytb2c.drop(['channel_id'], axis=1)\n",
        "ytb4c = ytb3c.drop(['channel_name'], axis=1)\n",
        "\n",
        "#on remplace les valeurs dans les colonnes categ_inst et categorie_new\n",
        "categ_insta = ytb4c[[\"categ_inst\"]]\n",
        "ordinal_encoder = OrdinalEncoder()\n",
        "categ_insta_encoded = ordinal_encoder.fit_transform(categ_insta)\n",
        "# pour avoir acces aux catégories liées aux chiffres : ordinal_encoder.categories_\n",
        "ytb5c = ytb4c.drop(['categ_inst'], axis=1)\n",
        "ytb5c.insert(2,'categ_inst_encoded',categ_insta_encoded)\n",
        "\n",
        "categ_new=ytb5c[[\"categorie_new\"]]\n",
        "categ_new_encoded = ordinal_encoder.fit_transform(categ_new)\n",
        "ytb6c = ytb5c.drop(['categorie_new'], axis=1)\n",
        "ytb6c.insert(20,'categ_new_encoded',categ_new_encoded)\n",
        "\n",
        "#maintenant on sépare le dataset en train et en test\n",
        "\n",
        "trainc=ytb6c.sample(frac=0.8,random_state=123) #must set a seed value in random_state option \n",
        "testc=ytb6c.drop(trainc.index)"
      ],
      "execution_count": null,
      "outputs": []
    },
    {
      "cell_type": "code",
      "metadata": {
        "id": "IdSrbSOUiibj"
      },
      "source": [
        "Ytrainc = trainc.iloc[:, -1] # last column \n",
        "Xtrainc = trainc.iloc[:,:-1] # all columns before the last\n",
        "Ytestc = testc.iloc[:, -1] # last column \n",
        "Xtestc = testc.iloc[:,:-1] # all columns before the last"
      ],
      "execution_count": null,
      "outputs": []
    },
    {
      "cell_type": "markdown",
      "metadata": {
        "id": "jhnhn7vr_hRy"
      },
      "source": [
        "# Logistic regression\n",
        "\n",
        "On va utiliser la méthode de régression logistique pour obtenir un modèle qui prédit le nombre d'insultes d'une vidéo youtube.\n"
      ]
    },
    {
      "cell_type": "markdown",
      "metadata": {
        "id": "NRQ5p3EZA4OO"
      },
      "source": [
        "Nous allons maintenant appliquer la méthode de régression logistique sur la portion train de notre dataset modifié.\n",
        "Le paramètre que nous souhaitons prédire est nbrMotInsulte (colonne placée à la dernière position de notre dataset). On va au préalable standardiser notre dataset pour limiter l'étendue du jeu de données"
      ]
    },
    {
      "cell_type": "code",
      "metadata": {
        "id": "m1RORw8Jj2a7",
        "colab": {
          "base_uri": "https://localhost:8080/"
        },
        "outputId": "a6314807-8eb2-4275-ef69-4f744b0ede12"
      },
      "source": [
        "stds = preprocessing.StandardScaler()\n",
        "Xtrain_stdc = stds.fit_transform(Xtrainc)\n",
        "print(scipy.stats.describe(Xtrain_stdc,axis=0,ddof=0))"
      ],
      "execution_count": null,
      "outputs": [
        {
          "output_type": "stream",
          "text": [
            "DescribeResult(nobs=36882, minmax=(array([-0.20287917, -0.18997171, -2.18191998, -0.19569639, -0.19267676,\n",
            "       -0.21212945, -0.78922796, -0.42485702, -0.2546978 , -0.19127463,\n",
            "       -0.39419429, -0.28804429, -0.18335488, -0.2111825 , -0.21140955,\n",
            "       -0.26591753, -0.20260145, -0.2704078 , -0.22628532, -1.4427318 ,\n",
            "       -0.43502789, -1.36610468]), array([ 41.74992577,  56.28543152,   1.24917435,  53.77047685,\n",
            "        70.41591232,  36.76106787,  41.19747654,  31.04941707,\n",
            "        86.51884263,  49.43163923,  64.34835668, 124.7723636 ,\n",
            "        76.09474126,  40.89550327,  47.08289313,  46.57425306,\n",
            "        63.08538599,  30.81237161,  50.21993481,   3.3136543 ,\n",
            "         3.92790848,   2.19192009])), mean=array([-8.66938428e-18, -6.35754847e-18, -1.14435873e-16,  1.50269328e-17,\n",
            "        1.61828507e-17, -8.47673130e-18,  3.23657013e-17,  2.11918282e-17,\n",
            "       -7.39305826e-18, -2.17697872e-17,  3.08244774e-17,  3.67967200e-17,\n",
            "       -1.84946865e-17,  2.98612125e-18, -3.66040670e-18, -1.29077499e-17,\n",
            "        1.50269328e-17, -3.85305968e-19, -3.85305968e-19, -1.01335470e-16,\n",
            "        4.66220221e-17, -1.37168925e-16]), variance=array([1., 1., 1., 1., 1., 1., 1., 1., 1., 1., 1., 1., 1., 1., 1., 1., 1.,\n",
            "       1., 1., 1., 1., 1.]), skewness=array([14.8766512 , 18.30372549, -0.09304171, 17.83081204, 27.94165418,\n",
            "       13.86085797,  9.81074563,  7.419594  , 32.77549767, 21.52323789,\n",
            "       17.0404808 , 60.88923484, 27.81078755, 13.0021541 , 15.44895548,\n",
            "       11.91952664, 20.75083829, 10.51991573, 15.28880354,  0.89396124,\n",
            "        2.25509152,  0.48728757]), kurtosis=array([ 3.45987970e+02,  5.85433161e+02, -1.30302265e+00,  5.63933483e+02,\n",
            "        1.44695353e+03,  2.99467662e+02,  2.10752989e+02,  1.07304889e+02,\n",
            "        2.16658344e+03,  6.77084993e+02,  6.60496657e+02,  6.84727325e+03,\n",
            "        1.42052980e+03,  2.77293770e+02,  3.99843128e+02,  2.71288782e+02,\n",
            "        7.82567440e+02,  1.74760771e+02,  4.28676422e+02,  1.76274369e+00,\n",
            "        4.42379040e+00, -6.60316974e-01]))\n"
          ],
          "name": "stdout"
        }
      ]
    },
    {
      "cell_type": "markdown",
      "metadata": {
        "id": "oLK9kNPVCIVF"
      },
      "source": [
        "Après avoir standardisé nos données, on veut afficher les coefficients déterminés par notre programme pour notre modèle de régression logistique : "
      ]
    },
    {
      "cell_type": "code",
      "metadata": {
        "id": "Qt4lcfq8BZmX",
        "colab": {
          "base_uri": "https://localhost:8080/"
        },
        "outputId": "d8171bad-ec0a-468a-c29d-601e27a74cd7"
      },
      "source": [
        "regLR = LogisticRegression(penalty='none')\n",
        "regLR.fit(Xtrain_stdc,Ytrainc)\n",
        "print(pd.DataFrame({\"var\":Xtrainc.columns,\"coef\":regLR.coef_[0]})) #on affiche les coefficients estimés"
      ],
      "execution_count": null,
      "outputs": [
        {
          "output_type": "stream",
          "text": [
            "                        var       coef\n",
            "0                    nbrMot  -5.856788\n",
            "1              nbrMotAllong  -2.434308\n",
            "2        categ_inst_encoded  -1.557356\n",
            "3                 nbrMotMAJ  -1.848409\n",
            "4               nbrExclMark  -6.621187\n",
            "5              nbrQuestMark  -7.018533\n",
            "6             nbrMotMoyenne   1.443261\n",
            "7      nbrMotInsulteMoyenne -70.675775\n",
            "8       nbrMotAllongMoyenne   0.867688\n",
            "9          nbrMotMAJMoyenne   2.211295\n",
            "10       nbrExclMarkMoyenne   1.268346\n",
            "11      nbrQuestMarkMoyenne   1.182891\n",
            "12             thread_count  -4.428408\n",
            "13            comment_count  -1.984982\n",
            "14            message_count  -3.393418\n",
            "15         discussion_count  -0.957838\n",
            "16   distinct_authors_count  -1.987096\n",
            "17  authors_3channels_count  -7.226333\n",
            "18      liked_authors_count   0.118519\n",
            "19          subscriberCount   1.743629\n",
            "20        categ_new_encoded  -0.744949\n",
            "21                viewCount  -0.702321\n"
          ],
          "name": "stdout"
        },
        {
          "output_type": "stream",
          "text": [
            "/usr/local/lib/python3.6/dist-packages/sklearn/linear_model/_logistic.py:940: ConvergenceWarning: lbfgs failed to converge (status=1):\n",
            "STOP: TOTAL NO. of ITERATIONS REACHED LIMIT.\n",
            "\n",
            "Increase the number of iterations (max_iter) or scale the data as shown in:\n",
            "    https://scikit-learn.org/stable/modules/preprocessing.html\n",
            "Please also refer to the documentation for alternative solver options:\n",
            "    https://scikit-learn.org/stable/modules/linear_model.html#logistic-regression\n",
            "  extra_warning_msg=_LOGISTIC_SOLVER_CONVERGENCE_MSG)\n"
          ],
          "name": "stderr"
        }
      ]
    },
    {
      "cell_type": "markdown",
      "metadata": {
        "id": "M2wXzPlRCQsp"
      },
      "source": [
        "Maintenant que nous avons eu des résultats sur la portion train de notre dataset, on va alors appliquer ce modèle à la portion test du dataset :"
      ]
    },
    {
      "cell_type": "code",
      "metadata": {
        "id": "ApVQqiTOBcQv",
        "colab": {
          "base_uri": "https://localhost:8080/"
        },
        "outputId": "4c315d02-d873-4f6d-84d7-c41449896d3b"
      },
      "source": [
        "Xtest_stdc = stds.transform(Xtestc)\n",
        "print(scipy.stats.describe(Xtest_stdc,axis=0,ddof=0))"
      ],
      "execution_count": null,
      "outputs": [
        {
          "output_type": "stream",
          "text": [
            "DescribeResult(nobs=9220, minmax=(array([-0.20287917, -0.18997171, -2.18191998, -0.19569639, -0.19267676,\n",
            "       -0.21212945, -0.78922796, -0.42485702, -0.2546978 , -0.19127463,\n",
            "       -0.39419429, -0.28804429, -0.18335488, -0.2111825 , -0.21140955,\n",
            "       -0.26591753, -0.20260145, -0.2704078 , -0.22628532, -1.4427318 ,\n",
            "       -0.43502789, -1.36610468]), array([ 94.31296114,  67.52312818,   1.24917435, 130.06433273,\n",
            "        99.71307308,  86.67252325,  39.78184479,  24.30492976,\n",
            "        21.43868731,  53.04655349,  30.73203213,  56.15744002,\n",
            "        70.91520261,  92.27059951,  87.58843129,  65.02483944,\n",
            "        72.30766581,  70.94360933,  77.37688595,   3.3136543 ,\n",
            "         3.92790848,   2.19192009])), mean=array([ 0.00936187,  0.00048357, -0.00849662,  0.02210329,  0.01933128,\n",
            "        0.00898474, -0.01585388,  0.00219369, -0.02071313,  0.00237645,\n",
            "        0.0019225 , -0.01026717,  0.00991556,  0.00565863,  0.00826551,\n",
            "        0.00268357,  0.00896404,  0.02062498,  0.00954379, -0.0153297 ,\n",
            "       -0.01529637, -0.01235173]), variance=array([1.98235837, 1.22039147, 1.0017583 , 3.04467337, 1.89889794,\n",
            "       1.86383571, 0.94948288, 0.98974717, 0.4944897 , 1.23716082,\n",
            "       0.96329598, 0.84377372, 1.26101642, 1.83253522, 1.683568  ,\n",
            "       1.35676727, 1.35111862, 1.66881679, 1.5368892 , 0.99641015,\n",
            "       0.94281524, 0.99023503]), skewness=array([38.62618423, 29.95970216, -0.07453241, 49.83938589, 44.37478406,\n",
            "       34.16008103, 12.60413409,  7.07996044,  9.43976461, 26.57894349,\n",
            "       12.9269464 , 31.06405225, 32.43218142, 38.45986793, 37.26405702,\n",
            "       24.27295324, 31.02509572, 23.32225995, 30.95414403,  0.91273837,\n",
            "        2.25804079,  0.50649693]), kurtosis=array([ 2.29995159e+03,  1.57498963e+03, -1.32422132e+00,  3.44714902e+03,\n",
            "        3.00200442e+03,  1.87913399e+03,  3.73790197e+02,  9.48826709e+01,\n",
            "        1.69635156e+02,  9.92702763e+02,  2.97296003e+02,  1.63682205e+03,\n",
            "        1.78357081e+03,  2.39018912e+03,  2.29067489e+03,  1.11997883e+03,\n",
            "        1.67805389e+03,  1.04533701e+03,  1.69376871e+03,  1.79784340e+00,\n",
            "        4.46235739e+00, -6.31093655e-01]))\n"
          ],
          "name": "stdout"
        }
      ]
    },
    {
      "cell_type": "markdown",
      "metadata": {
        "id": "OT6fyal4B_kV"
      },
      "source": [
        "A présent, on aimerait pouvoir déterminer quelle précision on obtient pour notre prédiction du nombre de mot insulte de la portion test du dataset :"
      ]
    },
    {
      "cell_type": "code",
      "metadata": {
        "id": "7MGIuaLSBgJ5",
        "colab": {
          "base_uri": "https://localhost:8080/"
        },
        "outputId": "b4f1c50b-fc1a-46c1-c7ac-566985266bc6"
      },
      "source": [
        "YpredLR = regLR.predict(Xtest_stdc)\n",
        "print(metrics.classification_report(Ytestc,YpredLR))"
      ],
      "execution_count": null,
      "outputs": [
        {
          "output_type": "stream",
          "text": [
            "              precision    recall  f1-score   support\n",
            "\n",
            "           0       0.99      1.00      1.00      5090\n",
            "           1       0.54      0.80      0.65      1007\n",
            "           2       0.21      0.31      0.25       622\n",
            "           3       0.09      0.06      0.07       337\n",
            "           4       0.17      0.08      0.10       263\n",
            "           5       0.08      0.05      0.06       202\n",
            "           6       0.07      0.06      0.07       143\n",
            "           7       0.07      0.04      0.05       120\n",
            "           8       0.12      0.10      0.11        99\n",
            "           9       0.06      0.02      0.03        82\n",
            "          10       0.04      0.04      0.04        73\n",
            "          11       0.00      0.00      0.00        70\n",
            "          12       0.03      0.01      0.02        67\n",
            "          13       0.05      0.04      0.04        50\n",
            "          14       0.00      0.00      0.00        35\n",
            "          15       0.13      0.05      0.07        39\n",
            "          16       0.00      0.00      0.00        37\n",
            "          17       0.05      0.05      0.05        39\n",
            "          18       0.00      0.00      0.00        36\n",
            "          19       0.00      0.00      0.00        22\n",
            "          20       0.03      0.04      0.03        25\n",
            "          21       0.00      0.00      0.00        23\n",
            "          22       0.00      0.00      0.00        23\n",
            "          23       0.00      0.00      0.00        22\n",
            "          24       0.00      0.00      0.00        27\n",
            "          25       0.00      0.00      0.00        22\n",
            "          26       0.00      0.00      0.00        18\n",
            "          27       0.00      0.00      0.00        21\n",
            "          28       0.00      0.00      0.00        19\n",
            "          29       0.00      0.00      0.00        12\n",
            "          30       0.00      0.00      0.00        19\n",
            "          31       0.00      0.00      0.00        12\n",
            "          32       0.02      0.09      0.03        11\n",
            "          33       0.00      0.00      0.00        16\n",
            "          34       0.00      0.00      0.00        14\n",
            "          35       0.00      0.00      0.00         8\n",
            "          36       0.00      0.00      0.00        11\n",
            "          37       0.00      0.00      0.00         6\n",
            "          38       0.00      0.00      0.00         9\n",
            "          39       0.33      0.08      0.13        12\n",
            "          40       0.00      0.00      0.00         9\n",
            "          41       0.00      0.00      0.00        12\n",
            "          42       0.00      0.00      0.00        10\n",
            "          43       0.17      0.20      0.18         5\n",
            "          44       0.00      0.00      0.00        12\n",
            "          45       0.00      0.00      0.00         8\n",
            "          46       0.00      0.00      0.00         5\n",
            "          47       0.00      0.00      0.00         7\n",
            "          48       0.00      0.00      0.00         9\n",
            "          49       0.00      0.00      0.00         9\n",
            "          50       0.00      0.00      0.00         8\n",
            "          51       0.00      0.00      0.00         2\n",
            "          52       0.00      0.00      0.00         2\n",
            "          53       0.00      0.00      0.00        10\n",
            "          54       0.00      0.00      0.00         7\n",
            "          55       0.00      0.00      0.00         6\n",
            "          56       0.33      0.12      0.18         8\n",
            "          57       0.00      0.00      0.00         4\n",
            "          58       0.00      0.00      0.00         9\n",
            "          59       0.11      0.20      0.14         5\n",
            "          60       0.00      0.00      0.00         4\n",
            "          61       0.00      0.00      0.00         5\n",
            "          62       0.00      0.00      0.00         5\n",
            "          63       0.00      0.00      0.00         2\n",
            "          64       0.00      0.00      0.00         7\n",
            "          65       0.00      0.00      0.00         3\n",
            "          66       0.00      0.00      0.00         5\n",
            "          67       0.00      0.00      0.00         5\n",
            "          68       0.00      0.00      0.00         2\n",
            "          69       0.00      0.00      0.00         4\n",
            "          70       0.00      0.00      0.00         3\n",
            "          71       0.00      0.00      0.00         6\n",
            "          72       0.00      0.00      0.00         1\n",
            "          73       0.00      0.00      0.00         2\n",
            "          74       0.00      0.00      0.00         4\n",
            "          75       0.00      0.00      0.00         5\n",
            "          76       0.00      0.00      0.00         3\n",
            "          77       0.00      0.00      0.00         3\n",
            "          78       0.00      0.00      0.00         2\n",
            "          79       0.00      0.00      0.00         3\n",
            "          80       0.00      0.00      0.00         4\n",
            "          81       0.00      0.00      0.00         2\n",
            "          82       0.00      0.00      0.00         6\n",
            "          83       0.00      0.00      0.00         2\n",
            "          84       0.00      0.00      0.00         2\n",
            "          86       0.00      0.00      0.00         2\n",
            "          87       0.00      0.00      0.00         3\n",
            "          88       0.00      0.00      0.00         3\n",
            "          89       0.00      0.00      0.00         3\n",
            "          90       0.00      0.00      0.00         4\n",
            "          91       0.00      0.00      0.00         3\n",
            "          92       0.00      0.00      0.00         0\n",
            "          93       0.00      0.00      0.00         0\n",
            "          94       0.00      0.00      0.00         3\n",
            "          95       0.00      0.00      0.00         4\n",
            "          96       0.00      0.00      0.00         2\n",
            "          97       0.00      0.00      0.00         4\n",
            "          98       0.00      0.00      0.00         2\n",
            "          99       0.00      0.00      0.00         2\n",
            "         100       0.00      0.00      0.00         7\n",
            "         101       0.00      0.00      0.00         6\n",
            "         102       0.00      0.00      0.00         3\n",
            "         103       0.00      0.00      0.00         2\n",
            "         104       0.00      0.00      0.00         2\n",
            "         105       0.00      0.00      0.00         0\n",
            "         106       0.00      0.00      0.00         4\n",
            "         107       0.00      0.00      0.00         1\n",
            "         108       0.00      0.00      0.00         2\n",
            "         109       0.00      0.00      0.00         1\n",
            "         110       0.00      0.00      0.00         3\n",
            "         112       0.00      0.00      0.00         3\n",
            "         113       0.00      0.00      0.00         1\n",
            "         114       0.00      0.00      0.00         4\n",
            "         116       0.00      0.00      0.00         3\n",
            "         117       0.00      0.00      0.00         1\n",
            "         118       0.00      0.00      0.00         2\n",
            "         120       0.00      0.00      0.00         2\n",
            "         121       0.00      0.00      0.00         2\n",
            "         123       0.00      0.00      0.00         2\n",
            "         125       0.00      0.00      0.00         2\n",
            "         126       0.00      0.00      0.00         3\n",
            "         127       0.00      0.00      0.00         1\n",
            "         128       0.00      0.00      0.00         3\n",
            "         129       0.00      0.00      0.00         1\n",
            "         130       0.00      0.00      0.00         0\n",
            "         131       0.00      0.00      0.00         2\n",
            "         133       0.00      0.00      0.00         1\n",
            "         134       0.00      0.00      0.00         3\n",
            "         137       0.00      0.00      0.00         3\n",
            "         139       0.00      0.00      0.00         1\n",
            "         140       0.00      0.00      0.00         2\n",
            "         141       0.00      0.00      0.00         1\n",
            "         142       0.00      0.00      0.00         1\n",
            "         143       0.00      0.00      0.00         2\n",
            "         145       0.00      0.00      0.00         1\n",
            "         147       0.00      0.00      0.00         0\n",
            "         148       0.00      0.00      0.00         0\n",
            "         149       0.00      0.00      0.00         1\n",
            "         150       0.00      0.00      0.00         2\n",
            "         152       0.00      0.00      0.00         2\n",
            "         153       0.00      0.00      0.00         1\n",
            "         155       0.00      0.00      0.00         0\n",
            "         156       0.00      0.00      0.00         1\n",
            "         157       0.00      0.00      0.00         0\n",
            "         158       0.00      0.00      0.00         1\n",
            "         159       0.00      0.00      0.00         1\n",
            "         160       0.00      0.00      0.00         2\n",
            "         161       0.00      0.00      0.00         2\n",
            "         162       0.00      0.00      0.00         2\n",
            "         163       0.00      0.00      0.00         2\n",
            "         164       0.00      0.00      0.00         2\n",
            "         165       0.00      0.00      0.00         3\n",
            "         166       0.00      0.00      0.00         1\n",
            "         167       0.00      0.00      0.00         0\n",
            "         168       0.00      0.00      0.00         0\n",
            "         169       0.00      0.00      0.00         2\n",
            "         170       0.00      0.00      0.00         1\n",
            "         171       0.00      0.00      0.00         0\n",
            "         172       0.00      0.00      0.00         3\n",
            "         173       0.00      0.00      0.00         1\n",
            "         174       0.00      0.00      0.00         1\n",
            "         179       0.00      0.00      0.00         0\n",
            "         181       0.00      0.00      0.00         1\n",
            "         183       0.00      0.00      0.00         0\n",
            "         184       0.00      0.00      0.00         0\n",
            "         185       0.00      0.00      0.00         2\n",
            "         186       0.00      0.00      0.00         1\n",
            "         187       0.00      0.00      0.00         0\n",
            "         188       0.00      0.00      0.00         0\n",
            "         191       0.00      0.00      0.00         1\n",
            "         193       0.00      0.00      0.00         1\n",
            "         194       0.00      0.00      0.00         2\n",
            "         196       0.00      0.00      0.00         1\n",
            "         197       0.00      0.00      0.00         0\n",
            "         200       0.00      0.00      0.00         1\n",
            "         202       0.00      0.00      0.00         2\n",
            "         204       0.00      0.00      0.00         0\n",
            "         207       0.00      0.00      0.00         0\n",
            "         208       0.00      0.00      0.00         2\n",
            "         209       0.00      0.00      0.00         0\n",
            "         212       0.00      0.00      0.00         3\n",
            "         219       0.00      0.00      0.00         2\n",
            "         223       0.00      0.00      0.00         0\n",
            "         224       0.00      0.00      0.00         1\n",
            "         225       0.00      0.00      0.00         1\n",
            "         226       0.00      0.00      0.00         1\n",
            "         232       0.00      0.00      0.00         1\n",
            "         233       0.00      0.00      0.00         0\n",
            "         237       0.00      0.00      0.00         0\n",
            "         244       0.00      0.00      0.00         0\n",
            "         247       0.00      0.00      0.00         1\n",
            "         251       0.00      0.00      0.00         0\n",
            "         252       0.00      0.00      0.00         0\n",
            "         253       0.00      0.00      0.00         0\n",
            "         257       0.00      0.00      0.00         0\n",
            "         258       0.00      0.00      0.00         1\n",
            "         263       0.00      0.00      0.00         0\n",
            "         266       0.00      0.00      0.00         0\n",
            "         267       0.00      0.00      0.00         0\n",
            "         269       0.00      0.00      0.00         1\n",
            "         270       0.00      0.00      0.00         1\n",
            "         272       0.00      0.00      0.00         2\n",
            "         274       0.00      0.00      0.00         1\n",
            "         279       0.00      0.00      0.00         1\n",
            "         282       0.00      0.00      0.00         1\n",
            "         283       0.00      0.00      0.00         1\n",
            "         284       0.00      0.00      0.00         0\n",
            "         287       0.00      0.00      0.00         1\n",
            "         288       0.00      0.00      0.00         0\n",
            "         290       0.00      0.00      0.00         0\n",
            "         291       0.00      0.00      0.00         2\n",
            "         297       0.00      0.00      0.00         2\n",
            "         301       0.00      0.00      0.00         0\n",
            "         311       0.00      0.00      0.00         1\n",
            "         314       0.00      0.00      0.00         0\n",
            "         316       0.00      0.00      0.00         1\n",
            "         319       0.00      0.00      0.00         0\n",
            "         324       0.00      0.00      0.00         1\n",
            "         336       0.00      0.00      0.00         0\n",
            "         345       0.00      0.00      0.00         0\n",
            "         355       0.00      0.00      0.00         1\n",
            "         362       0.00      0.00      0.00         0\n",
            "         363       0.00      0.00      0.00         0\n",
            "         374       0.00      0.00      0.00         2\n",
            "         378       0.00      0.00      0.00         1\n",
            "         379       0.00      0.00      0.00         0\n",
            "         380       0.00      0.00      0.00         1\n",
            "         383       0.00      0.00      0.00         1\n",
            "         384       0.00      0.00      0.00         0\n",
            "         394       0.00      0.00      0.00         0\n",
            "         400       0.00      0.00      0.00         1\n",
            "         401       0.00      0.00      0.00         1\n",
            "         406       0.00      0.00      0.00         1\n",
            "         407       0.00      0.00      0.00         0\n",
            "         411       0.00      0.00      0.00         0\n",
            "         412       0.00      0.00      0.00         1\n",
            "         426       0.00      0.00      0.00         0\n",
            "         430       0.00      0.00      0.00         1\n",
            "         434       0.00      0.00      0.00         1\n",
            "         445       0.00      0.00      0.00         0\n",
            "         451       0.00      0.00      0.00         1\n",
            "         465       0.00      0.00      0.00         1\n",
            "         474       0.00      0.00      0.00         1\n",
            "         489       0.00      0.00      0.00         0\n",
            "         499       0.00      0.00      0.00         0\n",
            "         504       0.00      0.00      0.00         0\n",
            "         507       0.00      0.00      0.00         1\n",
            "         509       0.00      0.00      0.00         0\n",
            "         513       0.00      0.00      0.00         1\n",
            "         519       0.00      0.00      0.00         0\n",
            "         528       0.00      0.00      0.00         0\n",
            "         554       0.00      0.00      0.00         1\n",
            "         562       0.00      0.00      0.00         1\n",
            "         594       0.00      0.00      0.00         1\n",
            "         606       0.00      0.00      0.00         1\n",
            "         611       0.00      0.00      0.00         1\n",
            "         619       0.00      0.00      0.00         1\n",
            "         626       0.00      0.00      0.00         0\n",
            "         635       0.00      0.00      0.00         0\n",
            "         653       0.00      0.00      0.00         1\n",
            "         656       0.00      0.00      0.00         1\n",
            "         691       0.00      0.00      0.00         1\n",
            "         726       0.00      0.00      0.00         1\n",
            "         747       0.00      0.00      0.00         0\n",
            "         762       0.00      0.00      0.00         1\n",
            "         873       0.00      0.00      0.00         1\n",
            "         895       0.00      0.00      0.00         0\n",
            "         928       0.00      0.00      0.00         1\n",
            "         979       0.00      0.00      0.00         1\n",
            "        1005       0.00      0.00      0.00         1\n",
            "        1072       0.00      0.00      0.00         1\n",
            "        1404       0.00      0.00      0.00         1\n",
            "        7227       0.00      0.00      0.00         1\n",
            "\n",
            "    accuracy                           0.67      9220\n",
            "   macro avg       0.01      0.01      0.01      9220\n",
            "weighted avg       0.64      0.67      0.65      9220\n",
            "\n"
          ],
          "name": "stdout"
        },
        {
          "output_type": "stream",
          "text": [
            "/usr/local/lib/python3.6/dist-packages/sklearn/metrics/_classification.py:1272: UndefinedMetricWarning: Precision and F-score are ill-defined and being set to 0.0 in labels with no predicted samples. Use `zero_division` parameter to control this behavior.\n",
            "  _warn_prf(average, modifier, msg_start, len(result))\n",
            "/usr/local/lib/python3.6/dist-packages/sklearn/metrics/_classification.py:1272: UndefinedMetricWarning: Recall and F-score are ill-defined and being set to 0.0 in labels with no true samples. Use `zero_division` parameter to control this behavior.\n",
            "  _warn_prf(average, modifier, msg_start, len(result))\n"
          ],
          "name": "stderr"
        }
      ]
    },
    {
      "cell_type": "markdown",
      "metadata": {
        "id": "5FQpPzClBjnA"
      },
      "source": [
        "Finalement, cette méthode nous permet de prédire le nombre de mot insulte de la portion test de notre dataset avec une accuracy de 67%."
      ]
    },
    {
      "cell_type": "code",
      "metadata": {
        "id": "cZvucwFY5HaH",
        "colab": {
          "base_uri": "https://localhost:8080/"
        },
        "outputId": "68c35bf2-2b92-42be-9c45-161aed3c6890"
      },
      "source": [
        "final_mse = mean_squared_error(Ytestc, YpredLR)\n",
        "final_rmse = np.sqrt(final_mse)\n",
        "final_rmse"
      ],
      "execution_count": null,
      "outputs": [
        {
          "output_type": "execute_result",
          "data": {
            "text/plain": [
              "78.18158406407417"
            ]
          },
          "metadata": {
            "tags": []
          },
          "execution_count": 27
        }
      ]
    },
    {
      "cell_type": "markdown",
      "metadata": {
        "id": "-fFOlxb8497z"
      },
      "source": [
        "On a un écart en moyenne de 78,18 mots dans la prédiction (ce qui en fait donc une mauvaise prédiction mais cela peut être liée aux outliers qui sont très pris en compte par la méthode mean squarred error)"
      ]
    },
    {
      "cell_type": "code",
      "metadata": {
        "id": "amqdwZKjC6RM",
        "colab": {
          "base_uri": "https://localhost:8080/"
        },
        "outputId": "f18e71c4-36f7-40ed-d4f8-ce87dfc148e8"
      },
      "source": [
        "final_mae = mean_absolute_error(Ytestc, YpredLR)\n",
        "final_mae"
      ],
      "execution_count": null,
      "outputs": [
        {
          "output_type": "execute_result",
          "data": {
            "text/plain": [
              "5.416702819956616"
            ]
          },
          "metadata": {
            "tags": []
          },
          "execution_count": 28
        }
      ]
    },
    {
      "cell_type": "markdown",
      "metadata": {
        "id": "1cD2PdD_C-zj"
      },
      "source": [
        "On a un écart en moyenne de 5,41 mots dans la prédiction (la métrique de MAE prend moins en compte les outliers que la MSE ce qui montre que les outliers sont à l'origine du gros écart de prédiction observé précédemment et que celle-ci n'est pas si mauvaise.)"
      ]
    },
    {
      "cell_type": "code",
      "metadata": {
        "id": "y3MFJJ3ZhQta",
        "colab": {
          "base_uri": "https://localhost:8080/"
        },
        "outputId": "1debb38a-c1e9-4036-a4fa-dc90ef7218e3"
      },
      "source": [
        "print(regLR.score(Xtest_stdc, Ytestc))"
      ],
      "execution_count": null,
      "outputs": [
        {
          "output_type": "stream",
          "text": [
            "0.6707158351409979\n"
          ],
          "name": "stdout"
        }
      ]
    },
    {
      "cell_type": "markdown",
      "metadata": {
        "id": "NmZc6PEUhgb9"
      },
      "source": [
        "On obtient un score de 0,67 pour notre modèle de regression logistique."
      ]
    },
    {
      "cell_type": "markdown",
      "metadata": {
        "id": "cyNjV3NLYoGY"
      },
      "source": [
        "#Dummy algorithm"
      ]
    },
    {
      "cell_type": "markdown",
      "metadata": {
        "id": "aLUb-QmuYrX2"
      },
      "source": [
        "On réalise cet algorithme qui prédit de façon aléatoire un nombre d'insulte. Les résultats de performance de cet algorithme vont permettre de montrer la performance de nos algorithmes plus \"intelligents\"."
      ]
    },
    {
      "cell_type": "code",
      "metadata": {
        "id": "ZZbzN-yCaRhJ",
        "colab": {
          "base_uri": "https://localhost:8080/"
        },
        "outputId": "3dd5c457-b1b0-4a99-c49c-e65b45266e07"
      },
      "source": [
        "regDUM = dummy.DummyRegressor(strategy='mean')\n",
        "regDUM.fit(Xtrainc, Ytrainc)\n",
        "YpredDUM = regDUM.predict(Xtestc)\n",
        "final_mae = mean_absolute_error(Ytestc, YpredDUM)\n",
        "final_mae\n"
      ],
      "execution_count": null,
      "outputs": [
        {
          "output_type": "execute_result",
          "data": {
            "text/plain": [
              "14.91550223312879"
            ]
          },
          "metadata": {
            "tags": []
          },
          "execution_count": 5
        }
      ]
    },
    {
      "cell_type": "code",
      "metadata": {
        "id": "yUunPRFxWhJJ",
        "colab": {
          "base_uri": "https://localhost:8080/"
        },
        "outputId": "16682586-9a0a-4002-946f-775974fbfcd6"
      },
      "source": [
        "print(regDUM.score(Xtestc, Ytestc))"
      ],
      "execution_count": null,
      "outputs": [
        {
          "output_type": "stream",
          "text": [
            "-7.477432889868574e-05\n"
          ],
          "name": "stdout"
        }
      ]
    },
    {
      "cell_type": "markdown",
      "metadata": {
        "id": "CT9wjnhDaoj0"
      },
      "source": [
        "On obtient un écart moyen de 14,92 mots ce qui montre bien la performance supérieure de nos modèles."
      ]
    },
    {
      "cell_type": "markdown",
      "metadata": {
        "id": "PMzDmVVG5RsF"
      },
      "source": [
        "# SVR"
      ]
    },
    {
      "cell_type": "markdown",
      "metadata": {
        "id": "90iil492f8lO"
      },
      "source": [
        "On va créer un SVR avec un noyau linéaire et un paramètre gamma réglé sur sa valeur par défaut 'scale'."
      ]
    },
    {
      "cell_type": "code",
      "metadata": {
        "id": "Z2xkxLWe5ml-",
        "colab": {
          "base_uri": "https://localhost:8080/"
        },
        "outputId": "265fac84-e6f3-46e8-ecdd-8d85e2e11c46"
      },
      "source": [
        "regSVR = svm.SVR(kernel='linear', gamma='scale')\n",
        "regSVR.fit(Xtrain_stdc, Ytrainc)"
      ],
      "execution_count": null,
      "outputs": [
        {
          "output_type": "execute_result",
          "data": {
            "text/plain": [
              "SVR(C=1.0, cache_size=200, coef0=0.0, degree=3, epsilon=0.1, gamma='scale',\n",
              "    kernel='linear', max_iter=-1, shrinking=True, tol=0.001, verbose=False)"
            ]
          },
          "metadata": {
            "tags": []
          },
          "execution_count": 15
        }
      ]
    },
    {
      "cell_type": "markdown",
      "metadata": {
        "id": "NHd71izSgOYX"
      },
      "source": [
        "On applique ici le modèle entraîné au set Xtest"
      ]
    },
    {
      "cell_type": "code",
      "metadata": {
        "id": "VtBgv7tz5quc"
      },
      "source": [
        "YpredSVR = regSVR.predict(Xtest_stdc)"
      ],
      "execution_count": null,
      "outputs": []
    },
    {
      "cell_type": "markdown",
      "metadata": {
        "id": "mqJfUMIAglno"
      },
      "source": [
        "On va maintenant calculer certaines valeurs déterminantes pour vérifier l'efficacité de notre modèle comme pour les modèles et méthodes de régression précédents."
      ]
    },
    {
      "cell_type": "code",
      "metadata": {
        "id": "woDgypPigb11",
        "colab": {
          "base_uri": "https://localhost:8080/"
        },
        "outputId": "c9b71adb-6962-416a-e75b-2570e3f067dd"
      },
      "source": [
        "final_mae = mean_absolute_error(Ytestc, YpredSVR)\n",
        "final_mae"
      ],
      "execution_count": null,
      "outputs": [
        {
          "output_type": "execute_result",
          "data": {
            "text/plain": [
              "4.409128367213442"
            ]
          },
          "metadata": {
            "tags": []
          },
          "execution_count": 17
        }
      ]
    },
    {
      "cell_type": "code",
      "metadata": {
        "id": "zIBl1hJkc22d",
        "colab": {
          "base_uri": "https://localhost:8080/"
        },
        "outputId": "42ecf6a9-4168-4e56-ef31-b410c9aad9e3"
      },
      "source": [
        "print(regSVR.score(Xtest_stdc, Ytestc))"
      ],
      "execution_count": null,
      "outputs": [
        {
          "output_type": "stream",
          "text": [
            "0.7904146952908019\n"
          ],
          "name": "stdout"
        }
      ]
    },
    {
      "cell_type": "markdown",
      "metadata": {
        "id": "KFnMZhcC51lZ"
      },
      "source": [
        "D'après la métrique MAE, il y a une moyenne de 4,4 mots d'écart entre la prédiction et la vraie valeur. Et notre classsifieur a un score de 0,79\n"
      ]
    },
    {
      "cell_type": "markdown",
      "metadata": {
        "id": "YNWZ_pK_hGuf"
      },
      "source": [
        "# Knn Regression"
      ]
    },
    {
      "cell_type": "markdown",
      "metadata": {
        "id": "2K9cMRDJhVLP"
      },
      "source": [
        "On va ici utiliser la méthode des K-nearest neighbours pour mettre au point un modèle de prédiction du nombre d'insulte. Pour cela on va utiliser notre dataset standardisé."
      ]
    },
    {
      "cell_type": "markdown",
      "metadata": {
        "id": "bayQgCmd30qa"
      },
      "source": [
        "On va désormais déterminer le nombre de plus proches voisins à sélectionner pour avoir le modèle le plus pertinent."
      ]
    },
    {
      "cell_type": "code",
      "metadata": {
        "id": "uoor4HgJ1vJl",
        "colab": {
          "base_uri": "https://localhost:8080/"
        },
        "outputId": "6f87f3ef-f3e8-442f-f449-96cf95403de8"
      },
      "source": [
        "# Fixer les valeurs des hyperparamètres à tester\n",
        "param_grid = {'n_neighbors':[3, 5, 7, 9, 11, 13, 15]}\n",
        "\n",
        "# Choisir un score à optimiser, ici l'accuracy (proportion de prédictions correctes)\n",
        "score = 'accuracy'\n",
        "\n",
        "# Créer un classifieur kNN avec recherche d'hyperparamètre par validation croisée\n",
        "regKnn = model_selection.GridSearchCV(\n",
        "    neighbors.KNeighborsClassifier(), # un classifieur kNN\n",
        "    param_grid,     # hyperparamètres à tester\n",
        "    cv=5,           # nombre de folds de validation croisée\n",
        "    scoring=score   # score à optimiser\n",
        ")\n",
        "\n",
        "# Optimiser ce classifieur sur le jeu d'entraînement\n",
        "regKnn.fit(Xtrain_stdc, Ytrainc)\n",
        "\n",
        "# Afficher le(s) hyperparamètre(s) optimaux\n",
        "print(\"Meilleur(s) hyperparamètre(s) sur le jeu d'entraînement:\")\n",
        "print(regKnn.best_params_)\n",
        "\n",
        "# Afficher les performances correspondantes\n",
        "print(\"Résultats de la validation croisée :\")\n",
        "for mean, std, params in zip(\n",
        "        regKnn.cv_results_['mean_test_score'], # score moyen\n",
        "        regKnn.cv_results_['std_test_score'],  # écart-type du score\n",
        "        regKnn.cv_results_['params']           # valeur de l'hyperparamètre\n",
        "    ):\n",
        "\n",
        "    print(\"{} = {:.3f} (+/-{:.03f}) for {}\".format(\n",
        "        score,\n",
        "        mean,\n",
        "        std*2,\n",
        "        params\n",
        "    ) )\n",
        "\n"
      ],
      "execution_count": null,
      "outputs": [
        {
          "output_type": "stream",
          "text": [
            "/usr/local/lib/python3.6/dist-packages/sklearn/model_selection/_split.py:667: UserWarning: The least populated class in y has only 1 members, which is less than n_splits=5.\n",
            "  % (min_groups, self.n_splits)), UserWarning)\n"
          ],
          "name": "stderr"
        },
        {
          "output_type": "stream",
          "text": [
            "Meilleur(s) hyperparamètre(s) sur le jeu d'entraînement:\n",
            "{'n_neighbors': 3}\n",
            "Résultats de la validation croisée :\n",
            "accuracy = 0.659 (+/-0.006) for {'n_neighbors': 3}\n",
            "accuracy = 0.658 (+/-0.007) for {'n_neighbors': 5}\n",
            "accuracy = 0.657 (+/-0.008) for {'n_neighbors': 7}\n",
            "accuracy = 0.654 (+/-0.007) for {'n_neighbors': 9}\n",
            "accuracy = 0.652 (+/-0.007) for {'n_neighbors': 11}\n",
            "accuracy = 0.650 (+/-0.008) for {'n_neighbors': 13}\n",
            "accuracy = 0.649 (+/-0.008) for {'n_neighbors': 15}\n"
          ],
          "name": "stdout"
        }
      ]
    },
    {
      "cell_type": "markdown",
      "metadata": {
        "id": "Wdcj5-b93_NN"
      },
      "source": [
        "La recherche du nombre optimal de plus proche voisin nous a donné avec la validation croisée un résultat de 3 plus proche voisin. On applique ensuite notre modèle avec 3 plus proches voisins sur notre dataset."
      ]
    },
    {
      "cell_type": "code",
      "metadata": {
        "id": "_CkXGLCfhKaa",
        "colab": {
          "base_uri": "https://localhost:8080/"
        },
        "outputId": "76869164-2108-4d6c-84df-b528ad05f344"
      },
      "source": [
        "regKnn = KNeighborsRegressor(n_neighbors=3)\n",
        "regKnn.fit(Xtrain_stdc, Ytrainc)"
      ],
      "execution_count": null,
      "outputs": [
        {
          "output_type": "execute_result",
          "data": {
            "text/plain": [
              "KNeighborsRegressor(algorithm='auto', leaf_size=30, metric='minkowski',\n",
              "                    metric_params=None, n_jobs=None, n_neighbors=3, p=2,\n",
              "                    weights='uniform')"
            ]
          },
          "metadata": {
            "tags": []
          },
          "execution_count": 18
        }
      ]
    },
    {
      "cell_type": "markdown",
      "metadata": {
        "id": "UnZQJ8nDhooM"
      },
      "source": [
        "Avec les résultats précédents, On peut appliquer désormais notre modèle au dataset de test."
      ]
    },
    {
      "cell_type": "code",
      "metadata": {
        "id": "Brxah2aThNna"
      },
      "source": [
        "YpredKnn=regKnn.predict(Xtest_stdc)"
      ],
      "execution_count": null,
      "outputs": []
    },
    {
      "cell_type": "markdown",
      "metadata": {
        "id": "j0dVyiIohtXv"
      },
      "source": [
        "On va maintenant déterminer l'efficacité de notre modèle"
      ]
    },
    {
      "cell_type": "code",
      "metadata": {
        "id": "H9RIObJahPtl",
        "colab": {
          "base_uri": "https://localhost:8080/"
        },
        "outputId": "03c9b004-d7aa-4de3-9a15-45131ebc7274"
      },
      "source": [
        "final_mae = mean_absolute_error(Ytestc, YpredKnn)\n",
        "final_mae"
      ],
      "execution_count": null,
      "outputs": [
        {
          "output_type": "execute_result",
          "data": {
            "text/plain": [
              "4.0130151843817785"
            ]
          },
          "metadata": {
            "tags": []
          },
          "execution_count": 21
        }
      ]
    },
    {
      "cell_type": "code",
      "metadata": {
        "id": "OcjmUGbThSAQ",
        "colab": {
          "base_uri": "https://localhost:8080/"
        },
        "outputId": "112e3d71-f362-4daf-8281-9ab1bfb62f96"
      },
      "source": [
        "print(regKnn.score(Xtest_stdc, Ytestc))"
      ],
      "execution_count": null,
      "outputs": [
        {
          "output_type": "stream",
          "text": [
            "0.596516791242939\n"
          ],
          "name": "stdout"
        }
      ]
    },
    {
      "cell_type": "markdown",
      "metadata": {
        "id": "M3-meXIFiFyY"
      },
      "source": [
        "Ce modèle obtient finalement un score de 0,60 et un écart de prédiction de 4,01 mots en moyenne"
      ]
    },
    {
      "cell_type": "markdown",
      "metadata": {
        "id": "Cb_m_dXFdBYi"
      },
      "source": [
        "# Gradient Boosting"
      ]
    },
    {
      "cell_type": "markdown",
      "metadata": {
        "id": "QYfmdZ-TiKZ9"
      },
      "source": [
        "On va maintenant utiliser la méthode de Gradient Boosting pour établir un modèle de prédiction sur notre dataset."
      ]
    },
    {
      "cell_type": "code",
      "metadata": {
        "id": "rsGZ3v4AdE84",
        "colab": {
          "base_uri": "https://localhost:8080/"
        },
        "outputId": "8e3d0e3f-ff6f-471b-cc5e-9c34b86e69f9"
      },
      "source": [
        "regGB = ensemble.GradientBoostingRegressor()\n",
        "regGB.fit(Xtrainc, Ytrainc)"
      ],
      "execution_count": null,
      "outputs": [
        {
          "output_type": "execute_result",
          "data": {
            "text/plain": [
              "GradientBoostingRegressor(alpha=0.9, ccp_alpha=0.0, criterion='friedman_mse',\n",
              "                          init=None, learning_rate=0.1, loss='ls', max_depth=3,\n",
              "                          max_features=None, max_leaf_nodes=None,\n",
              "                          min_impurity_decrease=0.0, min_impurity_split=None,\n",
              "                          min_samples_leaf=1, min_samples_split=2,\n",
              "                          min_weight_fraction_leaf=0.0, n_estimators=100,\n",
              "                          n_iter_no_change=None, presort='deprecated',\n",
              "                          random_state=None, subsample=1.0, tol=0.0001,\n",
              "                          validation_fraction=0.1, verbose=0, warm_start=False)"
            ]
          },
          "metadata": {
            "tags": []
          },
          "execution_count": 23
        }
      ]
    },
    {
      "cell_type": "code",
      "metadata": {
        "id": "wccVRqJLdJKr"
      },
      "source": [
        "YpredGB = regGB.predict(Xtestc)"
      ],
      "execution_count": null,
      "outputs": []
    },
    {
      "cell_type": "code",
      "metadata": {
        "id": "ObQL-8lWdMtV",
        "colab": {
          "base_uri": "https://localhost:8080/"
        },
        "outputId": "e2e1acd0-5eda-4d3e-f88f-0d9e86050a38"
      },
      "source": [
        "final_mae = mean_absolute_error(Ytestc, YpredGB)\n",
        "final_mae"
      ],
      "execution_count": null,
      "outputs": [
        {
          "output_type": "execute_result",
          "data": {
            "text/plain": [
              "2.199012395201509"
            ]
          },
          "metadata": {
            "tags": []
          },
          "execution_count": 25
        }
      ]
    },
    {
      "cell_type": "code",
      "metadata": {
        "id": "ZrJbp08fdRFR",
        "colab": {
          "base_uri": "https://localhost:8080/"
        },
        "outputId": "87a3c318-8143-4a4b-ad19-0788cf003c40"
      },
      "source": [
        "print(regGB.score(Xtestc, Ytestc))"
      ],
      "execution_count": null,
      "outputs": [
        {
          "output_type": "stream",
          "text": [
            "0.7726416020954467\n"
          ],
          "name": "stdout"
        }
      ]
    },
    {
      "cell_type": "markdown",
      "metadata": {
        "id": "s1qL9Z2KhyNR"
      },
      "source": [
        "Notre modèle de regression obtient une note de 0,77. Et une moyenne de 2,20 mots d'écart entre la prédiction et la valeur réelle. Ce qui est pour l'instant notre meilleur résultat dans l'étude de ce dataset et qui constitue une bonne prédiction."
      ]
    },
    {
      "cell_type": "markdown",
      "metadata": {
        "id": "bZjqPeGA7Q-U"
      },
      "source": [
        "# Random Forest"
      ]
    },
    {
      "cell_type": "markdown",
      "metadata": {
        "id": "XvTuWy4IMgAJ"
      },
      "source": [
        "On va maintenant appliquer la méthode Random Forest sur notre dataset"
      ]
    },
    {
      "cell_type": "code",
      "metadata": {
        "id": "U8VIt_2eDBFS",
        "colab": {
          "base_uri": "https://localhost:8080/",
          "height": 439
        },
        "outputId": "3b9735f1-b9f0-4d2e-b621-c4de408c058e"
      },
      "source": [
        "ytr = pd.read_csv(\"/content/random_essai.csv\", sep=';', encoding = 'unicode_escape')\n",
        " #affichage du tableau de valeur\n",
        "ytr2 = ytr.iloc[:,0:14]\n",
        "ytr2"
      ],
      "execution_count": null,
      "outputs": [
        {
          "output_type": "execute_result",
          "data": {
            "text/html": [
              "<div>\n",
              "<style scoped>\n",
              "    .dataframe tbody tr th:only-of-type {\n",
              "        vertical-align: middle;\n",
              "    }\n",
              "\n",
              "    .dataframe tbody tr th {\n",
              "        vertical-align: top;\n",
              "    }\n",
              "\n",
              "    .dataframe thead th {\n",
              "        text-align: right;\n",
              "    }\n",
              "</style>\n",
              "<table border=\"1\" class=\"dataframe\">\n",
              "  <thead>\n",
              "    <tr style=\"text-align: right;\">\n",
              "      <th></th>\n",
              "      <th>ï»¿nbrMotInsulte</th>\n",
              "      <th>nbrMot</th>\n",
              "      <th>nbrMotAllong</th>\n",
              "      <th>nbrMotMAJ</th>\n",
              "      <th>nbrExclMark</th>\n",
              "      <th>nbrQuestMark</th>\n",
              "      <th>thread_count</th>\n",
              "      <th>comment_count</th>\n",
              "      <th>message_count</th>\n",
              "      <th>discussion_count</th>\n",
              "      <th>distinct_authors_count</th>\n",
              "      <th>authors_3channels_count</th>\n",
              "      <th>liked_authors_count</th>\n",
              "      <th>cat_inst</th>\n",
              "    </tr>\n",
              "  </thead>\n",
              "  <tbody>\n",
              "    <tr>\n",
              "      <th>0</th>\n",
              "      <td>18.0</td>\n",
              "      <td>3813.0</td>\n",
              "      <td>4.0</td>\n",
              "      <td>145.0</td>\n",
              "      <td>79.0</td>\n",
              "      <td>60.0</td>\n",
              "      <td>45.0</td>\n",
              "      <td>81.0</td>\n",
              "      <td>126.0</td>\n",
              "      <td>28.0</td>\n",
              "      <td>58.0</td>\n",
              "      <td>47.0</td>\n",
              "      <td>23.0</td>\n",
              "      <td>0.0</td>\n",
              "    </tr>\n",
              "    <tr>\n",
              "      <th>1</th>\n",
              "      <td>2.0</td>\n",
              "      <td>28.0</td>\n",
              "      <td>0.0</td>\n",
              "      <td>1.0</td>\n",
              "      <td>0.0</td>\n",
              "      <td>0.0</td>\n",
              "      <td>3.0</td>\n",
              "      <td>0.0</td>\n",
              "      <td>3.0</td>\n",
              "      <td>0.0</td>\n",
              "      <td>3.0</td>\n",
              "      <td>1.0</td>\n",
              "      <td>0.0</td>\n",
              "      <td>1.0</td>\n",
              "    </tr>\n",
              "    <tr>\n",
              "      <th>2</th>\n",
              "      <td>68.0</td>\n",
              "      <td>3804.0</td>\n",
              "      <td>9.0</td>\n",
              "      <td>56.0</td>\n",
              "      <td>75.0</td>\n",
              "      <td>54.0</td>\n",
              "      <td>52.0</td>\n",
              "      <td>86.0</td>\n",
              "      <td>138.0</td>\n",
              "      <td>22.0</td>\n",
              "      <td>83.0</td>\n",
              "      <td>49.0</td>\n",
              "      <td>36.0</td>\n",
              "      <td>0.0</td>\n",
              "    </tr>\n",
              "    <tr>\n",
              "      <th>3</th>\n",
              "      <td>0.0</td>\n",
              "      <td>4.0</td>\n",
              "      <td>1.0</td>\n",
              "      <td>2.0</td>\n",
              "      <td>0.0</td>\n",
              "      <td>0.0</td>\n",
              "      <td>2.0</td>\n",
              "      <td>0.0</td>\n",
              "      <td>2.0</td>\n",
              "      <td>0.0</td>\n",
              "      <td>2.0</td>\n",
              "      <td>0.0</td>\n",
              "      <td>0.0</td>\n",
              "      <td>2.0</td>\n",
              "    </tr>\n",
              "    <tr>\n",
              "      <th>4</th>\n",
              "      <td>3.0</td>\n",
              "      <td>737.0</td>\n",
              "      <td>1.0</td>\n",
              "      <td>18.0</td>\n",
              "      <td>5.0</td>\n",
              "      <td>6.0</td>\n",
              "      <td>17.0</td>\n",
              "      <td>6.0</td>\n",
              "      <td>23.0</td>\n",
              "      <td>4.0</td>\n",
              "      <td>18.0</td>\n",
              "      <td>7.0</td>\n",
              "      <td>7.0</td>\n",
              "      <td>3.0</td>\n",
              "    </tr>\n",
              "    <tr>\n",
              "      <th>...</th>\n",
              "      <td>...</td>\n",
              "      <td>...</td>\n",
              "      <td>...</td>\n",
              "      <td>...</td>\n",
              "      <td>...</td>\n",
              "      <td>...</td>\n",
              "      <td>...</td>\n",
              "      <td>...</td>\n",
              "      <td>...</td>\n",
              "      <td>...</td>\n",
              "      <td>...</td>\n",
              "      <td>...</td>\n",
              "      <td>...</td>\n",
              "      <td>...</td>\n",
              "    </tr>\n",
              "    <tr>\n",
              "      <th>46098</th>\n",
              "      <td>1.0</td>\n",
              "      <td>228.0</td>\n",
              "      <td>1.0</td>\n",
              "      <td>0.0</td>\n",
              "      <td>0.0</td>\n",
              "      <td>1.0</td>\n",
              "      <td>1.0</td>\n",
              "      <td>0.0</td>\n",
              "      <td>1.0</td>\n",
              "      <td>0.0</td>\n",
              "      <td>1.0</td>\n",
              "      <td>0.0</td>\n",
              "      <td>0.0</td>\n",
              "      <td>3.0</td>\n",
              "    </tr>\n",
              "    <tr>\n",
              "      <th>46099</th>\n",
              "      <td>2.0</td>\n",
              "      <td>287.0</td>\n",
              "      <td>0.0</td>\n",
              "      <td>3.0</td>\n",
              "      <td>2.0</td>\n",
              "      <td>0.0</td>\n",
              "      <td>8.0</td>\n",
              "      <td>0.0</td>\n",
              "      <td>8.0</td>\n",
              "      <td>0.0</td>\n",
              "      <td>7.0</td>\n",
              "      <td>5.0</td>\n",
              "      <td>3.0</td>\n",
              "      <td>1.0</td>\n",
              "    </tr>\n",
              "    <tr>\n",
              "      <th>46100</th>\n",
              "      <td>0.0</td>\n",
              "      <td>176.0</td>\n",
              "      <td>0.0</td>\n",
              "      <td>0.0</td>\n",
              "      <td>6.0</td>\n",
              "      <td>3.0</td>\n",
              "      <td>2.0</td>\n",
              "      <td>1.0</td>\n",
              "      <td>3.0</td>\n",
              "      <td>1.0</td>\n",
              "      <td>3.0</td>\n",
              "      <td>0.0</td>\n",
              "      <td>1.0</td>\n",
              "      <td>3.0</td>\n",
              "    </tr>\n",
              "    <tr>\n",
              "      <th>46101</th>\n",
              "      <td>152.0</td>\n",
              "      <td>16608.0</td>\n",
              "      <td>66.0</td>\n",
              "      <td>335.0</td>\n",
              "      <td>177.0</td>\n",
              "      <td>179.0</td>\n",
              "      <td>267.0</td>\n",
              "      <td>471.0</td>\n",
              "      <td>738.0</td>\n",
              "      <td>48.0</td>\n",
              "      <td>440.0</td>\n",
              "      <td>278.0</td>\n",
              "      <td>141.0</td>\n",
              "      <td>0.0</td>\n",
              "    </tr>\n",
              "    <tr>\n",
              "      <th>46102</th>\n",
              "      <td>NaN</td>\n",
              "      <td>NaN</td>\n",
              "      <td>NaN</td>\n",
              "      <td>NaN</td>\n",
              "      <td>NaN</td>\n",
              "      <td>NaN</td>\n",
              "      <td>NaN</td>\n",
              "      <td>NaN</td>\n",
              "      <td>NaN</td>\n",
              "      <td>NaN</td>\n",
              "      <td>NaN</td>\n",
              "      <td>NaN</td>\n",
              "      <td>NaN</td>\n",
              "      <td>NaN</td>\n",
              "    </tr>\n",
              "  </tbody>\n",
              "</table>\n",
              "<p>46103 rows × 14 columns</p>\n",
              "</div>"
            ],
            "text/plain": [
              "       ï»¿nbrMotInsulte   nbrMot  ...  liked_authors_count  cat_inst\n",
              "0                  18.0   3813.0  ...                 23.0       0.0\n",
              "1                   2.0     28.0  ...                  0.0       1.0\n",
              "2                  68.0   3804.0  ...                 36.0       0.0\n",
              "3                   0.0      4.0  ...                  0.0       2.0\n",
              "4                   3.0    737.0  ...                  7.0       3.0\n",
              "...                 ...      ...  ...                  ...       ...\n",
              "46098               1.0    228.0  ...                  0.0       3.0\n",
              "46099               2.0    287.0  ...                  3.0       1.0\n",
              "46100               0.0    176.0  ...                  1.0       3.0\n",
              "46101             152.0  16608.0  ...                141.0       0.0\n",
              "46102               NaN      NaN  ...                  NaN       NaN\n",
              "\n",
              "[46103 rows x 14 columns]"
            ]
          },
          "metadata": {
            "tags": []
          },
          "execution_count": 113
        }
      ]
    },
    {
      "cell_type": "markdown",
      "metadata": {
        "id": "BvgMOMIqMqR9"
      },
      "source": [
        "On sépare le dataset en une portion train et une portion test. Et on selectionne le paramètre à prédire : nbrMotInsulte"
      ]
    },
    {
      "cell_type": "code",
      "metadata": {
        "id": "6Tim1Wgw73-v"
      },
      "source": [
        "labels=ytr2['ï»¿nbrMotInsulte']\n",
        "features = deep.iloc[:,1:14]\n",
        "X=features\n",
        "\n",
        "y=np.ravel(labels)\n",
        "y2 = np.delete(y,(46102),0)\n",
        "\n",
        "X_train, X_test, y_train, y_test = train_test_split(X, y2, test_size=0.33, random_state=42)"
      ],
      "execution_count": null,
      "outputs": []
    },
    {
      "cell_type": "markdown",
      "metadata": {
        "id": "VU0AQ42iM8y-"
      },
      "source": [
        "On importe le modèle et on l'entraîne avec notre dataset"
      ]
    },
    {
      "cell_type": "code",
      "metadata": {
        "id": "uUfB_JbiBtb3"
      },
      "source": [
        "clf = tree.DecisionTreeRegressor(criterion = \"mse\", max_depth = 3, min_samples_split=3, min_samples_leaf=1)\n",
        "clf = clf.fit(X_train, y_train)\n",
        "dot_data = tree.export_graphviz(clf, out_file=None,\n",
        "            \n",
        "            filled=True, rounded=True,\n",
        "           )\n"
      ],
      "execution_count": null,
      "outputs": []
    },
    {
      "cell_type": "code",
      "metadata": {
        "id": "3GIrgh_bEDNZ",
        "colab": {
          "base_uri": "https://localhost:8080/"
        },
        "outputId": "3607359d-50b8-4fe3-d795-6455b649a2bc"
      },
      "source": [
        "clf.fit(X_train,y_train)\n",
        "pred_y=clf.predict(X_test)\n",
        "clf.score(X_test,y_test) "
      ],
      "execution_count": null,
      "outputs": [
        {
          "output_type": "execute_result",
          "data": {
            "text/plain": [
              "0.7341469696693972"
            ]
          },
          "metadata": {
            "tags": []
          },
          "execution_count": 116
        }
      ]
    },
    {
      "cell_type": "code",
      "metadata": {
        "id": "S1c4MrDOcTT5",
        "colab": {
          "base_uri": "https://localhost:8080/"
        },
        "outputId": "28b75270-7ad2-46cc-8b9f-229c808a2233"
      },
      "source": [
        "final_mae = mean_absolute_error(y_test, pred_y)\n",
        "final_mae"
      ],
      "execution_count": null,
      "outputs": [
        {
          "output_type": "execute_result",
          "data": {
            "text/plain": [
              "5.781308049174937"
            ]
          },
          "metadata": {
            "tags": []
          },
          "execution_count": 118
        }
      ]
    },
    {
      "cell_type": "markdown",
      "metadata": {
        "id": "EhBU_qWC9plP"
      },
      "source": [
        "# Réseau de neurone"
      ]
    },
    {
      "cell_type": "markdown",
      "metadata": {
        "id": "HHsqIQTSTSSC"
      },
      "source": [
        "On va maintenant utiliser la méthode de régression du réseau de neurone pour l'étude de notre Dataset."
      ]
    },
    {
      "cell_type": "markdown",
      "metadata": {
        "id": "qCSKK8orJp2H"
      },
      "source": [
        "Ainsi, pour avoir une meilleur prédiction, mais une moins bonne précision, nous avons décidé de créer une nouvelle variable ‘groupe’ : celle ci donne un numéro pour chaque tranche d’insulte (par exemple 0 si il y a entre 0 et 4 insultes, 1 si il y entre 5 et 9, …, 9 entre 200 et 300). Nous effectuerons un réseau de neurones pour le nombre d’insultes aussi et comparerons les précisions."
      ]
    },
    {
      "cell_type": "code",
      "metadata": {
        "id": "CwirYusI90Bo",
        "colab": {
          "base_uri": "https://localhost:8080/",
          "height": 473
        },
        "outputId": "b9cee957-e5ad-4af0-b074-eb9c2535c942"
      },
      "source": [
        "deep = pd.read_csv(\"/content/deep_data.csv\", sep=';', encoding = 'unicode_escape')\n",
        "deep"
      ],
      "execution_count": null,
      "outputs": [
        {
          "output_type": "execute_result",
          "data": {
            "text/html": [
              "<div>\n",
              "<style scoped>\n",
              "    .dataframe tbody tr th:only-of-type {\n",
              "        vertical-align: middle;\n",
              "    }\n",
              "\n",
              "    .dataframe tbody tr th {\n",
              "        vertical-align: top;\n",
              "    }\n",
              "\n",
              "    .dataframe thead th {\n",
              "        text-align: right;\n",
              "    }\n",
              "</style>\n",
              "<table border=\"1\" class=\"dataframe\">\n",
              "  <thead>\n",
              "    <tr style=\"text-align: right;\">\n",
              "      <th></th>\n",
              "      <th>nbrMotInsulte</th>\n",
              "      <th>nbrMot</th>\n",
              "      <th>nbrMotAllong</th>\n",
              "      <th>nbrMotMAJ</th>\n",
              "      <th>nbrExclMark</th>\n",
              "      <th>nbrQuestMark</th>\n",
              "      <th>nbrMotMoyenne</th>\n",
              "      <th>nbrMotInsulteMoyenne</th>\n",
              "      <th>nbrMotAllongMoyenne</th>\n",
              "      <th>nbrMotMAJMoyenne</th>\n",
              "      <th>nbrExclMarkMoyenne</th>\n",
              "      <th>nbrQuestMarkMoyenne</th>\n",
              "      <th>thread_count</th>\n",
              "      <th>comment_count</th>\n",
              "      <th>message_count</th>\n",
              "      <th>discussion_count</th>\n",
              "      <th>distinct_authors_count</th>\n",
              "      <th>authors_3channels_count</th>\n",
              "      <th>liked_authors_count</th>\n",
              "      <th>subscriberCount</th>\n",
              "      <th>cat_inst</th>\n",
              "      <th>groupe</th>\n",
              "      <th>0  4</th>\n",
              "      <th>5  9</th>\n",
              "      <th>10 14</th>\n",
              "      <th>15 20</th>\n",
              "      <th>20 30</th>\n",
              "      <th>30 50</th>\n",
              "      <th>50 100</th>\n",
              "      <th>100 150</th>\n",
              "      <th>150 200</th>\n",
              "      <th>200 300</th>\n",
              "      <th>300 500</th>\n",
              "      <th>500, 1000</th>\n",
              "      <th>1000, 1500</th>\n",
              "      <th>1500, 2000</th>\n",
              "      <th>2000, , 3000</th>\n",
              "      <th>3000 et plus</th>\n",
              "      <th>groupe.1</th>\n",
              "    </tr>\n",
              "  </thead>\n",
              "  <tbody>\n",
              "    <tr>\n",
              "      <th>0</th>\n",
              "      <td>18</td>\n",
              "      <td>3813</td>\n",
              "      <td>4</td>\n",
              "      <td>145</td>\n",
              "      <td>79</td>\n",
              "      <td>60</td>\n",
              "      <td>30.261900</td>\n",
              "      <td>0.142857</td>\n",
              "      <td>0.031746</td>\n",
              "      <td>1.150794</td>\n",
              "      <td>0.626984</td>\n",
              "      <td>0.476190</td>\n",
              "      <td>45</td>\n",
              "      <td>81</td>\n",
              "      <td>126</td>\n",
              "      <td>28</td>\n",
              "      <td>58</td>\n",
              "      <td>47</td>\n",
              "      <td>23</td>\n",
              "      <td>339922</td>\n",
              "      <td>0</td>\n",
              "      <td>4</td>\n",
              "      <td>0</td>\n",
              "      <td>0</td>\n",
              "      <td>0</td>\n",
              "      <td>4</td>\n",
              "      <td>0</td>\n",
              "      <td>0</td>\n",
              "      <td>0</td>\n",
              "      <td>0</td>\n",
              "      <td>0</td>\n",
              "      <td>0</td>\n",
              "      <td>0</td>\n",
              "      <td>0</td>\n",
              "      <td>0</td>\n",
              "      <td>0</td>\n",
              "      <td>0</td>\n",
              "      <td>0</td>\n",
              "      <td>4</td>\n",
              "    </tr>\n",
              "    <tr>\n",
              "      <th>1</th>\n",
              "      <td>2</td>\n",
              "      <td>28</td>\n",
              "      <td>0</td>\n",
              "      <td>1</td>\n",
              "      <td>0</td>\n",
              "      <td>0</td>\n",
              "      <td>9.333333</td>\n",
              "      <td>0.666667</td>\n",
              "      <td>0.000000</td>\n",
              "      <td>0.333333</td>\n",
              "      <td>0.000000</td>\n",
              "      <td>0.000000</td>\n",
              "      <td>3</td>\n",
              "      <td>0</td>\n",
              "      <td>3</td>\n",
              "      <td>0</td>\n",
              "      <td>3</td>\n",
              "      <td>1</td>\n",
              "      <td>0</td>\n",
              "      <td>189971</td>\n",
              "      <td>1</td>\n",
              "      <td>1</td>\n",
              "      <td>1</td>\n",
              "      <td>0</td>\n",
              "      <td>0</td>\n",
              "      <td>0</td>\n",
              "      <td>0</td>\n",
              "      <td>0</td>\n",
              "      <td>0</td>\n",
              "      <td>0</td>\n",
              "      <td>0</td>\n",
              "      <td>0</td>\n",
              "      <td>0</td>\n",
              "      <td>0</td>\n",
              "      <td>0</td>\n",
              "      <td>0</td>\n",
              "      <td>0</td>\n",
              "      <td>0</td>\n",
              "      <td>1</td>\n",
              "    </tr>\n",
              "    <tr>\n",
              "      <th>2</th>\n",
              "      <td>68</td>\n",
              "      <td>3804</td>\n",
              "      <td>9</td>\n",
              "      <td>56</td>\n",
              "      <td>75</td>\n",
              "      <td>54</td>\n",
              "      <td>27.565220</td>\n",
              "      <td>0.492754</td>\n",
              "      <td>0.065217</td>\n",
              "      <td>0.405797</td>\n",
              "      <td>0.543478</td>\n",
              "      <td>0.391304</td>\n",
              "      <td>52</td>\n",
              "      <td>86</td>\n",
              "      <td>138</td>\n",
              "      <td>22</td>\n",
              "      <td>83</td>\n",
              "      <td>49</td>\n",
              "      <td>36</td>\n",
              "      <td>339922</td>\n",
              "      <td>0</td>\n",
              "      <td>7</td>\n",
              "      <td>0</td>\n",
              "      <td>0</td>\n",
              "      <td>0</td>\n",
              "      <td>0</td>\n",
              "      <td>0</td>\n",
              "      <td>0</td>\n",
              "      <td>7</td>\n",
              "      <td>0</td>\n",
              "      <td>0</td>\n",
              "      <td>0</td>\n",
              "      <td>0</td>\n",
              "      <td>0</td>\n",
              "      <td>0</td>\n",
              "      <td>0</td>\n",
              "      <td>0</td>\n",
              "      <td>0</td>\n",
              "      <td>7</td>\n",
              "    </tr>\n",
              "    <tr>\n",
              "      <th>3</th>\n",
              "      <td>0</td>\n",
              "      <td>4</td>\n",
              "      <td>1</td>\n",
              "      <td>2</td>\n",
              "      <td>0</td>\n",
              "      <td>0</td>\n",
              "      <td>2.000000</td>\n",
              "      <td>0.000000</td>\n",
              "      <td>0.500000</td>\n",
              "      <td>1.000000</td>\n",
              "      <td>0.000000</td>\n",
              "      <td>0.000000</td>\n",
              "      <td>2</td>\n",
              "      <td>0</td>\n",
              "      <td>2</td>\n",
              "      <td>0</td>\n",
              "      <td>2</td>\n",
              "      <td>0</td>\n",
              "      <td>0</td>\n",
              "      <td>2862</td>\n",
              "      <td>2</td>\n",
              "      <td>1</td>\n",
              "      <td>1</td>\n",
              "      <td>0</td>\n",
              "      <td>0</td>\n",
              "      <td>0</td>\n",
              "      <td>0</td>\n",
              "      <td>0</td>\n",
              "      <td>0</td>\n",
              "      <td>0</td>\n",
              "      <td>0</td>\n",
              "      <td>0</td>\n",
              "      <td>0</td>\n",
              "      <td>0</td>\n",
              "      <td>0</td>\n",
              "      <td>0</td>\n",
              "      <td>0</td>\n",
              "      <td>0</td>\n",
              "      <td>1</td>\n",
              "    </tr>\n",
              "    <tr>\n",
              "      <th>4</th>\n",
              "      <td>3</td>\n",
              "      <td>737</td>\n",
              "      <td>1</td>\n",
              "      <td>18</td>\n",
              "      <td>5</td>\n",
              "      <td>6</td>\n",
              "      <td>32.043478</td>\n",
              "      <td>0.130435</td>\n",
              "      <td>0.043478</td>\n",
              "      <td>0.782609</td>\n",
              "      <td>0.217391</td>\n",
              "      <td>0.260870</td>\n",
              "      <td>17</td>\n",
              "      <td>6</td>\n",
              "      <td>23</td>\n",
              "      <td>4</td>\n",
              "      <td>18</td>\n",
              "      <td>7</td>\n",
              "      <td>7</td>\n",
              "      <td>30010</td>\n",
              "      <td>3</td>\n",
              "      <td>1</td>\n",
              "      <td>1</td>\n",
              "      <td>0</td>\n",
              "      <td>0</td>\n",
              "      <td>0</td>\n",
              "      <td>0</td>\n",
              "      <td>0</td>\n",
              "      <td>0</td>\n",
              "      <td>0</td>\n",
              "      <td>0</td>\n",
              "      <td>0</td>\n",
              "      <td>0</td>\n",
              "      <td>0</td>\n",
              "      <td>0</td>\n",
              "      <td>0</td>\n",
              "      <td>0</td>\n",
              "      <td>0</td>\n",
              "      <td>1</td>\n",
              "    </tr>\n",
              "    <tr>\n",
              "      <th>...</th>\n",
              "      <td>...</td>\n",
              "      <td>...</td>\n",
              "      <td>...</td>\n",
              "      <td>...</td>\n",
              "      <td>...</td>\n",
              "      <td>...</td>\n",
              "      <td>...</td>\n",
              "      <td>...</td>\n",
              "      <td>...</td>\n",
              "      <td>...</td>\n",
              "      <td>...</td>\n",
              "      <td>...</td>\n",
              "      <td>...</td>\n",
              "      <td>...</td>\n",
              "      <td>...</td>\n",
              "      <td>...</td>\n",
              "      <td>...</td>\n",
              "      <td>...</td>\n",
              "      <td>...</td>\n",
              "      <td>...</td>\n",
              "      <td>...</td>\n",
              "      <td>...</td>\n",
              "      <td>...</td>\n",
              "      <td>...</td>\n",
              "      <td>...</td>\n",
              "      <td>...</td>\n",
              "      <td>...</td>\n",
              "      <td>...</td>\n",
              "      <td>...</td>\n",
              "      <td>...</td>\n",
              "      <td>...</td>\n",
              "      <td>...</td>\n",
              "      <td>...</td>\n",
              "      <td>...</td>\n",
              "      <td>...</td>\n",
              "      <td>...</td>\n",
              "      <td>...</td>\n",
              "      <td>...</td>\n",
              "      <td>...</td>\n",
              "    </tr>\n",
              "    <tr>\n",
              "      <th>46097</th>\n",
              "      <td>0</td>\n",
              "      <td>16</td>\n",
              "      <td>0</td>\n",
              "      <td>0</td>\n",
              "      <td>3</td>\n",
              "      <td>0</td>\n",
              "      <td>5.333333</td>\n",
              "      <td>0.000000</td>\n",
              "      <td>0.000000</td>\n",
              "      <td>0.000000</td>\n",
              "      <td>1.000000</td>\n",
              "      <td>0.000000</td>\n",
              "      <td>3</td>\n",
              "      <td>0</td>\n",
              "      <td>3</td>\n",
              "      <td>0</td>\n",
              "      <td>3</td>\n",
              "      <td>1</td>\n",
              "      <td>0</td>\n",
              "      <td>149018</td>\n",
              "      <td>2</td>\n",
              "      <td>1</td>\n",
              "      <td>1</td>\n",
              "      <td>0</td>\n",
              "      <td>0</td>\n",
              "      <td>0</td>\n",
              "      <td>0</td>\n",
              "      <td>0</td>\n",
              "      <td>0</td>\n",
              "      <td>0</td>\n",
              "      <td>0</td>\n",
              "      <td>0</td>\n",
              "      <td>0</td>\n",
              "      <td>0</td>\n",
              "      <td>0</td>\n",
              "      <td>0</td>\n",
              "      <td>0</td>\n",
              "      <td>0</td>\n",
              "      <td>1</td>\n",
              "    </tr>\n",
              "    <tr>\n",
              "      <th>46098</th>\n",
              "      <td>1</td>\n",
              "      <td>228</td>\n",
              "      <td>1</td>\n",
              "      <td>0</td>\n",
              "      <td>0</td>\n",
              "      <td>1</td>\n",
              "      <td>228.000000</td>\n",
              "      <td>1.000000</td>\n",
              "      <td>1.000000</td>\n",
              "      <td>0.000000</td>\n",
              "      <td>0.000000</td>\n",
              "      <td>1.000000</td>\n",
              "      <td>1</td>\n",
              "      <td>0</td>\n",
              "      <td>1</td>\n",
              "      <td>0</td>\n",
              "      <td>1</td>\n",
              "      <td>0</td>\n",
              "      <td>0</td>\n",
              "      <td>568615</td>\n",
              "      <td>3</td>\n",
              "      <td>1</td>\n",
              "      <td>1</td>\n",
              "      <td>0</td>\n",
              "      <td>0</td>\n",
              "      <td>0</td>\n",
              "      <td>0</td>\n",
              "      <td>0</td>\n",
              "      <td>0</td>\n",
              "      <td>0</td>\n",
              "      <td>0</td>\n",
              "      <td>0</td>\n",
              "      <td>0</td>\n",
              "      <td>0</td>\n",
              "      <td>0</td>\n",
              "      <td>0</td>\n",
              "      <td>0</td>\n",
              "      <td>0</td>\n",
              "      <td>1</td>\n",
              "    </tr>\n",
              "    <tr>\n",
              "      <th>46099</th>\n",
              "      <td>2</td>\n",
              "      <td>287</td>\n",
              "      <td>0</td>\n",
              "      <td>3</td>\n",
              "      <td>2</td>\n",
              "      <td>0</td>\n",
              "      <td>35.875000</td>\n",
              "      <td>0.250000</td>\n",
              "      <td>0.000000</td>\n",
              "      <td>0.375000</td>\n",
              "      <td>0.250000</td>\n",
              "      <td>0.000000</td>\n",
              "      <td>8</td>\n",
              "      <td>0</td>\n",
              "      <td>8</td>\n",
              "      <td>0</td>\n",
              "      <td>7</td>\n",
              "      <td>5</td>\n",
              "      <td>3</td>\n",
              "      <td>189971</td>\n",
              "      <td>1</td>\n",
              "      <td>1</td>\n",
              "      <td>1</td>\n",
              "      <td>0</td>\n",
              "      <td>0</td>\n",
              "      <td>0</td>\n",
              "      <td>0</td>\n",
              "      <td>0</td>\n",
              "      <td>0</td>\n",
              "      <td>0</td>\n",
              "      <td>0</td>\n",
              "      <td>0</td>\n",
              "      <td>0</td>\n",
              "      <td>0</td>\n",
              "      <td>0</td>\n",
              "      <td>0</td>\n",
              "      <td>0</td>\n",
              "      <td>0</td>\n",
              "      <td>1</td>\n",
              "    </tr>\n",
              "    <tr>\n",
              "      <th>46100</th>\n",
              "      <td>0</td>\n",
              "      <td>176</td>\n",
              "      <td>0</td>\n",
              "      <td>0</td>\n",
              "      <td>6</td>\n",
              "      <td>3</td>\n",
              "      <td>58.666670</td>\n",
              "      <td>0.000000</td>\n",
              "      <td>0.000000</td>\n",
              "      <td>0.000000</td>\n",
              "      <td>2.000000</td>\n",
              "      <td>1.000000</td>\n",
              "      <td>2</td>\n",
              "      <td>1</td>\n",
              "      <td>3</td>\n",
              "      <td>1</td>\n",
              "      <td>3</td>\n",
              "      <td>0</td>\n",
              "      <td>1</td>\n",
              "      <td>180173</td>\n",
              "      <td>3</td>\n",
              "      <td>1</td>\n",
              "      <td>1</td>\n",
              "      <td>0</td>\n",
              "      <td>0</td>\n",
              "      <td>0</td>\n",
              "      <td>0</td>\n",
              "      <td>0</td>\n",
              "      <td>0</td>\n",
              "      <td>0</td>\n",
              "      <td>0</td>\n",
              "      <td>0</td>\n",
              "      <td>0</td>\n",
              "      <td>0</td>\n",
              "      <td>0</td>\n",
              "      <td>0</td>\n",
              "      <td>0</td>\n",
              "      <td>0</td>\n",
              "      <td>1</td>\n",
              "    </tr>\n",
              "    <tr>\n",
              "      <th>46101</th>\n",
              "      <td>152</td>\n",
              "      <td>16608</td>\n",
              "      <td>66</td>\n",
              "      <td>335</td>\n",
              "      <td>177</td>\n",
              "      <td>179</td>\n",
              "      <td>22.504070</td>\n",
              "      <td>0.205962</td>\n",
              "      <td>0.089431</td>\n",
              "      <td>0.453929</td>\n",
              "      <td>0.239837</td>\n",
              "      <td>0.242547</td>\n",
              "      <td>267</td>\n",
              "      <td>471</td>\n",
              "      <td>738</td>\n",
              "      <td>48</td>\n",
              "      <td>440</td>\n",
              "      <td>278</td>\n",
              "      <td>141</td>\n",
              "      <td>339922</td>\n",
              "      <td>0</td>\n",
              "      <td>9</td>\n",
              "      <td>0</td>\n",
              "      <td>0</td>\n",
              "      <td>0</td>\n",
              "      <td>0</td>\n",
              "      <td>0</td>\n",
              "      <td>0</td>\n",
              "      <td>0</td>\n",
              "      <td>0</td>\n",
              "      <td>9</td>\n",
              "      <td>0</td>\n",
              "      <td>0</td>\n",
              "      <td>0</td>\n",
              "      <td>0</td>\n",
              "      <td>0</td>\n",
              "      <td>0</td>\n",
              "      <td>0</td>\n",
              "      <td>9</td>\n",
              "    </tr>\n",
              "  </tbody>\n",
              "</table>\n",
              "<p>46102 rows × 39 columns</p>\n",
              "</div>"
            ],
            "text/plain": [
              "       nbrMotInsulte  nbrMot  ...  3000 et plus  groupe.1\n",
              "0                 18    3813  ...             0         4\n",
              "1                  2      28  ...             0         1\n",
              "2                 68    3804  ...             0         7\n",
              "3                  0       4  ...             0         1\n",
              "4                  3     737  ...             0         1\n",
              "...              ...     ...  ...           ...       ...\n",
              "46097              0      16  ...             0         1\n",
              "46098              1     228  ...             0         1\n",
              "46099              2     287  ...             0         1\n",
              "46100              0     176  ...             0         1\n",
              "46101            152   16608  ...             0         9\n",
              "\n",
              "[46102 rows x 39 columns]"
            ]
          },
          "metadata": {
            "tags": []
          },
          "execution_count": 162
        }
      ]
    },
    {
      "cell_type": "code",
      "metadata": {
        "id": "OJ6513KKCODp",
        "colab": {
          "base_uri": "https://localhost:8080/",
          "height": 439
        },
        "outputId": "cace07e6-ef46-4eab-90c0-ddb25563a70c"
      },
      "source": [
        "deep2 = deep.iloc[:,1:22]\n",
        "deep2"
      ],
      "execution_count": null,
      "outputs": [
        {
          "output_type": "execute_result",
          "data": {
            "text/html": [
              "<div>\n",
              "<style scoped>\n",
              "    .dataframe tbody tr th:only-of-type {\n",
              "        vertical-align: middle;\n",
              "    }\n",
              "\n",
              "    .dataframe tbody tr th {\n",
              "        vertical-align: top;\n",
              "    }\n",
              "\n",
              "    .dataframe thead th {\n",
              "        text-align: right;\n",
              "    }\n",
              "</style>\n",
              "<table border=\"1\" class=\"dataframe\">\n",
              "  <thead>\n",
              "    <tr style=\"text-align: right;\">\n",
              "      <th></th>\n",
              "      <th>nbrMot</th>\n",
              "      <th>nbrMotAllong</th>\n",
              "      <th>nbrMotMAJ</th>\n",
              "      <th>nbrExclMark</th>\n",
              "      <th>nbrQuestMark</th>\n",
              "      <th>nbrMotMoyenne</th>\n",
              "      <th>nbrMotInsulteMoyenne</th>\n",
              "      <th>nbrMotAllongMoyenne</th>\n",
              "      <th>nbrMotMAJMoyenne</th>\n",
              "      <th>nbrExclMarkMoyenne</th>\n",
              "      <th>nbrQuestMarkMoyenne</th>\n",
              "      <th>thread_count</th>\n",
              "      <th>comment_count</th>\n",
              "      <th>message_count</th>\n",
              "      <th>discussion_count</th>\n",
              "      <th>distinct_authors_count</th>\n",
              "      <th>authors_3channels_count</th>\n",
              "      <th>liked_authors_count</th>\n",
              "      <th>subscriberCount</th>\n",
              "      <th>cat_inst</th>\n",
              "      <th>groupe</th>\n",
              "    </tr>\n",
              "  </thead>\n",
              "  <tbody>\n",
              "    <tr>\n",
              "      <th>0</th>\n",
              "      <td>3813</td>\n",
              "      <td>4</td>\n",
              "      <td>145</td>\n",
              "      <td>79</td>\n",
              "      <td>60</td>\n",
              "      <td>30.261900</td>\n",
              "      <td>0.142857</td>\n",
              "      <td>0.031746</td>\n",
              "      <td>1.150794</td>\n",
              "      <td>0.626984</td>\n",
              "      <td>0.476190</td>\n",
              "      <td>45</td>\n",
              "      <td>81</td>\n",
              "      <td>126</td>\n",
              "      <td>28</td>\n",
              "      <td>58</td>\n",
              "      <td>47</td>\n",
              "      <td>23</td>\n",
              "      <td>339922</td>\n",
              "      <td>0</td>\n",
              "      <td>4</td>\n",
              "    </tr>\n",
              "    <tr>\n",
              "      <th>1</th>\n",
              "      <td>28</td>\n",
              "      <td>0</td>\n",
              "      <td>1</td>\n",
              "      <td>0</td>\n",
              "      <td>0</td>\n",
              "      <td>9.333333</td>\n",
              "      <td>0.666667</td>\n",
              "      <td>0.000000</td>\n",
              "      <td>0.333333</td>\n",
              "      <td>0.000000</td>\n",
              "      <td>0.000000</td>\n",
              "      <td>3</td>\n",
              "      <td>0</td>\n",
              "      <td>3</td>\n",
              "      <td>0</td>\n",
              "      <td>3</td>\n",
              "      <td>1</td>\n",
              "      <td>0</td>\n",
              "      <td>189971</td>\n",
              "      <td>1</td>\n",
              "      <td>1</td>\n",
              "    </tr>\n",
              "    <tr>\n",
              "      <th>2</th>\n",
              "      <td>3804</td>\n",
              "      <td>9</td>\n",
              "      <td>56</td>\n",
              "      <td>75</td>\n",
              "      <td>54</td>\n",
              "      <td>27.565220</td>\n",
              "      <td>0.492754</td>\n",
              "      <td>0.065217</td>\n",
              "      <td>0.405797</td>\n",
              "      <td>0.543478</td>\n",
              "      <td>0.391304</td>\n",
              "      <td>52</td>\n",
              "      <td>86</td>\n",
              "      <td>138</td>\n",
              "      <td>22</td>\n",
              "      <td>83</td>\n",
              "      <td>49</td>\n",
              "      <td>36</td>\n",
              "      <td>339922</td>\n",
              "      <td>0</td>\n",
              "      <td>7</td>\n",
              "    </tr>\n",
              "    <tr>\n",
              "      <th>3</th>\n",
              "      <td>4</td>\n",
              "      <td>1</td>\n",
              "      <td>2</td>\n",
              "      <td>0</td>\n",
              "      <td>0</td>\n",
              "      <td>2.000000</td>\n",
              "      <td>0.000000</td>\n",
              "      <td>0.500000</td>\n",
              "      <td>1.000000</td>\n",
              "      <td>0.000000</td>\n",
              "      <td>0.000000</td>\n",
              "      <td>2</td>\n",
              "      <td>0</td>\n",
              "      <td>2</td>\n",
              "      <td>0</td>\n",
              "      <td>2</td>\n",
              "      <td>0</td>\n",
              "      <td>0</td>\n",
              "      <td>2862</td>\n",
              "      <td>2</td>\n",
              "      <td>1</td>\n",
              "    </tr>\n",
              "    <tr>\n",
              "      <th>4</th>\n",
              "      <td>737</td>\n",
              "      <td>1</td>\n",
              "      <td>18</td>\n",
              "      <td>5</td>\n",
              "      <td>6</td>\n",
              "      <td>32.043478</td>\n",
              "      <td>0.130435</td>\n",
              "      <td>0.043478</td>\n",
              "      <td>0.782609</td>\n",
              "      <td>0.217391</td>\n",
              "      <td>0.260870</td>\n",
              "      <td>17</td>\n",
              "      <td>6</td>\n",
              "      <td>23</td>\n",
              "      <td>4</td>\n",
              "      <td>18</td>\n",
              "      <td>7</td>\n",
              "      <td>7</td>\n",
              "      <td>30010</td>\n",
              "      <td>3</td>\n",
              "      <td>1</td>\n",
              "    </tr>\n",
              "    <tr>\n",
              "      <th>...</th>\n",
              "      <td>...</td>\n",
              "      <td>...</td>\n",
              "      <td>...</td>\n",
              "      <td>...</td>\n",
              "      <td>...</td>\n",
              "      <td>...</td>\n",
              "      <td>...</td>\n",
              "      <td>...</td>\n",
              "      <td>...</td>\n",
              "      <td>...</td>\n",
              "      <td>...</td>\n",
              "      <td>...</td>\n",
              "      <td>...</td>\n",
              "      <td>...</td>\n",
              "      <td>...</td>\n",
              "      <td>...</td>\n",
              "      <td>...</td>\n",
              "      <td>...</td>\n",
              "      <td>...</td>\n",
              "      <td>...</td>\n",
              "      <td>...</td>\n",
              "    </tr>\n",
              "    <tr>\n",
              "      <th>46097</th>\n",
              "      <td>16</td>\n",
              "      <td>0</td>\n",
              "      <td>0</td>\n",
              "      <td>3</td>\n",
              "      <td>0</td>\n",
              "      <td>5.333333</td>\n",
              "      <td>0.000000</td>\n",
              "      <td>0.000000</td>\n",
              "      <td>0.000000</td>\n",
              "      <td>1.000000</td>\n",
              "      <td>0.000000</td>\n",
              "      <td>3</td>\n",
              "      <td>0</td>\n",
              "      <td>3</td>\n",
              "      <td>0</td>\n",
              "      <td>3</td>\n",
              "      <td>1</td>\n",
              "      <td>0</td>\n",
              "      <td>149018</td>\n",
              "      <td>2</td>\n",
              "      <td>1</td>\n",
              "    </tr>\n",
              "    <tr>\n",
              "      <th>46098</th>\n",
              "      <td>228</td>\n",
              "      <td>1</td>\n",
              "      <td>0</td>\n",
              "      <td>0</td>\n",
              "      <td>1</td>\n",
              "      <td>228.000000</td>\n",
              "      <td>1.000000</td>\n",
              "      <td>1.000000</td>\n",
              "      <td>0.000000</td>\n",
              "      <td>0.000000</td>\n",
              "      <td>1.000000</td>\n",
              "      <td>1</td>\n",
              "      <td>0</td>\n",
              "      <td>1</td>\n",
              "      <td>0</td>\n",
              "      <td>1</td>\n",
              "      <td>0</td>\n",
              "      <td>0</td>\n",
              "      <td>568615</td>\n",
              "      <td>3</td>\n",
              "      <td>1</td>\n",
              "    </tr>\n",
              "    <tr>\n",
              "      <th>46099</th>\n",
              "      <td>287</td>\n",
              "      <td>0</td>\n",
              "      <td>3</td>\n",
              "      <td>2</td>\n",
              "      <td>0</td>\n",
              "      <td>35.875000</td>\n",
              "      <td>0.250000</td>\n",
              "      <td>0.000000</td>\n",
              "      <td>0.375000</td>\n",
              "      <td>0.250000</td>\n",
              "      <td>0.000000</td>\n",
              "      <td>8</td>\n",
              "      <td>0</td>\n",
              "      <td>8</td>\n",
              "      <td>0</td>\n",
              "      <td>7</td>\n",
              "      <td>5</td>\n",
              "      <td>3</td>\n",
              "      <td>189971</td>\n",
              "      <td>1</td>\n",
              "      <td>1</td>\n",
              "    </tr>\n",
              "    <tr>\n",
              "      <th>46100</th>\n",
              "      <td>176</td>\n",
              "      <td>0</td>\n",
              "      <td>0</td>\n",
              "      <td>6</td>\n",
              "      <td>3</td>\n",
              "      <td>58.666670</td>\n",
              "      <td>0.000000</td>\n",
              "      <td>0.000000</td>\n",
              "      <td>0.000000</td>\n",
              "      <td>2.000000</td>\n",
              "      <td>1.000000</td>\n",
              "      <td>2</td>\n",
              "      <td>1</td>\n",
              "      <td>3</td>\n",
              "      <td>1</td>\n",
              "      <td>3</td>\n",
              "      <td>0</td>\n",
              "      <td>1</td>\n",
              "      <td>180173</td>\n",
              "      <td>3</td>\n",
              "      <td>1</td>\n",
              "    </tr>\n",
              "    <tr>\n",
              "      <th>46101</th>\n",
              "      <td>16608</td>\n",
              "      <td>66</td>\n",
              "      <td>335</td>\n",
              "      <td>177</td>\n",
              "      <td>179</td>\n",
              "      <td>22.504070</td>\n",
              "      <td>0.205962</td>\n",
              "      <td>0.089431</td>\n",
              "      <td>0.453929</td>\n",
              "      <td>0.239837</td>\n",
              "      <td>0.242547</td>\n",
              "      <td>267</td>\n",
              "      <td>471</td>\n",
              "      <td>738</td>\n",
              "      <td>48</td>\n",
              "      <td>440</td>\n",
              "      <td>278</td>\n",
              "      <td>141</td>\n",
              "      <td>339922</td>\n",
              "      <td>0</td>\n",
              "      <td>9</td>\n",
              "    </tr>\n",
              "  </tbody>\n",
              "</table>\n",
              "<p>46102 rows × 21 columns</p>\n",
              "</div>"
            ],
            "text/plain": [
              "       nbrMot  nbrMotAllong  nbrMotMAJ  ...  subscriberCount  cat_inst  groupe\n",
              "0        3813             4        145  ...           339922         0       4\n",
              "1          28             0          1  ...           189971         1       1\n",
              "2        3804             9         56  ...           339922         0       7\n",
              "3           4             1          2  ...             2862         2       1\n",
              "4         737             1         18  ...            30010         3       1\n",
              "...       ...           ...        ...  ...              ...       ...     ...\n",
              "46097      16             0          0  ...           149018         2       1\n",
              "46098     228             1          0  ...           568615         3       1\n",
              "46099     287             0          3  ...           189971         1       1\n",
              "46100     176             0          0  ...           180173         3       1\n",
              "46101   16608            66        335  ...           339922         0       9\n",
              "\n",
              "[46102 rows x 21 columns]"
            ]
          },
          "metadata": {
            "tags": []
          },
          "execution_count": 163
        }
      ]
    },
    {
      "cell_type": "markdown",
      "metadata": {
        "id": "bN4zXHsONOS4"
      },
      "source": [
        "Pour cela, on va séparer notre dataset en portion train et portion test, nous sélectionnons la variable à prédire : groupe. Nous standardisons ensuite nos données."
      ]
    },
    {
      "cell_type": "code",
      "metadata": {
        "id": "W2WLGXdx96F_"
      },
      "source": [
        "labels=deep['groupe']\n",
        "features = deep.iloc[:,1:21]\n",
        "\n"
      ],
      "execution_count": null,
      "outputs": []
    },
    {
      "cell_type": "code",
      "metadata": {
        "id": "fw2_ahiF-aCE"
      },
      "source": [
        "X=features\n",
        "\n",
        "y=np.ravel(labels)\n",
        "\n",
        "X_train, X_test, y_train, y_test = train_test_split(X, y, test_size=0.33, random_state=42)"
      ],
      "execution_count": null,
      "outputs": []
    },
    {
      "cell_type": "code",
      "metadata": {
        "id": "cI2Sb2gn-e-k"
      },
      "source": [
        "scaler = StandardScaler().fit(X_train)\n",
        "\n",
        "X_train = scaler.transform(X_train)\n",
        "\n",
        "X_test = scaler.transform(X_test)"
      ],
      "execution_count": null,
      "outputs": []
    },
    {
      "cell_type": "markdown",
      "metadata": {
        "id": "rrFLqK0dNY4S"
      },
      "source": [
        "On importe le modèle et on l'entraîne avec notre dataset train."
      ]
    },
    {
      "cell_type": "code",
      "metadata": {
        "id": "3bbu72Z4GELM"
      },
      "source": [
        "# Initializing the multilayer perceptron\n",
        "mlp = MLPRegressor(hidden_layer_sizes = 10,solver='sgd',learning_rate_init= 0.01, max_iter=100)\n"
      ],
      "execution_count": null,
      "outputs": []
    },
    {
      "cell_type": "code",
      "metadata": {
        "id": "GC71l1sFGZOh",
        "colab": {
          "base_uri": "https://localhost:8080/"
        },
        "outputId": "c6cbe6cf-a631-4972-a70b-a84789a1500c"
      },
      "source": [
        "mlp.fit(X_train, y_train)\n",
        "y_pred = mlp.predict\n",
        "# Outputs:\n",
        "MLPRegressor (activation='relu', alpha=0.0001, batch_size='auto', beta_1=0.9, \n",
        "beta_2=0.999, early_stopping=False, epsilon=1e-08,       \n",
        "hidden_layer_sizes=10, learning_rate='constant',      \n",
        "learning_rate_init=0.01, max_iter=500, momentum=0.9,       \n",
        "nesterovs_momentum=True, power_t=0.5, random_state=None,       \n",
        "shuffle=True, solver='sgd', tol=0.0001, validation_fraction=0.1,       \n",
        "verbose=False, warm_start=False)"
      ],
      "execution_count": null,
      "outputs": [
        {
          "output_type": "execute_result",
          "data": {
            "text/plain": [
              "MLPRegressor(activation='relu', alpha=0.0001, batch_size='auto', beta_1=0.9,\n",
              "             beta_2=0.999, early_stopping=False, epsilon=1e-08,\n",
              "             hidden_layer_sizes=10, learning_rate='constant',\n",
              "             learning_rate_init=0.01, max_fun=15000, max_iter=500, momentum=0.9,\n",
              "             n_iter_no_change=10, nesterovs_momentum=True, power_t=0.5,\n",
              "             random_state=None, shuffle=True, solver='sgd', tol=0.0001,\n",
              "             validation_fraction=0.1, verbose=False, warm_start=False)"
            ]
          },
          "metadata": {
            "tags": []
          },
          "execution_count": 168
        }
      ]
    },
    {
      "cell_type": "code",
      "metadata": {
        "id": "6bpEbjVfGk6w",
        "colab": {
          "base_uri": "https://localhost:8080/"
        },
        "outputId": "c5e9eb80-a767-4ca5-9038-73f15e2fcace"
      },
      "source": [
        "print( mlp.score(X_test,y_test))"
      ],
      "execution_count": null,
      "outputs": [
        {
          "output_type": "stream",
          "text": [
            "0.9527282360118754\n"
          ],
          "name": "stdout"
        }
      ]
    },
    {
      "cell_type": "markdown",
      "metadata": {
        "id": "rUA3d7DiNq8Z"
      },
      "source": [
        "On obtient un score pour notre modèle de prédiction de groupe de 0,95."
      ]
    },
    {
      "cell_type": "markdown",
      "metadata": {
        "id": "q3vmvDQ4NxAL"
      },
      "source": [
        "On importe et entraîne désormais un autre modèle pour prédire le nombre de mots d'insulte."
      ]
    },
    {
      "cell_type": "code",
      "metadata": {
        "id": "jCPt20LnPyNc",
        "colab": {
          "base_uri": "https://localhost:8080/"
        },
        "outputId": "c7ec4c21-8a11-4834-d254-70f4ec1a410f"
      },
      "source": [
        "regMLP = MLPClassifier(hidden_layer_sizes = 10,solver='sgd',learning_rate_init= 0.01, max_iter=100)\n",
        "regMLP.fit(Xtrain_stdc, Ytrainc)\n",
        "print( regMLP.score(Xtest_stdc,Ytestc))\n",
        "YpredMLP=regMLP.predict(Xtest_stdc)"
      ],
      "execution_count": null,
      "outputs": [
        {
          "output_type": "stream",
          "text": [
            "/usr/local/lib/python3.6/dist-packages/sklearn/neural_network/_multilayer_perceptron.py:571: ConvergenceWarning: Stochastic Optimizer: Maximum iterations (100) reached and the optimization hasn't converged yet.\n",
            "  % self.max_iter, ConvergenceWarning)\n"
          ],
          "name": "stderr"
        },
        {
          "output_type": "stream",
          "text": [
            "0.7513015184381778\n"
          ],
          "name": "stdout"
        }
      ]
    },
    {
      "cell_type": "code",
      "metadata": {
        "id": "44BBS0PWcr76",
        "colab": {
          "base_uri": "https://localhost:8080/"
        },
        "outputId": "6083a0fb-e322-49ec-8dfe-146b01b3ec6a"
      },
      "source": [
        "final_mae = mean_absolute_error(Ytestc, YpredMLP)\n",
        "final_mae"
      ],
      "execution_count": null,
      "outputs": [
        {
          "output_type": "execute_result",
          "data": {
            "text/plain": [
              "5.068763557483731"
            ]
          },
          "metadata": {
            "tags": []
          },
          "execution_count": 11
        }
      ]
    },
    {
      "cell_type": "markdown",
      "metadata": {
        "id": "c0e36KhkLkqt"
      },
      "source": [
        "On obtient pour la prédiction du nombre de mots d'insulte un score de 0,75 et un écart de prédiction de mots moyen de 5,07. \n",
        "Pour le modèle de prédiction du groupe, on obtient un score de 0,95."
      ]
    },
    {
      "cell_type": "markdown",
      "metadata": {
        "id": "Do2bNFjJQqQn"
      },
      "source": [
        "#Toxicité"
      ]
    },
    {
      "cell_type": "markdown",
      "metadata": {
        "id": "mK0GZeG990WP"
      },
      "source": [
        "Avant de commencer, notre principal objectif est de définir ce qu'est, pour nous, la toxicité : la toxicité est pour nous le caractère d'une vidéo pouvant attiser la haine et dans laquelle le débat des commentaires semble peut constructif. \n",
        "- dans un premier temps, nous avons supprimé les variables ne nous semblant pas pertinent : bien sûr, tout ce qui est id_chaine ou id_video est à supprimer, mais aussi le nom de la chaine et les différens types de catégories présents. En effet, baser la toxicité sur un type de vidéo serait stigmatisant car relatif à chacun\n",
        "- Ensuite, nous avons enlevé ce qui concernait les données absolues pour ne gardées que les valeurs relatives (moyennes) car les données absolues n'ont pas de pertinence ici \n",
        "- Des données comme le nombre de commentateurs ou de vues ne nous semblaient pas nons plus pertinent : en effet, une vidéo peut faire parler d'elle pour une bonne action comme pour une action attisant la haine. \n",
        "\n",
        "Ainsi, nous ne gardons que \"nbrMotMoyenne\", \"nbrMotInsulteMoyenne\", \"nbrMotAllongMoyenne\", \"nbrMotMAJMoyenne\", \"nbrExclMarkMoyenne\", \"nbrQuestMarkMoyenne\" \n",
        " \n",
        "La question de garder le nombre de question par commentaire s'est posée, car il n'est pas évident de l'ajouter. Mais au vu du nombre de questions provocantes et de la forte corrélation entre le nombre de questions et d'insultes, nous avons décidé de le garder. "
      ]
    },
    {
      "cell_type": "markdown",
      "metadata": {
        "id": "KFRvmlnt_MXP"
      },
      "source": [
        "Une fois les données sélectionnées, nous avons créé un nouveau Dataset : \n",
        "- pour chacune des colonnes gardées, nous avons calculer la moyenne de cette colonne, et créé une nouvelle variable égale à Valeur_de_la_colonne/Moyenne_de_la_colonne afin de mettre toutes les variables sur la même échelle \n",
        "- Ensuite nous avons sommé chacune des valeurs et divisé par le nombre de colonne afin d'obtenir un premier indice de toxicité, que nous allons modifier par la suite "
      ]
    },
    {
      "cell_type": "code",
      "metadata": {
        "id": "USHYaEJ46LXn",
        "colab": {
          "base_uri": "https://localhost:8080/",
          "height": 419
        },
        "outputId": "01df05a8-b6a2-4183-e54c-ae530aece022"
      },
      "source": [
        "tox = pd.read_csv(\"/content/partie3.csv\", sep=';', encoding = 'unicode_escape')\n",
        "tox"
      ],
      "execution_count": null,
      "outputs": [
        {
          "output_type": "execute_result",
          "data": {
            "text/html": [
              "<div>\n",
              "<style scoped>\n",
              "    .dataframe tbody tr th:only-of-type {\n",
              "        vertical-align: middle;\n",
              "    }\n",
              "\n",
              "    .dataframe tbody tr th {\n",
              "        vertical-align: top;\n",
              "    }\n",
              "\n",
              "    .dataframe thead th {\n",
              "        text-align: right;\n",
              "    }\n",
              "</style>\n",
              "<table border=\"1\" class=\"dataframe\">\n",
              "  <thead>\n",
              "    <tr style=\"text-align: right;\">\n",
              "      <th></th>\n",
              "      <th>MOT</th>\n",
              "      <th>INSULTE</th>\n",
              "      <th>ALLON</th>\n",
              "      <th>MAJ</th>\n",
              "      <th>EXCLA</th>\n",
              "      <th>QUEST</th>\n",
              "      <th>TOX</th>\n",
              "    </tr>\n",
              "  </thead>\n",
              "  <tbody>\n",
              "    <tr>\n",
              "      <th>0</th>\n",
              "      <td>1.310117</td>\n",
              "      <td>1.263725</td>\n",
              "      <td>0.706583</td>\n",
              "      <td>2.541088</td>\n",
              "      <td>1.123055</td>\n",
              "      <td>2.542750</td>\n",
              "      <td>1.581220</td>\n",
              "    </tr>\n",
              "    <tr>\n",
              "      <th>1</th>\n",
              "      <td>0.404064</td>\n",
              "      <td>5.897387</td>\n",
              "      <td>0.000000</td>\n",
              "      <td>0.736039</td>\n",
              "      <td>0.000000</td>\n",
              "      <td>0.000000</td>\n",
              "      <td>1.172915</td>\n",
              "    </tr>\n",
              "    <tr>\n",
              "      <th>2</th>\n",
              "      <td>1.193370</td>\n",
              "      <td>4.358938</td>\n",
              "      <td>1.451567</td>\n",
              "      <td>0.896048</td>\n",
              "      <td>0.973479</td>\n",
              "      <td>2.089477</td>\n",
              "      <td>1.827147</td>\n",
              "    </tr>\n",
              "    <tr>\n",
              "      <th>3</th>\n",
              "      <td>0.086585</td>\n",
              "      <td>0.000000</td>\n",
              "      <td>11.128684</td>\n",
              "      <td>2.208117</td>\n",
              "      <td>0.000000</td>\n",
              "      <td>0.000000</td>\n",
              "      <td>2.237231</td>\n",
              "    </tr>\n",
              "    <tr>\n",
              "      <th>4</th>\n",
              "      <td>1.387246</td>\n",
              "      <td>1.153837</td>\n",
              "      <td>0.967712</td>\n",
              "      <td>1.728092</td>\n",
              "      <td>0.389392</td>\n",
              "      <td>1.392985</td>\n",
              "      <td>1.169877</td>\n",
              "    </tr>\n",
              "    <tr>\n",
              "      <th>...</th>\n",
              "      <td>...</td>\n",
              "      <td>...</td>\n",
              "      <td>...</td>\n",
              "      <td>...</td>\n",
              "      <td>...</td>\n",
              "      <td>...</td>\n",
              "      <td>...</td>\n",
              "    </tr>\n",
              "    <tr>\n",
              "      <th>46097</th>\n",
              "      <td>0.230894</td>\n",
              "      <td>0.000000</td>\n",
              "      <td>0.000000</td>\n",
              "      <td>0.000000</td>\n",
              "      <td>1.791202</td>\n",
              "      <td>0.000000</td>\n",
              "      <td>0.337016</td>\n",
              "    </tr>\n",
              "    <tr>\n",
              "      <th>46098</th>\n",
              "      <td>9.870717</td>\n",
              "      <td>8.846080</td>\n",
              "      <td>22.257369</td>\n",
              "      <td>0.000000</td>\n",
              "      <td>0.000000</td>\n",
              "      <td>5.339776</td>\n",
              "      <td>7.718990</td>\n",
              "    </tr>\n",
              "    <tr>\n",
              "      <th>46099</th>\n",
              "      <td>1.553123</td>\n",
              "      <td>2.211520</td>\n",
              "      <td>0.000000</td>\n",
              "      <td>0.828044</td>\n",
              "      <td>0.447801</td>\n",
              "      <td>0.000000</td>\n",
              "      <td>0.840081</td>\n",
              "    </tr>\n",
              "    <tr>\n",
              "      <th>46100</th>\n",
              "      <td>2.539834</td>\n",
              "      <td>0.000000</td>\n",
              "      <td>0.000000</td>\n",
              "      <td>0.000000</td>\n",
              "      <td>3.582404</td>\n",
              "      <td>5.339776</td>\n",
              "      <td>1.910336</td>\n",
              "    </tr>\n",
              "    <tr>\n",
              "      <th>46101</th>\n",
              "      <td>0.974260</td>\n",
              "      <td>1.821957</td>\n",
              "      <td>1.990496</td>\n",
              "      <td>1.002330</td>\n",
              "      <td>0.429597</td>\n",
              "      <td>1.295149</td>\n",
              "      <td>1.252298</td>\n",
              "    </tr>\n",
              "  </tbody>\n",
              "</table>\n",
              "<p>46102 rows × 7 columns</p>\n",
              "</div>"
            ],
            "text/plain": [
              "            MOT   INSULTE      ALLON       MAJ     EXCLA     QUEST       TOX\n",
              "0      1.310117  1.263725   0.706583  2.541088  1.123055  2.542750  1.581220\n",
              "1      0.404064  5.897387   0.000000  0.736039  0.000000  0.000000  1.172915\n",
              "2      1.193370  4.358938   1.451567  0.896048  0.973479  2.089477  1.827147\n",
              "3      0.086585  0.000000  11.128684  2.208117  0.000000  0.000000  2.237231\n",
              "4      1.387246  1.153837   0.967712  1.728092  0.389392  1.392985  1.169877\n",
              "...         ...       ...        ...       ...       ...       ...       ...\n",
              "46097  0.230894  0.000000   0.000000  0.000000  1.791202  0.000000  0.337016\n",
              "46098  9.870717  8.846080  22.257369  0.000000  0.000000  5.339776  7.718990\n",
              "46099  1.553123  2.211520   0.000000  0.828044  0.447801  0.000000  0.840081\n",
              "46100  2.539834  0.000000   0.000000  0.000000  3.582404  5.339776  1.910336\n",
              "46101  0.974260  1.821957   1.990496  1.002330  0.429597  1.295149  1.252298\n",
              "\n",
              "[46102 rows x 7 columns]"
            ]
          },
          "metadata": {
            "tags": []
          },
          "execution_count": 123
        }
      ]
    },
    {
      "cell_type": "code",
      "metadata": {
        "id": "6wI8PZAT7GmG",
        "colab": {
          "base_uri": "https://localhost:8080/"
        },
        "outputId": "f832b513-63c9-458b-f6f9-6b18b3b0724f"
      },
      "source": [
        "\n",
        "tox1 = tox.drop(['MOT'], axis=1) \n",
        "tox2 = tox1.drop(['INSULTE'], axis=1)\n",
        "tox3 = tox2.drop(['ALLON'], axis=1) \n",
        "tox4 = tox3.drop(['MAJ'], axis=1) \n",
        "tox5 = tox4.drop(['EXCLA'], axis=1) \n",
        "tox6 = tox5.drop(['QUEST'], axis=1) \n",
        "\n",
        "range_n_clusters = [2, 3, 4, 5,6]\n",
        "for n in range_n_clusters:\n",
        "    clusterer = KMeans(n_clusters=n, n_init=10).fit(tox1) # Clustering avec le nombre de cluster\n",
        "    cluster_labels = clusterer.labels_ \n",
        "    silhouette_avg = silhouette_score(tox1, cluster_labels)\n",
        "    print(\"For n =\", n, \"Silhouette_score:\", silhouette_avg)"
      ],
      "execution_count": null,
      "outputs": [
        {
          "output_type": "stream",
          "text": [
            "For n = 2 Silhouette_score: 0.9443379521462079\n",
            "For n = 3 Silhouette_score: 0.7703854350891881\n",
            "For n = 4 Silhouette_score: 0.7676265565557645\n",
            "For n = 5 Silhouette_score: 0.7600842694678593\n",
            "For n = 6 Silhouette_score: 0.6501183142431468\n"
          ],
          "name": "stdout"
        }
      ]
    },
    {
      "cell_type": "markdown",
      "metadata": {
        "id": "kU3ttuQW81n-"
      },
      "source": [
        "silhouette à 0.94 pour n = 2, on va donc commencer par 2 clusters"
      ]
    },
    {
      "cell_type": "code",
      "metadata": {
        "id": "rdXJSc9R81Qb"
      },
      "source": [
        "def plot_corr(corr):\n",
        "    \n",
        "    mask = np.zeros_like(corr, dtype=np.bool)\n",
        "    mask[np.triu_indices_from(mask)] = True\n",
        "    \n",
        "    \n",
        "    cmap = sns.diverging_palette(220, 10, as_cmap=True)\n",
        "\n",
        "    sns.heatmap(corr, mask=mask, cmap=cmap)"
      ],
      "execution_count": null,
      "outputs": []
    },
    {
      "cell_type": "code",
      "metadata": {
        "id": "4Sk9VQhH9ioL"
      },
      "source": [
        "corr = tox.corr()"
      ],
      "execution_count": null,
      "outputs": []
    },
    {
      "cell_type": "code",
      "metadata": {
        "id": "3xU3XDdQ9lOc",
        "colab": {
          "base_uri": "https://localhost:8080/",
          "height": 265
        },
        "outputId": "259a7184-e8a8-40dd-9aaa-be26c69f4015"
      },
      "source": [
        "plot_corr(corr)"
      ],
      "execution_count": null,
      "outputs": [
        {
          "output_type": "display_data",
          "data": {
            "image/png": "[encoded data removed]",
            "text/plain": [
              "<Figure size 432x288 with 2 Axes>"
            ]
          },
          "metadata": {
            "tags": [],
            "needs_background": "light"
          }
        }
      ]
    },
    {
      "cell_type": "markdown",
      "metadata": {
        "id": "461apkwx9r4R"
      },
      "source": [
        "On remarque qu'aucune des variable n'a de lien probant les unes avec les autres, ce que nous avions déjà remarqué dans les parties précédentes"
      ]
    },
    {
      "cell_type": "markdown",
      "metadata": {
        "id": "qQJatkdEZoee"
      },
      "source": [
        "En revanche, nous pourrions nous questionner sur la pertinence de notre toxicité : on remarque que le nombre de question moyen par commentaire est plus corréler avec la toxicité que le nombre d'insulte, alors que selon nous pas du tout. \n",
        "Nous allons donc changer notre indice de toxicité : donner un poids différent à chaque variable, en donnant un ordre à chaqune. Quel est l'ordre des priorités selon nous ? 1. Insulte, 2. MAJ, 3.EXCLA, 4. ALLON, 5. MOT, 6. QUEST\n",
        "La somme des poids doit valoir environ avec : 1. 0,3 2. 0,25 3. 0,20 ... jusqu'à 6. 0,05 "
      ]
    },
    {
      "cell_type": "code",
      "metadata": {
        "id": "ER0xfASWEeHg",
        "colab": {
          "base_uri": "https://localhost:8080/",
          "height": 419
        },
        "outputId": "ca5df363-83d9-4b93-8d95-f5fed55d7f36"
      },
      "source": [
        "tox2 = pd.read_csv(\"/content/tox2.csv\", sep=';', encoding = 'unicode_escape')\n",
        "tox2"
      ],
      "execution_count": null,
      "outputs": [
        {
          "output_type": "execute_result",
          "data": {
            "text/html": [
              "<div>\n",
              "<style scoped>\n",
              "    .dataframe tbody tr th:only-of-type {\n",
              "        vertical-align: middle;\n",
              "    }\n",
              "\n",
              "    .dataframe tbody tr th {\n",
              "        vertical-align: top;\n",
              "    }\n",
              "\n",
              "    .dataframe thead th {\n",
              "        text-align: right;\n",
              "    }\n",
              "</style>\n",
              "<table border=\"1\" class=\"dataframe\">\n",
              "  <thead>\n",
              "    <tr style=\"text-align: right;\">\n",
              "      <th></th>\n",
              "      <th>MOT</th>\n",
              "      <th>INSULTE</th>\n",
              "      <th>ALLON</th>\n",
              "      <th>MAJ</th>\n",
              "      <th>EXCLA</th>\n",
              "      <th>QUEST</th>\n",
              "      <th>TOX</th>\n",
              "      <th>TOX2</th>\n",
              "    </tr>\n",
              "  </thead>\n",
              "  <tbody>\n",
              "    <tr>\n",
              "      <th>0</th>\n",
              "      <td>1.310117</td>\n",
              "      <td>1.263725</td>\n",
              "      <td>0.706583</td>\n",
              "      <td>2.541088</td>\n",
              "      <td>1.123055</td>\n",
              "      <td>2.542750</td>\n",
              "      <td>1.581220</td>\n",
              "      <td>1.470889</td>\n",
              "    </tr>\n",
              "    <tr>\n",
              "      <th>1</th>\n",
              "      <td>0.404064</td>\n",
              "      <td>5.897387</td>\n",
              "      <td>0.000000</td>\n",
              "      <td>0.736039</td>\n",
              "      <td>0.000000</td>\n",
              "      <td>0.000000</td>\n",
              "      <td>1.172915</td>\n",
              "      <td>1.705972</td>\n",
              "    </tr>\n",
              "    <tr>\n",
              "      <th>2</th>\n",
              "      <td>1.193370</td>\n",
              "      <td>4.358938</td>\n",
              "      <td>1.451567</td>\n",
              "      <td>0.896048</td>\n",
              "      <td>0.973479</td>\n",
              "      <td>2.089477</td>\n",
              "      <td>1.827147</td>\n",
              "      <td>2.074288</td>\n",
              "    </tr>\n",
              "    <tr>\n",
              "      <th>3</th>\n",
              "      <td>0.086585</td>\n",
              "      <td>0.000000</td>\n",
              "      <td>11.128684</td>\n",
              "      <td>2.208117</td>\n",
              "      <td>0.000000</td>\n",
              "      <td>0.000000</td>\n",
              "      <td>2.237231</td>\n",
              "      <td>2.582930</td>\n",
              "    </tr>\n",
              "    <tr>\n",
              "      <th>4</th>\n",
              "      <td>1.387246</td>\n",
              "      <td>1.153837</td>\n",
              "      <td>0.967712</td>\n",
              "      <td>1.728092</td>\n",
              "      <td>0.389392</td>\n",
              "      <td>1.392985</td>\n",
              "      <td>1.169877</td>\n",
              "      <td>1.265977</td>\n",
              "    </tr>\n",
              "    <tr>\n",
              "      <th>...</th>\n",
              "      <td>...</td>\n",
              "      <td>...</td>\n",
              "      <td>...</td>\n",
              "      <td>...</td>\n",
              "      <td>...</td>\n",
              "      <td>...</td>\n",
              "      <td>...</td>\n",
              "      <td>...</td>\n",
              "    </tr>\n",
              "    <tr>\n",
              "      <th>46097</th>\n",
              "      <td>0.230894</td>\n",
              "      <td>0.000000</td>\n",
              "      <td>0.000000</td>\n",
              "      <td>0.000000</td>\n",
              "      <td>1.791202</td>\n",
              "      <td>0.000000</td>\n",
              "      <td>0.337016</td>\n",
              "      <td>0.248388</td>\n",
              "    </tr>\n",
              "    <tr>\n",
              "      <th>46098</th>\n",
              "      <td>9.870717</td>\n",
              "      <td>8.846080</td>\n",
              "      <td>22.257369</td>\n",
              "      <td>0.000000</td>\n",
              "      <td>0.000000</td>\n",
              "      <td>5.339776</td>\n",
              "      <td>7.718990</td>\n",
              "      <td>9.891198</td>\n",
              "    </tr>\n",
              "    <tr>\n",
              "      <th>46099</th>\n",
              "      <td>1.553123</td>\n",
              "      <td>2.211520</td>\n",
              "      <td>0.000000</td>\n",
              "      <td>0.828044</td>\n",
              "      <td>0.447801</td>\n",
              "      <td>0.000000</td>\n",
              "      <td>0.840081</td>\n",
              "      <td>1.187803</td>\n",
              "    </tr>\n",
              "    <tr>\n",
              "      <th>46100</th>\n",
              "      <td>2.539834</td>\n",
              "      <td>0.000000</td>\n",
              "      <td>0.000000</td>\n",
              "      <td>0.000000</td>\n",
              "      <td>3.582404</td>\n",
              "      <td>5.339776</td>\n",
              "      <td>1.910336</td>\n",
              "      <td>1.387179</td>\n",
              "    </tr>\n",
              "    <tr>\n",
              "      <th>46101</th>\n",
              "      <td>0.974260</td>\n",
              "      <td>1.821957</td>\n",
              "      <td>1.990496</td>\n",
              "      <td>1.002330</td>\n",
              "      <td>0.429597</td>\n",
              "      <td>1.295149</td>\n",
              "      <td>1.252298</td>\n",
              "      <td>1.403933</td>\n",
              "    </tr>\n",
              "  </tbody>\n",
              "</table>\n",
              "<p>46102 rows × 8 columns</p>\n",
              "</div>"
            ],
            "text/plain": [
              "            MOT   INSULTE      ALLON  ...     QUEST       TOX      TOX2\n",
              "0      1.310117  1.263725   0.706583  ...  2.542750  1.581220  1.470889\n",
              "1      0.404064  5.897387   0.000000  ...  0.000000  1.172915  1.705972\n",
              "2      1.193370  4.358938   1.451567  ...  2.089477  1.827147  2.074288\n",
              "3      0.086585  0.000000  11.128684  ...  0.000000  2.237231  2.582930\n",
              "4      1.387246  1.153837   0.967712  ...  1.392985  1.169877  1.265977\n",
              "...         ...       ...        ...  ...       ...       ...       ...\n",
              "46097  0.230894  0.000000   0.000000  ...  0.000000  0.337016  0.248388\n",
              "46098  9.870717  8.846080  22.257369  ...  5.339776  7.718990  9.891198\n",
              "46099  1.553123  2.211520   0.000000  ...  0.000000  0.840081  1.187803\n",
              "46100  2.539834  0.000000   0.000000  ...  5.339776  1.910336  1.387179\n",
              "46101  0.974260  1.821957   1.990496  ...  1.295149  1.252298  1.403933\n",
              "\n",
              "[46102 rows x 8 columns]"
            ]
          },
          "metadata": {
            "tags": []
          },
          "execution_count": 138
        }
      ]
    },
    {
      "cell_type": "code",
      "metadata": {
        "id": "8IQAwYKACrRk"
      },
      "source": [
        "corr = tox2.corr()"
      ],
      "execution_count": null,
      "outputs": []
    },
    {
      "cell_type": "code",
      "metadata": {
        "id": "st9qZ428CzA5",
        "colab": {
          "base_uri": "https://localhost:8080/",
          "height": 296
        },
        "outputId": "3a69c25b-9f86-40e4-8434-0c285a415992"
      },
      "source": [
        "plot_corr(corr)"
      ],
      "execution_count": null,
      "outputs": [
        {
          "output_type": "display_data",
          "data": {
            "image/png": "[encoded data removed]",
            "text/plain": [
              "<Figure size 432x288 with 2 Axes>"
            ]
          },
          "metadata": {
            "tags": [],
            "needs_background": "light"
          }
        }
      ]
    },
    {
      "cell_type": "code",
      "metadata": {
        "id": "EYC1lU-DDxYJ",
        "colab": {
          "base_uri": "https://localhost:8080/",
          "height": 297
        },
        "outputId": "399be156-a8b7-4110-db17-3cd00d001927"
      },
      "source": [
        "tox2.corr(method = 'pearson')"
      ],
      "execution_count": null,
      "outputs": [
        {
          "output_type": "execute_result",
          "data": {
            "text/html": [
              "<div>\n",
              "<style scoped>\n",
              "    .dataframe tbody tr th:only-of-type {\n",
              "        vertical-align: middle;\n",
              "    }\n",
              "\n",
              "    .dataframe tbody tr th {\n",
              "        vertical-align: top;\n",
              "    }\n",
              "\n",
              "    .dataframe thead th {\n",
              "        text-align: right;\n",
              "    }\n",
              "</style>\n",
              "<table border=\"1\" class=\"dataframe\">\n",
              "  <thead>\n",
              "    <tr style=\"text-align: right;\">\n",
              "      <th></th>\n",
              "      <th>MOT</th>\n",
              "      <th>INSULTE</th>\n",
              "      <th>ALLON</th>\n",
              "      <th>MAJ</th>\n",
              "      <th>EXCLA</th>\n",
              "      <th>QUEST</th>\n",
              "      <th>TOX</th>\n",
              "      <th>TOX2</th>\n",
              "    </tr>\n",
              "  </thead>\n",
              "  <tbody>\n",
              "    <tr>\n",
              "      <th>MOT</th>\n",
              "      <td>1.000000</td>\n",
              "      <td>0.246022</td>\n",
              "      <td>0.191381</td>\n",
              "      <td>0.211840</td>\n",
              "      <td>0.189722</td>\n",
              "      <td>0.164161</td>\n",
              "      <td>0.447659</td>\n",
              "      <td>0.501910</td>\n",
              "    </tr>\n",
              "    <tr>\n",
              "      <th>INSULTE</th>\n",
              "      <td>0.246022</td>\n",
              "      <td>1.000000</td>\n",
              "      <td>0.029562</td>\n",
              "      <td>0.088727</td>\n",
              "      <td>0.111746</td>\n",
              "      <td>0.045457</td>\n",
              "      <td>0.388699</td>\n",
              "      <td>0.513285</td>\n",
              "    </tr>\n",
              "    <tr>\n",
              "      <th>ALLON</th>\n",
              "      <td>0.191381</td>\n",
              "      <td>0.029562</td>\n",
              "      <td>1.000000</td>\n",
              "      <td>0.192410</td>\n",
              "      <td>0.087105</td>\n",
              "      <td>0.074788</td>\n",
              "      <td>0.630812</td>\n",
              "      <td>0.697642</td>\n",
              "    </tr>\n",
              "    <tr>\n",
              "      <th>MAJ</th>\n",
              "      <td>0.211840</td>\n",
              "      <td>0.088727</td>\n",
              "      <td>0.192410</td>\n",
              "      <td>1.000000</td>\n",
              "      <td>0.155056</td>\n",
              "      <td>0.066535</td>\n",
              "      <td>0.663104</td>\n",
              "      <td>0.623185</td>\n",
              "    </tr>\n",
              "    <tr>\n",
              "      <th>EXCLA</th>\n",
              "      <td>0.189722</td>\n",
              "      <td>0.111746</td>\n",
              "      <td>0.087105</td>\n",
              "      <td>0.155056</td>\n",
              "      <td>1.000000</td>\n",
              "      <td>0.099434</td>\n",
              "      <td>0.395516</td>\n",
              "      <td>0.317318</td>\n",
              "    </tr>\n",
              "    <tr>\n",
              "      <th>QUEST</th>\n",
              "      <td>0.164161</td>\n",
              "      <td>0.045457</td>\n",
              "      <td>0.074788</td>\n",
              "      <td>0.066535</td>\n",
              "      <td>0.099434</td>\n",
              "      <td>1.000000</td>\n",
              "      <td>0.464493</td>\n",
              "      <td>0.230356</td>\n",
              "    </tr>\n",
              "    <tr>\n",
              "      <th>TOX</th>\n",
              "      <td>0.447659</td>\n",
              "      <td>0.388699</td>\n",
              "      <td>0.630812</td>\n",
              "      <td>0.663104</td>\n",
              "      <td>0.395516</td>\n",
              "      <td>0.464493</td>\n",
              "      <td>1.000000</td>\n",
              "      <td>0.953986</td>\n",
              "    </tr>\n",
              "    <tr>\n",
              "      <th>TOX2</th>\n",
              "      <td>0.501910</td>\n",
              "      <td>0.513285</td>\n",
              "      <td>0.697642</td>\n",
              "      <td>0.623185</td>\n",
              "      <td>0.317318</td>\n",
              "      <td>0.230356</td>\n",
              "      <td>0.953986</td>\n",
              "      <td>1.000000</td>\n",
              "    </tr>\n",
              "  </tbody>\n",
              "</table>\n",
              "</div>"
            ],
            "text/plain": [
              "              MOT   INSULTE     ALLON  ...     QUEST       TOX      TOX2\n",
              "MOT      1.000000  0.246022  0.191381  ...  0.164161  0.447659  0.501910\n",
              "INSULTE  0.246022  1.000000  0.029562  ...  0.045457  0.388699  0.513285\n",
              "ALLON    0.191381  0.029562  1.000000  ...  0.074788  0.630812  0.697642\n",
              "MAJ      0.211840  0.088727  0.192410  ...  0.066535  0.663104  0.623185\n",
              "EXCLA    0.189722  0.111746  0.087105  ...  0.099434  0.395516  0.317318\n",
              "QUEST    0.164161  0.045457  0.074788  ...  1.000000  0.464493  0.230356\n",
              "TOX      0.447659  0.388699  0.630812  ...  0.464493  1.000000  0.953986\n",
              "TOX2     0.501910  0.513285  0.697642  ...  0.230356  0.953986  1.000000\n",
              "\n",
              "[8 rows x 8 columns]"
            ]
          },
          "metadata": {
            "tags": []
          },
          "execution_count": 141
        }
      ]
    },
    {
      "cell_type": "markdown",
      "metadata": {
        "id": "T6-tPv5jD3wS"
      },
      "source": [
        "Nous sommes contents de ce nouvel indice de toxicité. En effet, les insultes sont maintenant plus corrélées avec cet indice que précedemment, et les questions presque 2 fois moins !\n",
        "Nous allons donc continuer avec ce nouvel indice (La video la plus toxique : https://www.youtube.com/watch?v=Bzd1qAb582Q&ab_channel=CNEWS (violence à Nantes et vidéo de combat)"
      ]
    },
    {
      "cell_type": "markdown",
      "metadata": {
        "id": "KlMeBGRYD5yM"
      },
      "source": [
        "Nous enlevons maintenant l'ancien indice de toxicité pour notre étude de clustering "
      ]
    },
    {
      "cell_type": "code",
      "metadata": {
        "id": "Ia22gUnMEDmz",
        "colab": {
          "base_uri": "https://localhost:8080/",
          "height": 419
        },
        "outputId": "ba817c7a-26e8-483e-9aa8-5f9309fdccd7"
      },
      "source": [
        "tox3 = tox2.drop( columns = 'TOX')\n",
        "tox3"
      ],
      "execution_count": null,
      "outputs": [
        {
          "output_type": "execute_result",
          "data": {
            "text/html": [
              "<div>\n",
              "<style scoped>\n",
              "    .dataframe tbody tr th:only-of-type {\n",
              "        vertical-align: middle;\n",
              "    }\n",
              "\n",
              "    .dataframe tbody tr th {\n",
              "        vertical-align: top;\n",
              "    }\n",
              "\n",
              "    .dataframe thead th {\n",
              "        text-align: right;\n",
              "    }\n",
              "</style>\n",
              "<table border=\"1\" class=\"dataframe\">\n",
              "  <thead>\n",
              "    <tr style=\"text-align: right;\">\n",
              "      <th></th>\n",
              "      <th>MOT</th>\n",
              "      <th>INSULTE</th>\n",
              "      <th>ALLON</th>\n",
              "      <th>MAJ</th>\n",
              "      <th>EXCLA</th>\n",
              "      <th>QUEST</th>\n",
              "      <th>TOX2</th>\n",
              "    </tr>\n",
              "  </thead>\n",
              "  <tbody>\n",
              "    <tr>\n",
              "      <th>0</th>\n",
              "      <td>1.310117</td>\n",
              "      <td>1.263725</td>\n",
              "      <td>0.706583</td>\n",
              "      <td>2.541088</td>\n",
              "      <td>1.123055</td>\n",
              "      <td>2.542750</td>\n",
              "      <td>1.470889</td>\n",
              "    </tr>\n",
              "    <tr>\n",
              "      <th>1</th>\n",
              "      <td>0.404064</td>\n",
              "      <td>5.897387</td>\n",
              "      <td>0.000000</td>\n",
              "      <td>0.736039</td>\n",
              "      <td>0.000000</td>\n",
              "      <td>0.000000</td>\n",
              "      <td>1.705972</td>\n",
              "    </tr>\n",
              "    <tr>\n",
              "      <th>2</th>\n",
              "      <td>1.193370</td>\n",
              "      <td>4.358938</td>\n",
              "      <td>1.451567</td>\n",
              "      <td>0.896048</td>\n",
              "      <td>0.973479</td>\n",
              "      <td>2.089477</td>\n",
              "      <td>2.074288</td>\n",
              "    </tr>\n",
              "    <tr>\n",
              "      <th>3</th>\n",
              "      <td>0.086585</td>\n",
              "      <td>0.000000</td>\n",
              "      <td>11.128684</td>\n",
              "      <td>2.208117</td>\n",
              "      <td>0.000000</td>\n",
              "      <td>0.000000</td>\n",
              "      <td>2.582930</td>\n",
              "    </tr>\n",
              "    <tr>\n",
              "      <th>4</th>\n",
              "      <td>1.387246</td>\n",
              "      <td>1.153837</td>\n",
              "      <td>0.967712</td>\n",
              "      <td>1.728092</td>\n",
              "      <td>0.389392</td>\n",
              "      <td>1.392985</td>\n",
              "      <td>1.265977</td>\n",
              "    </tr>\n",
              "    <tr>\n",
              "      <th>...</th>\n",
              "      <td>...</td>\n",
              "      <td>...</td>\n",
              "      <td>...</td>\n",
              "      <td>...</td>\n",
              "      <td>...</td>\n",
              "      <td>...</td>\n",
              "      <td>...</td>\n",
              "    </tr>\n",
              "    <tr>\n",
              "      <th>46097</th>\n",
              "      <td>0.230894</td>\n",
              "      <td>0.000000</td>\n",
              "      <td>0.000000</td>\n",
              "      <td>0.000000</td>\n",
              "      <td>1.791202</td>\n",
              "      <td>0.000000</td>\n",
              "      <td>0.248388</td>\n",
              "    </tr>\n",
              "    <tr>\n",
              "      <th>46098</th>\n",
              "      <td>9.870717</td>\n",
              "      <td>8.846080</td>\n",
              "      <td>22.257369</td>\n",
              "      <td>0.000000</td>\n",
              "      <td>0.000000</td>\n",
              "      <td>5.339776</td>\n",
              "      <td>9.891198</td>\n",
              "    </tr>\n",
              "    <tr>\n",
              "      <th>46099</th>\n",
              "      <td>1.553123</td>\n",
              "      <td>2.211520</td>\n",
              "      <td>0.000000</td>\n",
              "      <td>0.828044</td>\n",
              "      <td>0.447801</td>\n",
              "      <td>0.000000</td>\n",
              "      <td>1.187803</td>\n",
              "    </tr>\n",
              "    <tr>\n",
              "      <th>46100</th>\n",
              "      <td>2.539834</td>\n",
              "      <td>0.000000</td>\n",
              "      <td>0.000000</td>\n",
              "      <td>0.000000</td>\n",
              "      <td>3.582404</td>\n",
              "      <td>5.339776</td>\n",
              "      <td>1.387179</td>\n",
              "    </tr>\n",
              "    <tr>\n",
              "      <th>46101</th>\n",
              "      <td>0.974260</td>\n",
              "      <td>1.821957</td>\n",
              "      <td>1.990496</td>\n",
              "      <td>1.002330</td>\n",
              "      <td>0.429597</td>\n",
              "      <td>1.295149</td>\n",
              "      <td>1.403933</td>\n",
              "    </tr>\n",
              "  </tbody>\n",
              "</table>\n",
              "<p>46102 rows × 7 columns</p>\n",
              "</div>"
            ],
            "text/plain": [
              "            MOT   INSULTE      ALLON       MAJ     EXCLA     QUEST      TOX2\n",
              "0      1.310117  1.263725   0.706583  2.541088  1.123055  2.542750  1.470889\n",
              "1      0.404064  5.897387   0.000000  0.736039  0.000000  0.000000  1.705972\n",
              "2      1.193370  4.358938   1.451567  0.896048  0.973479  2.089477  2.074288\n",
              "3      0.086585  0.000000  11.128684  2.208117  0.000000  0.000000  2.582930\n",
              "4      1.387246  1.153837   0.967712  1.728092  0.389392  1.392985  1.265977\n",
              "...         ...       ...        ...       ...       ...       ...       ...\n",
              "46097  0.230894  0.000000   0.000000  0.000000  1.791202  0.000000  0.248388\n",
              "46098  9.870717  8.846080  22.257369  0.000000  0.000000  5.339776  9.891198\n",
              "46099  1.553123  2.211520   0.000000  0.828044  0.447801  0.000000  1.187803\n",
              "46100  2.539834  0.000000   0.000000  0.000000  3.582404  5.339776  1.387179\n",
              "46101  0.974260  1.821957   1.990496  1.002330  0.429597  1.295149  1.403933\n",
              "\n",
              "[46102 rows x 7 columns]"
            ]
          },
          "metadata": {
            "tags": []
          },
          "execution_count": 142
        }
      ]
    },
    {
      "cell_type": "code",
      "metadata": {
        "id": "9wfFn0JpEIA7",
        "colab": {
          "base_uri": "https://localhost:8080/"
        },
        "outputId": "65d70e1a-f67f-4075-e983-4838c60101d6"
      },
      "source": [
        "#We are going to compare and trace in 2D Score and GDP per capita because in the box we can see some cluster\n",
        "tox4 = tox3.drop(['MOT'], axis=1) \n",
        "tox5 = tox4.drop(['INSULTE'], axis=1)\n",
        "tox6 = tox5.drop(['ALLON'], axis=1) \n",
        "tox7 = tox6.drop(['MAJ'], axis=1) \n",
        "tox8 = tox7.drop(['EXCLA'], axis=1) \n",
        "tox9 = tox8.drop(['QUEST'], axis=1) \n",
        "\n",
        "range_n_clusters = [2, 3, 4, 5,6]\n",
        "for n in range_n_clusters:\n",
        "    clusterer = KMeans(n_clusters=n, n_init=10).fit(tox3) # Clustering with the given number of clusters\n",
        "    cluster_labels = clusterer.labels_ # Extract the labels\n",
        "    silhouette_avg = silhouette_score(tox2, cluster_labels)\n",
        "    print(\"For n =\", n, \"Silhouette_score:\", silhouette_avg)"
      ],
      "execution_count": null,
      "outputs": [
        {
          "output_type": "stream",
          "text": [
            "For n = 2 Silhouette_score: 0.9420866961151468\n",
            "For n = 3 Silhouette_score: 0.7627524517153932\n",
            "For n = 4 Silhouette_score: 0.7596899921793933\n",
            "For n = 5 Silhouette_score: 0.6480089952871043\n",
            "For n = 6 Silhouette_score: 0.7037089001987413\n"
          ],
          "name": "stdout"
        }
      ]
    },
    {
      "cell_type": "markdown",
      "metadata": {
        "id": "-4T01ewWFMXn"
      },
      "source": [
        "Pour vérifier, à titre indicatif, on a bien comme avant un meilleur \"Silhouette_score\""
      ]
    },
    {
      "cell_type": "code",
      "metadata": {
        "id": "2mm2WD6-EwgM"
      },
      "source": [
        "model = KMeans(2).fit(tox3)"
      ],
      "execution_count": null,
      "outputs": []
    },
    {
      "cell_type": "code",
      "metadata": {
        "id": "_CkOvTbfExjI",
        "colab": {
          "base_uri": "https://localhost:8080/"
        },
        "outputId": "18f79f4c-f739-4298-944b-dca0099fb00d"
      },
      "source": [
        "print(model.cluster_centers_)"
      ],
      "execution_count": null,
      "outputs": [
        {
          "output_type": "stream",
          "text": [
            "[[  1.08487096   1.66298225   1.7365677    1.0501389    1.12324096\n",
            "    1.46497226   1.43161393]\n",
            " [  5.36225271   6.69264251  31.95126317 115.47183371   6.92840529\n",
            "    6.03688672  27.987549  ]]\n"
          ],
          "name": "stdout"
        }
      ]
    },
    {
      "cell_type": "code",
      "metadata": {
        "id": "2-V_sDfUE1DG"
      },
      "source": [
        "X = tox3.values\n",
        "std_scale = preprocessing.StandardScaler().fit(X)\n",
        "X_scaled = std_scale.transform(X)"
      ],
      "execution_count": null,
      "outputs": []
    },
    {
      "cell_type": "code",
      "metadata": {
        "id": "IPmBkaLHE6Dt",
        "colab": {
          "base_uri": "https://localhost:8080/"
        },
        "outputId": "41e500c7-1e79-445a-a457-5dfa84400200"
      },
      "source": [
        "np.mean(X, axis=0), np.var(X, axis=0)"
      ],
      "execution_count": null,
      "outputs": [
        {
          "output_type": "execute_result",
          "data": {
            "text/plain": [
              "(array([1.09377792, 1.67345571, 1.79948495, 1.28840367, 1.13532928,\n",
              "        1.47449254, 1.4869124 ]),\n",
              " array([ 1.91671494, 15.45095372, 46.36974744, 47.28888242,  8.21820179,\n",
              "        25.75150485,  6.028098  ]))"
            ]
          },
          "metadata": {
            "tags": []
          },
          "execution_count": 150
        }
      ]
    },
    {
      "cell_type": "code",
      "metadata": {
        "id": "ZiNYJW4EE6oG",
        "colab": {
          "base_uri": "https://localhost:8080/"
        },
        "outputId": "08b30f51-6c98-488d-adac-c65d9d1f8ba0"
      },
      "source": [
        "np.mean(X_scaled, axis=0), np.var(X_scaled, axis=0)"
      ],
      "execution_count": null,
      "outputs": [
        {
          "output_type": "execute_result",
          "data": {
            "text/plain": [
              "(array([ 1.06037352e-16,  1.84948871e-17,  6.10331273e-17, -1.27152348e-17,\n",
              "        -1.35629172e-17, -2.28103607e-17, -1.41794134e-17]),\n",
              " array([1., 1., 1., 1., 1., 1., 1.]))"
            ]
          },
          "metadata": {
            "tags": []
          },
          "execution_count": 151
        }
      ]
    },
    {
      "cell_type": "code",
      "metadata": {
        "id": "OAZ3H-DwE91a"
      },
      "source": [
        "pca = PCA().fit(X_scaled[:,:7])"
      ],
      "execution_count": null,
      "outputs": []
    },
    {
      "cell_type": "code",
      "metadata": {
        "id": "rtGtTQ6JFA0A"
      },
      "source": [
        "X_proj = pca.transform(X_scaled[:,:7])"
      ],
      "execution_count": null,
      "outputs": []
    },
    {
      "cell_type": "code",
      "metadata": {
        "id": "rAkgQy7FFXF9",
        "colab": {
          "base_uri": "https://localhost:8080/",
          "height": 281
        },
        "outputId": "3f723d4c-dbfc-4e6f-fbca-fc0cdc118002"
      },
      "source": [
        "_, axes = plt.subplots(ncols=8, figsize=(16,4))\n",
        "for i, (ax, col) in enumerate(zip(axes, ['MOT', 'INSULTE', 'ALLON', 'MAJ',\n",
        "       'EXCLA', 'QUEST', 'TOX2',])):\n",
        "    ax.scatter(X_proj[:,0], tox3[col])\n",
        "    ax.set_title(f'1st component vs {col}')"
      ],
      "execution_count": null,
      "outputs": [
        {
          "output_type": "display_data",
          "data": {
            "image/png": "[encoded data removed]",
            "text/plain": [
              "<Figure size 1152x288 with 8 Axes>"
            ]
          },
          "metadata": {
            "tags": [],
            "needs_background": "light"
          }
        }
      ]
    },
    {
      "cell_type": "markdown",
      "metadata": {
        "id": "y6gv-nHcFrTa"
      },
      "source": [
        "Pour la première composante, on remarque qu'elle est fortement corrélée avec TOX2"
      ]
    },
    {
      "cell_type": "code",
      "metadata": {
        "id": "Xu_ytg4oFbIM",
        "colab": {
          "base_uri": "https://localhost:8080/",
          "height": 281
        },
        "outputId": "7cf42df3-32f7-4354-9581-e0d137fab38c"
      },
      "source": [
        "_, axes = plt.subplots(ncols=8, figsize=(16,4))\n",
        "for i, (ax, col) in enumerate(zip(axes, ['MOT', 'INSULTE', 'ALLON', 'MAJ',\n",
        "       'EXCLA', 'QUEST', 'TOX2',])):\n",
        "    ax.scatter(X_proj[:,1], tox3[col])\n",
        "    ax.set_title(f'1st component vs {col}')"
      ],
      "execution_count": null,
      "outputs": [
        {
          "output_type": "display_data",
          "data": {
            "image/png": "[encoded data removed]",
            "text/plain": [
              "<Figure size 1152x288 with 8 Axes>"
            ]
          },
          "metadata": {
            "tags": [],
            "needs_background": "light"
          }
        }
      ]
    },
    {
      "cell_type": "markdown",
      "metadata": {
        "id": "_qQXkXkyF5eT"
      },
      "source": [
        "Quant à la deuxième composante principale, elle est  corrélée (négativement) à le nombre d'insultes.(parasitée par des 0)"
      ]
    },
    {
      "cell_type": "code",
      "metadata": {
        "id": "JywzjmKbGff2",
        "colab": {
          "base_uri": "https://localhost:8080/",
          "height": 300
        },
        "outputId": "9edb7957-1275-406c-a9c2-b907b3c0d5f1"
      },
      "source": [
        "plt.scatter(X_proj[:,0], X_proj[:,1], c =tox3['TOX2'])\n",
        "plt.xlabel('1st principal component')\n",
        "plt.ylabel('2nd principal component')\n",
        "plt.xlim(-100, 100)\n",
        "plt.ylim(-100, 100)"
      ],
      "execution_count": null,
      "outputs": [
        {
          "output_type": "execute_result",
          "data": {
            "text/plain": [
              "(-100.0, 100.0)"
            ]
          },
          "metadata": {
            "tags": []
          },
          "execution_count": 159
        },
        {
          "output_type": "display_data",
          "data": {
            "image/png": "[encoded data removed]",
            "text/plain": [
              "<Figure size 432x288 with 1 Axes>"
            ]
          },
          "metadata": {
            "tags": [],
            "needs_background": "light"
          }
        }
      ]
    },
    {
      "cell_type": "markdown",
      "metadata": {
        "id": "vkhhwHtmGjFg"
      },
      "source": [
        "Ainsi, on voit surtout que les données sont concentrées sur le 0, dû aux nombreux zéros comme expliqué précedemment. \n",
        "Nos notes étant obtenues sur 10, nous pourrions effectuer une classification assez simple, mais efficace et logique : \n",
        "- Entre 0 et 3.33, la vidéo peut être considérée comme faiblement toxique\n",
        "- Entre 3.34 et 6.66,la vidéo peut être considérée comme moyennement toxique \n",
        "- Entre 6.67 et 10, la vidéo peut être considérée comme fortement toxique\n",
        "\n",
        "Le score de Silhouette étant supérieur à 0.75, ce choix est pertinent. Nous aurions bien sur pu prendre 2 clusters car le score était très haut, mais autant avoir plus de catégories d'un point de vue utilitaire (plus d'informations avec ces 3 catégories"
      ]
    },
    {
      "cell_type": "code",
      "metadata": {
        "id": "4OPV86a6Gm-b",
        "colab": {
          "base_uri": "https://localhost:8080/",
          "height": 419
        },
        "outputId": "70c49450-2e5c-4c12-a353-5cef672ff1a2"
      },
      "source": [
        "tox3['TOXCAT']= np.where(tox3['TOX2'] <= 3.33, \"faible\",np.where( (tox3['TOX2'] >=3.34 )& (tox3['TOX2'] <=6.66),\"moyen\",\"fort\"))\n",
        "tox3"
      ],
      "execution_count": null,
      "outputs": [
        {
          "output_type": "execute_result",
          "data": {
            "text/html": [
              "<div>\n",
              "<style scoped>\n",
              "    .dataframe tbody tr th:only-of-type {\n",
              "        vertical-align: middle;\n",
              "    }\n",
              "\n",
              "    .dataframe tbody tr th {\n",
              "        vertical-align: top;\n",
              "    }\n",
              "\n",
              "    .dataframe thead th {\n",
              "        text-align: right;\n",
              "    }\n",
              "</style>\n",
              "<table border=\"1\" class=\"dataframe\">\n",
              "  <thead>\n",
              "    <tr style=\"text-align: right;\">\n",
              "      <th></th>\n",
              "      <th>MOT</th>\n",
              "      <th>INSULTE</th>\n",
              "      <th>ALLON</th>\n",
              "      <th>MAJ</th>\n",
              "      <th>EXCLA</th>\n",
              "      <th>QUEST</th>\n",
              "      <th>TOX2</th>\n",
              "      <th>TOXCAT</th>\n",
              "    </tr>\n",
              "  </thead>\n",
              "  <tbody>\n",
              "    <tr>\n",
              "      <th>0</th>\n",
              "      <td>1.310117</td>\n",
              "      <td>1.263725</td>\n",
              "      <td>0.706583</td>\n",
              "      <td>2.541088</td>\n",
              "      <td>1.123055</td>\n",
              "      <td>2.542750</td>\n",
              "      <td>1.470889</td>\n",
              "      <td>faible</td>\n",
              "    </tr>\n",
              "    <tr>\n",
              "      <th>1</th>\n",
              "      <td>0.404064</td>\n",
              "      <td>5.897387</td>\n",
              "      <td>0.000000</td>\n",
              "      <td>0.736039</td>\n",
              "      <td>0.000000</td>\n",
              "      <td>0.000000</td>\n",
              "      <td>1.705972</td>\n",
              "      <td>faible</td>\n",
              "    </tr>\n",
              "    <tr>\n",
              "      <th>2</th>\n",
              "      <td>1.193370</td>\n",
              "      <td>4.358938</td>\n",
              "      <td>1.451567</td>\n",
              "      <td>0.896048</td>\n",
              "      <td>0.973479</td>\n",
              "      <td>2.089477</td>\n",
              "      <td>2.074288</td>\n",
              "      <td>faible</td>\n",
              "    </tr>\n",
              "    <tr>\n",
              "      <th>3</th>\n",
              "      <td>0.086585</td>\n",
              "      <td>0.000000</td>\n",
              "      <td>11.128684</td>\n",
              "      <td>2.208117</td>\n",
              "      <td>0.000000</td>\n",
              "      <td>0.000000</td>\n",
              "      <td>2.582930</td>\n",
              "      <td>faible</td>\n",
              "    </tr>\n",
              "    <tr>\n",
              "      <th>4</th>\n",
              "      <td>1.387246</td>\n",
              "      <td>1.153837</td>\n",
              "      <td>0.967712</td>\n",
              "      <td>1.728092</td>\n",
              "      <td>0.389392</td>\n",
              "      <td>1.392985</td>\n",
              "      <td>1.265977</td>\n",
              "      <td>faible</td>\n",
              "    </tr>\n",
              "    <tr>\n",
              "      <th>...</th>\n",
              "      <td>...</td>\n",
              "      <td>...</td>\n",
              "      <td>...</td>\n",
              "      <td>...</td>\n",
              "      <td>...</td>\n",
              "      <td>...</td>\n",
              "      <td>...</td>\n",
              "      <td>...</td>\n",
              "    </tr>\n",
              "    <tr>\n",
              "      <th>46097</th>\n",
              "      <td>0.230894</td>\n",
              "      <td>0.000000</td>\n",
              "      <td>0.000000</td>\n",
              "      <td>0.000000</td>\n",
              "      <td>1.791202</td>\n",
              "      <td>0.000000</td>\n",
              "      <td>0.248388</td>\n",
              "      <td>faible</td>\n",
              "    </tr>\n",
              "    <tr>\n",
              "      <th>46098</th>\n",
              "      <td>9.870717</td>\n",
              "      <td>8.846080</td>\n",
              "      <td>22.257369</td>\n",
              "      <td>0.000000</td>\n",
              "      <td>0.000000</td>\n",
              "      <td>5.339776</td>\n",
              "      <td>9.891198</td>\n",
              "      <td>fort</td>\n",
              "    </tr>\n",
              "    <tr>\n",
              "      <th>46099</th>\n",
              "      <td>1.553123</td>\n",
              "      <td>2.211520</td>\n",
              "      <td>0.000000</td>\n",
              "      <td>0.828044</td>\n",
              "      <td>0.447801</td>\n",
              "      <td>0.000000</td>\n",
              "      <td>1.187803</td>\n",
              "      <td>faible</td>\n",
              "    </tr>\n",
              "    <tr>\n",
              "      <th>46100</th>\n",
              "      <td>2.539834</td>\n",
              "      <td>0.000000</td>\n",
              "      <td>0.000000</td>\n",
              "      <td>0.000000</td>\n",
              "      <td>3.582404</td>\n",
              "      <td>5.339776</td>\n",
              "      <td>1.387179</td>\n",
              "      <td>faible</td>\n",
              "    </tr>\n",
              "    <tr>\n",
              "      <th>46101</th>\n",
              "      <td>0.974260</td>\n",
              "      <td>1.821957</td>\n",
              "      <td>1.990496</td>\n",
              "      <td>1.002330</td>\n",
              "      <td>0.429597</td>\n",
              "      <td>1.295149</td>\n",
              "      <td>1.403933</td>\n",
              "      <td>faible</td>\n",
              "    </tr>\n",
              "  </tbody>\n",
              "</table>\n",
              "<p>46102 rows × 8 columns</p>\n",
              "</div>"
            ],
            "text/plain": [
              "            MOT   INSULTE      ALLON  ...     QUEST      TOX2  TOXCAT\n",
              "0      1.310117  1.263725   0.706583  ...  2.542750  1.470889  faible\n",
              "1      0.404064  5.897387   0.000000  ...  0.000000  1.705972  faible\n",
              "2      1.193370  4.358938   1.451567  ...  2.089477  2.074288  faible\n",
              "3      0.086585  0.000000  11.128684  ...  0.000000  2.582930  faible\n",
              "4      1.387246  1.153837   0.967712  ...  1.392985  1.265977  faible\n",
              "...         ...       ...        ...  ...       ...       ...     ...\n",
              "46097  0.230894  0.000000   0.000000  ...  0.000000  0.248388  faible\n",
              "46098  9.870717  8.846080  22.257369  ...  5.339776  9.891198    fort\n",
              "46099  1.553123  2.211520   0.000000  ...  0.000000  1.187803  faible\n",
              "46100  2.539834  0.000000   0.000000  ...  5.339776  1.387179  faible\n",
              "46101  0.974260  1.821957   1.990496  ...  1.295149  1.403933  faible\n",
              "\n",
              "[46102 rows x 8 columns]"
            ]
          },
          "metadata": {
            "tags": []
          },
          "execution_count": 161
        }
      ]
    },
    {
      "cell_type": "markdown",
      "metadata": {
        "id": "ZGV6xG5PGvG1"
      },
      "source": [
        "On a ainsi une classification des vidéos en fonction de leur toxicité, divisé en faible,moyen,fort et qui permet, si de nouvelles données sont entrées, de vérifier la toxicité d'une vidéo "
      ]
    },
    {
      "cell_type": "markdown",
      "metadata": {
        "id": "6IlvygEXVC7U"
      },
      "source": [
        "Nous allons maintenant proposer un modèle capable de prédire la toxicité d'une nouvelle vidéo.\n",
        "Pour cela nous allons séparer notre dataset tox2 (affiché ci-dessus) en une portion train et une portion test.\n",
        "On détermine ensuite notre colonne de label Y comme la dernière colonne du dataset, c'est à dire TOX2."
      ]
    },
    {
      "cell_type": "code",
      "metadata": {
        "id": "W6al-bdXQln7"
      },
      "source": [
        "traint=tox2.sample(frac=0.8,random_state=123) #must set a seed value in random_state option \n",
        "testt=tox2.drop(traint.index)"
      ],
      "execution_count": null,
      "outputs": []
    },
    {
      "cell_type": "code",
      "metadata": {
        "id": "QDHnOO6LQ2Z4"
      },
      "source": [
        "Ytraint = traint.iloc[:, -1] # last column \n",
        "Xtraint = traint.iloc[:,:-1] # all columns before the last\n",
        "Ytestt = testt.iloc[:, -1] # last column \n",
        "Xtestt = testt.iloc[:,:-1] # all columns before the last"
      ],
      "execution_count": null,
      "outputs": []
    },
    {
      "cell_type": "markdown",
      "metadata": {
        "id": "WnZtfu75Vubh"
      },
      "source": [
        "On applique ici la méthode de KNeighborsRegressor, on entraîne ce modèle sur notre portion train. Et on prédit la portion test à partir de ce modèle entraîné."
      ]
    },
    {
      "cell_type": "code",
      "metadata": {
        "id": "M_fiePHQP9nc",
        "colab": {
          "base_uri": "https://localhost:8080/"
        },
        "outputId": "a018456b-df2e-43dd-85aa-6022916e667b"
      },
      "source": [
        "clasKnn = KNeighborsRegressor(n_neighbors=3)\n",
        "clasKnn.fit(Xtraint, Ytraint)\n",
        "pred=clasKnn.predict(Xtestt)\n",
        "pred"
      ],
      "execution_count": null,
      "outputs": [
        {
          "output_type": "execute_result",
          "data": {
            "text/plain": [
              "array([1.51373417, 1.25346882, 0.14286563, ..., 3.89365994, 8.64869945,\n",
              "       1.17832956])"
            ]
          },
          "metadata": {
            "tags": []
          },
          "execution_count": 185
        }
      ]
    },
    {
      "cell_type": "code",
      "metadata": {
        "id": "tdJRzW8JRFjM",
        "colab": {
          "base_uri": "https://localhost:8080/"
        },
        "outputId": "2dc04601-3c4d-4390-c176-2f0761079c6f"
      },
      "source": [
        "final_mse = mean_squared_error(Ytestt, pred)\n",
        "final_rmse1 = np.sqrt(final_mse)\n",
        "final_rmse1"
      ],
      "execution_count": null,
      "outputs": [
        {
          "output_type": "execute_result",
          "data": {
            "text/plain": [
              "0.38833274183100724"
            ]
          },
          "metadata": {
            "tags": []
          },
          "execution_count": 186
        }
      ]
    },
    {
      "cell_type": "code",
      "metadata": {
        "id": "CjwdcmhWTllB",
        "colab": {
          "base_uri": "https://localhost:8080/"
        },
        "outputId": "7dd24549-21a9-4b2e-b46a-a9fae29a0769"
      },
      "source": [
        "clasKnn.score(Xtestt, Ytestt)"
      ],
      "execution_count": null,
      "outputs": [
        {
          "output_type": "execute_result",
          "data": {
            "text/plain": [
              "0.9698796742812434"
            ]
          },
          "metadata": {
            "tags": []
          },
          "execution_count": 206
        }
      ]
    },
    {
      "cell_type": "markdown",
      "metadata": {
        "id": "lPizsT17WHjb"
      },
      "source": [
        "Notre modèle de prédiction a un score de 0,97, ce qui est très performant. D'après la métrique MSE, on obtient un écart moyen de 0,39 entre l'indice de toxicité prédit et le véritable."
      ]
    },
    {
      "cell_type": "markdown",
      "metadata": {
        "id": "LbKdKIaPWzqj"
      },
      "source": [
        "#Conclusion"
      ]
    },
    {
      "cell_type": "markdown",
      "metadata": {
        "id": "5e3EzpGvW2cZ"
      },
      "source": [
        "En somme, nous avons étudié un dataset comportant une multitude de données (27) portant sur les caractéristiques d'une vidéo youtube. Certaines de ces données se sont révelées inutiles (id_video par exemple) et d'autres peu utiles (categ_inst par exemple).\n",
        "\n",
        "Ces données nous ont permis dans un premier temps de créer plusieurs modèles prédictifs du nombre d'insultes dans une vidéo. Ces modèles (Random Forest, Logistic Regression,...) ont obtenu un score tous relativement proche (entre 0,6 et 0,79). Ces scores nous ont paru plutôt bons mais nous avons essayé d'améliorer la prédiction en créant une nouvelle variable : groupe. Ces groupes englobent un nombre d'insultes (0 à 4 ou encore 100 à 200). Nous avons adapté un de nos modèles (MLP) pour observer l'évolution du score et avons remarqué une nette amélioration de ce score, passant de 0,75 à 0,95. Ainsi, grâce à ce modèle, nous pouvons prédire à partir des variables données une approximation relativement précise du nombre d'insultes qu'une vidéo aura en commentaire.\n",
        "\n",
        "Par la suite, nous avons élaboré la toxicité d'une vidéo. Par toxicité nous entendons le caractère d'une vidéo pouvant attiser la haine et dans laquelle le débat des commentaires semble peut constructif. Cette toxicité se base, comme énoncé précedemment, sur les moyennes du nombre d'insultes, le nombre de points d'exclamation, etc par commentaire. Chacune de ces variables possède un poids différent en fonction de la pertinence que nous leur avons accordée. Cette toxicité est notée de 0 à 10 : ainsi 3 catégories peuvent se démarquer les unes des autres (toxicité entre 0 et 3,33 , 3,34 à 6,66 et 6,67 à 10).\n",
        "Nous avons ensuite mis au point un modèle capable de prédire cet indice de toxicité pour notre dataset."
      ]
    }
  ]
}